{
 "cells": [
  {
   "cell_type": "markdown",
   "id": "a31a5adc-de88-4bfd-9130-cecb596ec303",
   "metadata": {},
   "source": [
    "# Olasılıksal Dil Modelleri (Modeling)"
   ]
  },
  {
   "cell_type": "markdown",
   "id": "6d760fb8-eb33-4f5c-ba62-6378002c8753",
   "metadata": {},
   "source": [
    "### 1)N-Gram Modelleri"
   ]
  },
  {
   "cell_type": "code",
   "execution_count": 3,
   "id": "56224b5a-a64c-4f91-9421-a6adc6af79a5",
   "metadata": {},
   "outputs": [],
   "source": [
    "import nltk \n",
    "from nltk.util import ngrams\n",
    "from nltk.tokenize import word_tokenize \n",
    "from collections import Counter"
   ]
  },
  {
   "cell_type": "markdown",
   "id": "039e3d88-2eee-4761-b194-d708212603fa",
   "metadata": {},
   "source": [
    "**Örnek Veri Seti Oluşturma**"
   ]
  },
  {
   "cell_type": "code",
   "execution_count": 2,
   "id": "cca8454b-0609-4027-b774-a4d7ea41de3e",
   "metadata": {},
   "outputs": [],
   "source": [
    "corpus = [\n",
    "    \"I love apple\",\n",
    "    \"I love him\",\n",
    "    \"I love NLP\",\n",
    "    \"You love me\",\n",
    "    \"He loves apple\",\n",
    "    \"They love apple\",\n",
    "    \"I love you and you love me\"\n",
    "]"
   ]
  },
  {
   "cell_type": "markdown",
   "id": "66311881-460a-4eea-9446-edc31524bb83",
   "metadata": {},
   "source": [
    "Dil modeli yapmak istiyoruz. Amaç 1 kelimeden sonra gelecek kelimeyi tahmin etmek : metin türetmek/oluşturmak bunun için n-gram dil modeli \n",
    "kullanacağız."
   ]
  },
  {
   "cell_type": "markdown",
   "id": "fdee6892-87b6-4665-906b-eeb8d454c392",
   "metadata": {},
   "source": [
    "**Verileri Tokenize Hale Getirme**"
   ]
  },
  {
   "cell_type": "code",
   "execution_count": 4,
   "id": "60f0f16b-de89-4fbf-bc59-0c2561144777",
   "metadata": {},
   "outputs": [
    {
     "data": {
      "text/plain": [
       "[['i', 'love', 'apple'],\n",
       " ['i', 'love', 'him'],\n",
       " ['i', 'love', 'nlp'],\n",
       " ['you', 'love', 'me'],\n",
       " ['he', 'loves', 'apple'],\n",
       " ['they', 'love', 'apple'],\n",
       " ['i', 'love', 'you', 'and', 'you', 'love', 'me']]"
      ]
     },
     "execution_count": 4,
     "metadata": {},
     "output_type": "execute_result"
    }
   ],
   "source": [
    "tokens = [word_tokenize(sentence.lower()) for sentence in corpus]\n",
    "tokens"
   ]
  },
  {
   "cell_type": "markdown",
   "id": "4d6671b4-b1b1-4714-a376-73a1807dc690",
   "metadata": {},
   "source": [
    "**Bigram (2'li)kelime grupları oluşturma**"
   ]
  },
  {
   "cell_type": "code",
   "execution_count": 5,
   "id": "5dc49a22-f418-4e78-84db-e82bd7c90944",
   "metadata": {},
   "outputs": [
    {
     "data": {
      "text/plain": [
       "[('i', 'love'),\n",
       " ('love', 'apple'),\n",
       " ('i', 'love'),\n",
       " ('love', 'him'),\n",
       " ('i', 'love'),\n",
       " ('love', 'nlp'),\n",
       " ('you', 'love'),\n",
       " ('love', 'me'),\n",
       " ('he', 'loves'),\n",
       " ('loves', 'apple'),\n",
       " ('they', 'love'),\n",
       " ('love', 'apple'),\n",
       " ('i', 'love'),\n",
       " ('love', 'you'),\n",
       " ('you', 'and'),\n",
       " ('and', 'you'),\n",
       " ('you', 'love'),\n",
       " ('love', 'me')]"
      ]
     },
     "execution_count": 5,
     "metadata": {},
     "output_type": "execute_result"
    }
   ],
   "source": [
    "bigrams = []\n",
    "for token_list in tokens:\n",
    "    bigrams.extend(list(ngrams(token_list,2)))\n",
    "bigrams"
   ]
  },
  {
   "cell_type": "code",
   "execution_count": 6,
   "id": "f4034908-e71a-4fc4-a471-39c3edbfb41a",
   "metadata": {},
   "outputs": [
    {
     "data": {
      "text/plain": [
       "Counter({('i', 'love'): 4,\n",
       "         ('love', 'apple'): 2,\n",
       "         ('you', 'love'): 2,\n",
       "         ('love', 'me'): 2,\n",
       "         ('love', 'him'): 1,\n",
       "         ('love', 'nlp'): 1,\n",
       "         ('he', 'loves'): 1,\n",
       "         ('loves', 'apple'): 1,\n",
       "         ('they', 'love'): 1,\n",
       "         ('love', 'you'): 1,\n",
       "         ('you', 'and'): 1,\n",
       "         ('and', 'you'): 1})"
      ]
     },
     "execution_count": 6,
     "metadata": {},
     "output_type": "execute_result"
    }
   ],
   "source": [
    "bigrams_freq = Counter(bigrams)\n",
    "bigrams_freq"
   ]
  },
  {
   "cell_type": "markdown",
   "id": "8b26fdea-4d54-40d1-916f-d453d00be0de",
   "metadata": {},
   "source": [
    "**Trigrams (3'lü) Liste Oluşturma**"
   ]
  },
  {
   "cell_type": "code",
   "execution_count": 7,
   "id": "47628c9a-da93-4a17-b55a-6b4a363db703",
   "metadata": {},
   "outputs": [
    {
     "data": {
      "text/plain": [
       "[('i', 'love', 'apple'),\n",
       " ('i', 'love', 'him'),\n",
       " ('i', 'love', 'nlp'),\n",
       " ('you', 'love', 'me'),\n",
       " ('he', 'loves', 'apple'),\n",
       " ('they', 'love', 'apple'),\n",
       " ('i', 'love', 'you'),\n",
       " ('love', 'you', 'and'),\n",
       " ('you', 'and', 'you'),\n",
       " ('and', 'you', 'love'),\n",
       " ('you', 'love', 'me')]"
      ]
     },
     "execution_count": 7,
     "metadata": {},
     "output_type": "execute_result"
    }
   ],
   "source": [
    "trigrams = []\n",
    "for token_list in tokens:\n",
    "    trigrams.extend(list(ngrams(token_list,3)))\n",
    "trigrams"
   ]
  },
  {
   "cell_type": "code",
   "execution_count": 8,
   "id": "fc09d415-0e25-4723-8e4b-e3380f120a28",
   "metadata": {},
   "outputs": [
    {
     "data": {
      "text/plain": [
       "Counter({('you', 'love', 'me'): 2,\n",
       "         ('i', 'love', 'apple'): 1,\n",
       "         ('i', 'love', 'him'): 1,\n",
       "         ('i', 'love', 'nlp'): 1,\n",
       "         ('he', 'loves', 'apple'): 1,\n",
       "         ('they', 'love', 'apple'): 1,\n",
       "         ('i', 'love', 'you'): 1,\n",
       "         ('love', 'you', 'and'): 1,\n",
       "         ('you', 'and', 'you'): 1,\n",
       "         ('and', 'you', 'love'): 1})"
      ]
     },
     "execution_count": 8,
     "metadata": {},
     "output_type": "execute_result"
    }
   ],
   "source": [
    "trigrams_freq = Counter(trigrams)\n",
    "trigrams_freq"
   ]
  },
  {
   "cell_type": "markdown",
   "id": "90f067ad-2233-409f-bc8d-9e094b374c02",
   "metadata": {},
   "source": [
    "**Modeli Testi**"
   ]
  },
  {
   "cell_type": "code",
   "execution_count": 9,
   "id": "03a58270-dd4b-4ddc-b64b-bb5ff0cf27cd",
   "metadata": {},
   "outputs": [
    {
     "name": "stdout",
     "output_type": "stream",
     "text": [
      "You kelimesinin olma olasılığı:0.25\n",
      "apple kelimesinin olam olasılığı:0.25\n"
     ]
    }
   ],
   "source": [
    "# \"i love\" bigramdan sonra \"you\" veya \"apple\" gelme olasılıklarını hesaplayalım\n",
    "bigram = (\"i\",\"love\") # Hedef bigram\n",
    "\n",
    "# \"i love you\" olma olasılığı\n",
    "prob_you = trigrams_freq[(\"i\",\"love\",\"you\")]/bigrams_freq[bigram]\n",
    "print(f\"You kelimesinin olma olasılığı:{prob_you}\")\n",
    "\n",
    "# \"i love apple\" olma olasılığı\n",
    "prob_apple = trigrams_freq[(\"i\",\"love\",\"apple\")]/bigrams_freq[bigram]\n",
    "print(f\"apple kelimesinin olam olasılığı:{prob_apple}\")"
   ]
  },
  {
   "cell_type": "code",
   "execution_count": null,
   "id": "1997e38d-08ff-4fca-b351-9c01a75eb0d4",
   "metadata": {},
   "outputs": [],
   "source": []
  }
 ],
 "metadata": {
  "kernelspec": {
   "display_name": "Python 3 (ipykernel)",
   "language": "python",
   "name": "python3"
  },
  "language_info": {
   "codemirror_mode": {
    "name": "ipython",
    "version": 3
   },
   "file_extension": ".py",
   "mimetype": "text/x-python",
   "name": "python",
   "nbconvert_exporter": "python",
   "pygments_lexer": "ipython3",
   "version": "3.12.7"
  }
 },
 "nbformat": 4,
 "nbformat_minor": 5
}
