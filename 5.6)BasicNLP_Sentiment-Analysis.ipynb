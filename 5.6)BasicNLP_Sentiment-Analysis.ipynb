{
 "cells": [
  {
   "cell_type": "markdown",
   "id": "6b234bf7-d91e-4dc7-830b-38159bb6b424",
   "metadata": {},
   "source": [
    "# Duygu Analizi (Sentiment-Analysis)"
   ]
  },
  {
   "cell_type": "code",
   "execution_count": 1,
   "id": "bcdfef23-5bde-489d-9e26-f7429c07f4c1",
   "metadata": {},
   "outputs": [],
   "source": [
    "import pandas as pd\n",
    "import nltk\n",
    "\n",
    "from nltk.sentiment.vader import SentimentIntensityAnalyzer\n",
    "from nltk.corpus import stopwords\n",
    "from nltk.tokenize import word_tokenize\n",
    "from nltk.stem import WordNetLemmatizer\n",
    "\n",
    "from sklearn.metrics import confusion_matrix , classification_report"
   ]
  },
  {
   "cell_type": "markdown",
   "id": "8958259c-c2de-44a8-86fe-5aca04455db1",
   "metadata": {},
   "source": [
    "**Amazon** veri seti içerisindeki yorumların <i>pozitif mi negatif mi</i> olduğunu sınıflandırmak için binary classification problemi"
   ]
  },
  {
   "cell_type": "code",
   "execution_count": 2,
   "id": "958744b2-d7dc-46ce-b008-8fcd6385b6f5",
   "metadata": {},
   "outputs": [
    {
     "name": "stderr",
     "output_type": "stream",
     "text": [
      "[nltk_data] Downloading package vader_lexicon to\n",
      "[nltk_data]     C:\\Users\\emirh\\AppData\\Roaming\\nltk_data...\n",
      "[nltk_data]   Package vader_lexicon is already up-to-date!\n",
      "[nltk_data] Downloading package stopwords to\n",
      "[nltk_data]     C:\\Users\\emirh\\AppData\\Roaming\\nltk_data...\n",
      "[nltk_data]   Package stopwords is already up-to-date!\n",
      "[nltk_data] Downloading package punkt to\n",
      "[nltk_data]     C:\\Users\\emirh\\AppData\\Roaming\\nltk_data...\n",
      "[nltk_data]   Package punkt is already up-to-date!\n",
      "[nltk_data] Downloading package wordnet to\n",
      "[nltk_data]     C:\\Users\\emirh\\AppData\\Roaming\\nltk_data...\n",
      "[nltk_data]   Package wordnet is already up-to-date!\n",
      "[nltk_data] Downloading package omw-1.4 to\n",
      "[nltk_data]     C:\\Users\\emirh\\AppData\\Roaming\\nltk_data...\n",
      "[nltk_data]   Package omw-1.4 is already up-to-date!\n"
     ]
    },
    {
     "data": {
      "text/plain": [
       "True"
      ]
     },
     "execution_count": 2,
     "metadata": {},
     "output_type": "execute_result"
    }
   ],
   "source": [
    "nltk.download(\"vader_lexicon\")\n",
    "nltk.download(\"stopwords\")\n",
    "nltk.download(\"punkt\")\n",
    "nltk.download(\"wordnet\")\n",
    "nltk.download(\"omw-1.4\")"
   ]
  },
  {
   "cell_type": "markdown",
   "id": "6fcec483-af44-4f05-9099-654ef3b1ade6",
   "metadata": {},
   "source": [
    "### 1)Veri Setinin Yüklenmesi"
   ]
  },
  {
   "cell_type": "code",
   "execution_count": 3,
   "id": "ec76ea75-10fe-48e4-9ed0-516cec2f19b0",
   "metadata": {},
   "outputs": [],
   "source": [
    "df = pd.read_csv(\"duygu_analizi_amazon_veri_seti.csv\")"
   ]
  },
  {
   "cell_type": "code",
   "execution_count": 4,
   "id": "d2e4cabb-1623-4bea-92f5-99cef7b302d3",
   "metadata": {},
   "outputs": [
    {
     "data": {
      "text/plain": [
       "<bound method NDFrame.head of                                               reviewText  Positive\n",
       "0      This is a one of the best apps acording to a b...         1\n",
       "1      This is a pretty good version of the game for ...         1\n",
       "2      this is a really cool game. there are a bunch ...         1\n",
       "3      This is a silly game and can be frustrating, b...         1\n",
       "4      This is a terrific game on any pad. Hrs of fun...         1\n",
       "...                                                  ...       ...\n",
       "19995  this app is fricken stupid.it froze on the kin...         0\n",
       "19996  Please add me!!!!! I need neighbors! Ginger101...         1\n",
       "19997  love it!  this game. is awesome. wish it had m...         1\n",
       "19998  I love love love this app on my side of fashio...         1\n",
       "19999  This game is a rip off. Here is a list of thin...         0\n",
       "\n",
       "[20000 rows x 2 columns]>"
      ]
     },
     "execution_count": 4,
     "metadata": {},
     "output_type": "execute_result"
    }
   ],
   "source": [
    "df.head"
   ]
  },
  {
   "cell_type": "markdown",
   "id": "16296013-7af8-4205-9d32-83d18e8edf00",
   "metadata": {},
   "source": [
    "### 2)Text Cleaning and Preprocessing"
   ]
  },
  {
   "cell_type": "code",
   "execution_count": 5,
   "id": "fe155f70-a6ba-4f2e-ad20-a0a76459ff85",
   "metadata": {},
   "outputs": [],
   "source": [
    "lemmatizer = WordNetLemmatizer()\n",
    "def clean_process_data(text):\n",
    "    # Tokenize\n",
    "    tokens = word_tokenize(text.lower())\n",
    "    \n",
    "    # Stopword\n",
    "    filtered_tokens = [token for token in tokens if token not in stopwords.words(\"english\")]\n",
    "    \n",
    "    # Lemmatize\n",
    "    lemmatized_tokens = [lemmatizer.lemmatize(token) for token in filtered_tokens]\n",
    "    \n",
    "    # Join Words\n",
    "    processed_text = \" \".join(lemmatized_tokens)\n",
    "\n",
    "    return processed_text"
   ]
  },
  {
   "cell_type": "markdown",
   "id": "70622676-6f7e-48ff-aee7-97b64a6118b9",
   "metadata": {},
   "source": [
    "Tüm metinlere temizleme ve ön işleme adımlarının uygulanması"
   ]
  },
  {
   "cell_type": "code",
   "execution_count": 6,
   "id": "9c0b938c-2e86-49ad-a5e8-cb249beb37b8",
   "metadata": {},
   "outputs": [],
   "source": [
    "df[\"reviewText2\"] = df[\"reviewText\"].apply(clean_process_data)"
   ]
  },
  {
   "cell_type": "markdown",
   "id": "8da8fce2-5cab-4269-b5f9-bacd56eddfe0",
   "metadata": {},
   "source": [
    "### 3)Sentiment Analysis (NLTK)"
   ]
  },
  {
   "cell_type": "code",
   "execution_count": 7,
   "id": "dc36278d-7223-48ac-a6d7-95d70794f370",
   "metadata": {},
   "outputs": [],
   "source": [
    "analyzer = SentimentIntensityAnalyzer()\n",
    "\n",
    "def get_sentiments(text):\n",
    "    score = analyzer.polarity_scores(text)\n",
    "\n",
    "    sentiment = 1 if score[\"pos\"] > 0 else 0\n",
    "\n",
    "    return sentiment"
   ]
  },
  {
   "cell_type": "markdown",
   "id": "675532d4-addf-451e-846d-183ca428a50a",
   "metadata": {},
   "source": [
    "Duygu analizi işleminin tüm cümlelere yapılması işlemi"
   ]
  },
  {
   "cell_type": "code",
   "execution_count": 8,
   "id": "c7a67ad1-7303-4797-8051-c271b6e6c49a",
   "metadata": {},
   "outputs": [],
   "source": [
    "df[\"sentiment\"] = df[\"reviewText2\"].apply(get_sentiments)"
   ]
  },
  {
   "cell_type": "markdown",
   "id": "c057bb8f-8fc2-4b69-8ab5-77ed7b946d57",
   "metadata": {},
   "source": [
    "### 4)Evaluation - Test"
   ]
  },
  {
   "cell_type": "code",
   "execution_count": 9,
   "id": "3cd230ec-14c0-41d8-84cd-44e6abc975f5",
   "metadata": {},
   "outputs": [
    {
     "name": "stdout",
     "output_type": "stream",
     "text": [
      "Confusion matrix :\n",
      " [[ 1131  3636]\n",
      " [  576 14657]]\n"
     ]
    }
   ],
   "source": [
    "cm = confusion_matrix(df[\"Positive\"] , df[\"sentiment\"])\n",
    "print(f\"Confusion matrix :\\n {cm}\")"
   ]
  },
  {
   "cell_type": "code",
   "execution_count": 10,
   "id": "9009d12f-12f2-4d95-b74b-3fbc7ab750aa",
   "metadata": {},
   "outputs": [
    {
     "name": "stdout",
     "output_type": "stream",
     "text": [
      "Classification Report : \n",
      "               precision    recall  f1-score   support\n",
      "\n",
      "           0       0.66      0.24      0.35      4767\n",
      "           1       0.80      0.96      0.87     15233\n",
      "\n",
      "    accuracy                           0.79     20000\n",
      "   macro avg       0.73      0.60      0.61     20000\n",
      "weighted avg       0.77      0.79      0.75     20000\n",
      "\n"
     ]
    }
   ],
   "source": [
    "cr = classification_report(df[\"Positive\"],df[\"sentiment\"])\n",
    "print(f\"Classification Report : \\n {cr}\")"
   ]
  },
  {
   "cell_type": "code",
   "execution_count": null,
   "id": "24125c72-3ea1-402e-b7b3-87d9b0536fba",
   "metadata": {},
   "outputs": [],
   "source": []
  }
 ],
 "metadata": {
  "kernelspec": {
   "display_name": "Python 3 (ipykernel)",
   "language": "python",
   "name": "python3"
  },
  "language_info": {
   "codemirror_mode": {
    "name": "ipython",
    "version": 3
   },
   "file_extension": ".py",
   "mimetype": "text/x-python",
   "name": "python",
   "nbconvert_exporter": "python",
   "pygments_lexer": "ipython3",
   "version": "3.12.7"
  }
 },
 "nbformat": 4,
 "nbformat_minor": 5
}
