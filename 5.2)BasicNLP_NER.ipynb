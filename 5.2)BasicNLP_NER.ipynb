{
 "cells": [
  {
   "cell_type": "markdown",
   "id": "092da675-5ccb-4c12-bed1-5a2338e98f8e",
   "metadata": {},
   "source": [
    "# Varlık İsmi Tanıma (Named Entity Recognition) (NER)"
   ]
  },
  {
   "cell_type": "code",
   "execution_count": 1,
   "id": "c296b279-bb11-4f8e-b188-ee6dc953811e",
   "metadata": {},
   "outputs": [],
   "source": [
    "import pandas as pd\n",
    "import spacy"
   ]
  },
  {
   "cell_type": "markdown",
   "id": "e36ba174-fdde-4291-8cbd-ed2a51cf3330",
   "metadata": {},
   "source": [
    "**Varlık ismi tanıma**: metin (cümle) -> Metin içerisinde bulunan varlık isimlerini tanıma "
   ]
  },
  {
   "cell_type": "code",
   "execution_count": 2,
   "id": "0670e256-f4c4-437d-9ddc-3e4799346600",
   "metadata": {},
   "outputs": [],
   "source": [
    "nlp = spacy.load(\"en_core_web_sm\") # Spacy içerisindeki ingilizce dil modeli."
   ]
  },
  {
   "cell_type": "code",
   "execution_count": 3,
   "id": "babe654a-c180-43ef-952c-3ddb9dc4da14",
   "metadata": {},
   "outputs": [],
   "source": [
    "content = \"Alice works at Amazon and lives in London. She visited the British Museum last weekend.\""
   ]
  },
  {
   "cell_type": "code",
   "execution_count": 4,
   "id": "7129f500-42ed-48f8-9d84-1e1f3313a253",
   "metadata": {},
   "outputs": [],
   "source": [
    "doc = nlp(content) # Bu işlem metindeki varlıkı analiz eder. "
   ]
  },
  {
   "cell_type": "code",
   "execution_count": 5,
   "id": "a47a0dd4-b8c5-49a7-bf3a-43161337fad9",
   "metadata": {},
   "outputs": [
    {
     "name": "stdout",
     "output_type": "stream",
     "text": [
      "Alice PERSON\n",
      "Amazon ORG\n",
      "London GPE\n",
      "the British Museum ORG\n",
      "last weekend DATE\n"
     ]
    }
   ],
   "source": [
    "for ent in doc.ents:\n",
    "    # ent.text : Varlık ismi\n",
    "    # ent.start_char , ent.end_char : Varlığın başlangıç ve bitiş karakterleri\n",
    "    # ent.label_ : varlık türü\n",
    "    # print(ent.text,ent.start_char,ent.end_char,ent.label_)\n",
    "    print(ent.text , ent.label_)"
   ]
  },
  {
   "cell_type": "code",
   "execution_count": 6,
   "id": "8f686d52-5b98-4c67-8dfa-e3e9e692ddaa",
   "metadata": {},
   "outputs": [
    {
     "data": {
      "text/plain": [
       "[('Alice', 'PERSON', 'Alice'),\n",
       " ('Amazon', 'ORG', 'Amazon'),\n",
       " ('London', 'GPE', 'London'),\n",
       " ('the British Museum', 'ORG', 'the British Museum'),\n",
       " ('last weekend', 'DATE', 'last weekend')]"
      ]
     },
     "execution_count": 6,
     "metadata": {},
     "output_type": "execute_result"
    }
   ],
   "source": [
    "# ent.lemma : Varlık kök hali\n",
    "entities = [(ent.text , ent.label_ , ent.lemma_) for ent in doc.ents]\n",
    "entities"
   ]
  },
  {
   "cell_type": "markdown",
   "id": "d4d47d45-7dfb-4632-8507-6c6d42983565",
   "metadata": {},
   "source": [
    "**Varlık Listesini Pandans df Çevirme İşlemi**"
   ]
  },
  {
   "cell_type": "code",
   "execution_count": 7,
   "id": "cfa8b23e-0298-40e7-9493-6bb07a81ae70",
   "metadata": {},
   "outputs": [
    {
     "data": {
      "text/html": [
       "<div>\n",
       "<style scoped>\n",
       "    .dataframe tbody tr th:only-of-type {\n",
       "        vertical-align: middle;\n",
       "    }\n",
       "\n",
       "    .dataframe tbody tr th {\n",
       "        vertical-align: top;\n",
       "    }\n",
       "\n",
       "    .dataframe thead th {\n",
       "        text-align: right;\n",
       "    }\n",
       "</style>\n",
       "<table border=\"1\" class=\"dataframe\">\n",
       "  <thead>\n",
       "    <tr style=\"text-align: right;\">\n",
       "      <th></th>\n",
       "      <th>text</th>\n",
       "      <th>type</th>\n",
       "      <th>lemma</th>\n",
       "    </tr>\n",
       "  </thead>\n",
       "  <tbody>\n",
       "    <tr>\n",
       "      <th>0</th>\n",
       "      <td>Alice</td>\n",
       "      <td>PERSON</td>\n",
       "      <td>Alice</td>\n",
       "    </tr>\n",
       "    <tr>\n",
       "      <th>1</th>\n",
       "      <td>Amazon</td>\n",
       "      <td>ORG</td>\n",
       "      <td>Amazon</td>\n",
       "    </tr>\n",
       "    <tr>\n",
       "      <th>2</th>\n",
       "      <td>London</td>\n",
       "      <td>GPE</td>\n",
       "      <td>London</td>\n",
       "    </tr>\n",
       "    <tr>\n",
       "      <th>3</th>\n",
       "      <td>the British Museum</td>\n",
       "      <td>ORG</td>\n",
       "      <td>the British Museum</td>\n",
       "    </tr>\n",
       "    <tr>\n",
       "      <th>4</th>\n",
       "      <td>last weekend</td>\n",
       "      <td>DATE</td>\n",
       "      <td>last weekend</td>\n",
       "    </tr>\n",
       "  </tbody>\n",
       "</table>\n",
       "</div>"
      ],
      "text/plain": [
       "                 text    type               lemma\n",
       "0               Alice  PERSON               Alice\n",
       "1              Amazon     ORG              Amazon\n",
       "2              London     GPE              London\n",
       "3  the British Museum     ORG  the British Museum\n",
       "4        last weekend    DATE        last weekend"
      ]
     },
     "execution_count": 7,
     "metadata": {},
     "output_type": "execute_result"
    }
   ],
   "source": [
    "df = pd.DataFrame(entities , columns = [\"text\", \"type\",\"lemma\"])\n",
    "df"
   ]
  },
  {
   "cell_type": "code",
   "execution_count": null,
   "id": "7bcc132c-c974-4f0e-be61-ebe21ff38711",
   "metadata": {},
   "outputs": [],
   "source": []
  }
 ],
 "metadata": {
  "kernelspec": {
   "display_name": "Python 3 (ipykernel)",
   "language": "python",
   "name": "python3"
  },
  "language_info": {
   "codemirror_mode": {
    "name": "ipython",
    "version": 3
   },
   "file_extension": ".py",
   "mimetype": "text/x-python",
   "name": "python",
   "nbconvert_exporter": "python",
   "pygments_lexer": "ipython3",
   "version": "3.12.7"
  }
 },
 "nbformat": 4,
 "nbformat_minor": 5
}
