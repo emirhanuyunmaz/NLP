{
 "cells": [
  {
   "cell_type": "markdown",
   "id": "e107760a-8402-429d-aed4-29ac2309e8ac",
   "metadata": {},
   "source": [
    "# Morfolojik Analiz (Morphological Analysis)"
   ]
  },
  {
   "cell_type": "code",
   "execution_count": 1,
   "id": "786d850a-7c27-4d69-8c9d-7dff7d853021",
   "metadata": {},
   "outputs": [],
   "source": [
    "import spacy"
   ]
  },
  {
   "cell_type": "code",
   "execution_count": 2,
   "id": "9291082f-3c6e-4136-bda6-698b7577e0cd",
   "metadata": {},
   "outputs": [],
   "source": [
    "nlp = spacy.load(\"en_core_web_sm\")"
   ]
  },
  {
   "cell_type": "code",
   "execution_count": 4,
   "id": "f82aaab5-c85a-44bd-ad62-bc9576dff01a",
   "metadata": {},
   "outputs": [
    {
     "name": "stdout",
     "output_type": "stream",
     "text": [
      "Text:I\n",
      "Lemma:I\n",
      "POS:PRON\n",
      "Tag:PRP\n",
      "Dependency:nsubj\n",
      "Shape:X\n",
      "Is alpha:True\n",
      "Stop words:True\n",
      "Morfoloji:Case=Nom|Number=Sing|Person=1|PronType=Prs\n",
      "Is plural : False\n",
      "\n",
      "Text:go\n",
      "Lemma:go\n",
      "POS:VERB\n",
      "Tag:VBP\n",
      "Dependency:ROOT\n",
      "Shape:xx\n",
      "Is alpha:True\n",
      "Stop words:True\n",
      "Morfoloji:Tense=Pres|VerbForm=Fin\n",
      "Is plural : False\n",
      "\n",
      "Text:to\n",
      "Lemma:to\n",
      "POS:ADP\n",
      "Tag:IN\n",
      "Dependency:prep\n",
      "Shape:xx\n",
      "Is alpha:True\n",
      "Stop words:True\n",
      "Morfoloji:\n",
      "Is plural : False\n",
      "\n",
      "Text:schools\n",
      "Lemma:school\n",
      "POS:NOUN\n",
      "Tag:NNS\n",
      "Dependency:pobj\n",
      "Shape:xxxx\n",
      "Is alpha:True\n",
      "Stop words:False\n",
      "Morfoloji:Number=Plur\n",
      "Is plural : True\n",
      "\n"
     ]
    }
   ],
   "source": [
    "word = \"I go to schools\"\n",
    "doc = nlp(word)\n",
    "for token in doc:\n",
    "    print(f\"Text:{token.text}\") # Kelimenin kendisi\n",
    "    print(f\"Lemma:{token.lemma_}\") # Kelime kök hali\n",
    "    print(f\"POS:{token.pos_}\") # Kelimenin dil bilgisi özelliği\n",
    "    print(f\"Tag:{token.tag_}\") # Kelimenin detaylı dil bilgisi özelliği\n",
    "    print(f\"Dependency:{token.dep_}\") # Kelimenin rolü\n",
    "    print(f\"Shape:{token.shape_}\") # Kelimenin karakter yapısı\n",
    "    print(f\"Is alpha:{token.is_alpha}\") # Kelimenin alfabetik olup olmadığı\n",
    "    print(f\"Stop words:{token.is_stop}\") # Kelimenin stop words olup olmadığı\n",
    "    print(f\"Morfoloji:{token.morph}\") # Kelimenin morfolojik özelliklerini veriri\n",
    "    print(f\"Is plural : {'Number=Plur' in token.morph}\") # Kelimenin çoğul olup olmadığı\n",
    "    print()"
   ]
  },
  {
   "cell_type": "code",
   "execution_count": null,
   "id": "0da3780d-35bc-4c4f-9bc1-d42319ecbf50",
   "metadata": {},
   "outputs": [],
   "source": []
  }
 ],
 "metadata": {
  "kernelspec": {
   "display_name": "Python 3 (ipykernel)",
   "language": "python",
   "name": "python3"
  },
  "language_info": {
   "codemirror_mode": {
    "name": "ipython",
    "version": 3
   },
   "file_extension": ".py",
   "mimetype": "text/x-python",
   "name": "python",
   "nbconvert_exporter": "python",
   "pygments_lexer": "ipython3",
   "version": "3.12.7"
  }
 },
 "nbformat": 4,
 "nbformat_minor": 5
}
