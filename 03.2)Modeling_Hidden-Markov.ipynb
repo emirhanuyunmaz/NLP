{
 "cells": [
  {
   "cell_type": "markdown",
   "id": "1bbc60e7-a9a3-406b-8951-2775fe72e7aa",
   "metadata": {},
   "source": [
    "# Gizli Markov Modeli (Hidden Markov Model)"
   ]
  },
  {
   "cell_type": "code",
   "execution_count": 1,
   "id": "d581d260-a2c5-4370-9e1f-b57f2eced0b8",
   "metadata": {},
   "outputs": [],
   "source": [
    "import nltk\n",
    "from nltk.tag import hmm "
   ]
  },
  {
   "cell_type": "markdown",
   "id": "c70b25f5-5f86-4085-bc65-87eb3fd6bcbb",
   "metadata": {},
   "source": [
    "Part Of Speach (POS): Kelimelere uygun sözcük türlerini bulma çalışması. (HMM)"
   ]
  },
  {
   "cell_type": "code",
   "execution_count": 2,
   "id": "52c7f37f-ddc0-4733-8922-bca7a9e69b24",
   "metadata": {},
   "outputs": [],
   "source": [
    "# Örnek training data tanımlama\n",
    "train_data = [\n",
    "    [(\"I\",\"PRP\"),(\"am\",\"VBP\"),(\"a\",\"DT\"),(\"teacher\",\"NN\")],\n",
    "    [(\"You\",\"PRP\"),(\"are\",\"VBP\"),(\"a\",\"DT\"),(\"student\",\"NN\")],\n",
    "]"
   ]
  },
  {
   "cell_type": "markdown",
   "id": "4cc7694b-1292-465b-be8d-7dc61531732f",
   "metadata": {},
   "source": [
    "**Train HMM**"
   ]
  },
  {
   "cell_type": "code",
   "execution_count": 3,
   "id": "66caaccf-1661-46e7-8748-5b37d7f19883",
   "metadata": {},
   "outputs": [],
   "source": [
    "trainer = hmm.HiddenMarkovModelTrainer()\n",
    "hmm_tagger = trainer.train(train_data) "
   ]
  },
  {
   "cell_type": "markdown",
   "id": "f29b6933-7b70-4ba1-b6f3-c53fa2ff4208",
   "metadata": {},
   "source": [
    "Yeni bir cümle oluşturma ve cümle içerisinde bulunan her bir sozcüğün türünü bulma işlemi"
   ]
  },
  {
   "cell_type": "code",
   "execution_count": 4,
   "id": "62b0abef-5f1a-419d-b429-4c2b0ecee0b8",
   "metadata": {},
   "outputs": [
    {
     "name": "stdout",
     "output_type": "stream",
     "text": [
      "Yeni Cümle : [('I', 'PRP'), ('am', 'VBP'), ('a', 'DT'), ('student', 'NN')]\n"
     ]
    },
    {
     "name": "stderr",
     "output_type": "stream",
     "text": [
      "C:\\Users\\emirh\\anaconda3\\Lib\\site-packages\\nltk\\tag\\hmm.py:333: RuntimeWarning: overflow encountered in cast\n",
      "  X[i, j] = self._transitions[si].logprob(self._states[j])\n",
      "C:\\Users\\emirh\\anaconda3\\Lib\\site-packages\\nltk\\tag\\hmm.py:335: RuntimeWarning: overflow encountered in cast\n",
      "  O[i, k] = self._output_logprob(si, self._symbols[k])\n",
      "C:\\Users\\emirh\\anaconda3\\Lib\\site-packages\\nltk\\tag\\hmm.py:331: RuntimeWarning: overflow encountered in cast\n",
      "  P[i] = self._priors.logprob(si)\n"
     ]
    }
   ],
   "source": [
    "test_sentences = \"I am a student\".split()\n",
    "\n",
    "tags = hmm_tagger.tag(test_sentences)\n",
    "\n",
    "print(f\"Yeni Cümle : {tags}\")"
   ]
  },
  {
   "cell_type": "markdown",
   "id": "b54c33b5-252f-4751-9964-6d5c3c73aaa9",
   "metadata": {},
   "source": [
    "**Büyük Veri İle Çalışma**"
   ]
  },
  {
   "cell_type": "code",
   "execution_count": 6,
   "id": "2196dd64-6df6-48b9-a557-d0cd7491efb2",
   "metadata": {},
   "outputs": [],
   "source": [
    "import nltk\n",
    "from nltk.tag import hmm\n",
    "from nltk.corpus import conll2000 "
   ]
  },
  {
   "cell_type": "markdown",
   "id": "83ae60ef-d99a-4ff9-a518-f5bd60952399",
   "metadata": {},
   "source": [
    "Gerekli veri setinin içeriye aktarılması"
   ]
  },
  {
   "cell_type": "code",
   "execution_count": 11,
   "id": "d7f514ae-2652-47cc-8d90-052d92f13815",
   "metadata": {},
   "outputs": [
    {
     "name": "stderr",
     "output_type": "stream",
     "text": [
      "'nltk.download' is not recognized as an internal or external command,\n",
      "operable program or batch file.\n"
     ]
    }
   ],
   "source": [
    "!nltk.download(\"conll2000\")"
   ]
  },
  {
   "cell_type": "code",
   "execution_count": 14,
   "id": "fe1ff411-8d5a-490e-9b79-113c509544d3",
   "metadata": {},
   "outputs": [
    {
     "name": "stdout",
     "output_type": "stream",
     "text": [
      "train_data : [[('Confidence', 'NN'), ('in', 'IN'), ('the', 'DT'), ('pound', 'NN'), ('is', 'VBZ'), ('widely', 'RB'), ('expected', 'VBN'), ('to', 'TO'), ('take', 'VB'), ('another', 'DT'), ('sharp', 'JJ'), ('dive', 'NN'), ('if', 'IN'), ('trade', 'NN'), ('figures', 'NNS'), ('for', 'IN'), ('September', 'NNP'), (',', ','), ('due', 'JJ'), ('for', 'IN'), ('release', 'NN'), ('tomorrow', 'NN'), (',', ','), ('fail', 'VB'), ('to', 'TO'), ('show', 'VB'), ('a', 'DT'), ('substantial', 'JJ'), ('improvement', 'NN'), ('from', 'IN'), ('July', 'NNP'), ('and', 'CC'), ('August', 'NNP'), (\"'s\", 'POS'), ('near-record', 'JJ'), ('deficits', 'NNS'), ('.', '.')]]\n"
     ]
    }
   ],
   "source": [
    "train_data = conll2000.tagged_sents(\"train.txt\")\n",
    "test_data = conll2000.tagged_sents(\"test.txt\")\n",
    "print(f\"train_data : {train_data[:1]}\")"
   ]
  },
  {
   "cell_type": "markdown",
   "id": "fcbd1bba-5095-43a3-a324-d23d8338aa2e",
   "metadata": {},
   "source": [
    "Train HMM"
   ]
  },
  {
   "cell_type": "code",
   "execution_count": 15,
   "id": "974d25e5-23db-4d1c-8274-996385805e10",
   "metadata": {},
   "outputs": [],
   "source": [
    "trainer = hmm.HiddenMarkovModelTrainer()\n",
    "hmm_tagger = trainer.train(train_data)"
   ]
  },
  {
   "cell_type": "markdown",
   "id": "04561323-31dd-4231-b1b2-bc6177450e32",
   "metadata": {},
   "source": [
    "Yeni çümle ile test etme"
   ]
  },
  {
   "cell_type": "code",
   "execution_count": 16,
   "id": "f2191a3f-c6ff-4b8a-a0ee-e4b6cb77ccb2",
   "metadata": {},
   "outputs": [
    {
     "name": "stderr",
     "output_type": "stream",
     "text": [
      "C:\\Users\\emirh\\anaconda3\\Lib\\site-packages\\nltk\\tag\\hmm.py:333: RuntimeWarning: overflow encountered in cast\n",
      "  X[i, j] = self._transitions[si].logprob(self._states[j])\n",
      "C:\\Users\\emirh\\anaconda3\\Lib\\site-packages\\nltk\\tag\\hmm.py:335: RuntimeWarning: overflow encountered in cast\n",
      "  O[i, k] = self._output_logprob(si, self._symbols[k])\n",
      "C:\\Users\\emirh\\anaconda3\\Lib\\site-packages\\nltk\\tag\\hmm.py:331: RuntimeWarning: overflow encountered in cast\n",
      "  P[i] = self._priors.logprob(si)\n"
     ]
    },
    {
     "data": {
      "text/plain": [
       "[('I', 'PRP'),\n",
       " ('like', 'IN'),\n",
       " ('going', 'VBG'),\n",
       " ('to', 'TO'),\n",
       " ('school', 'NN')]"
      ]
     },
     "execution_count": 16,
     "metadata": {},
     "output_type": "execute_result"
    }
   ],
   "source": [
    "test_sentences = \"I like going to school\".split()\n",
    "tags = hmm_tagger.tag(test_sentences)\n",
    "tags"
   ]
  },
  {
   "cell_type": "code",
   "execution_count": null,
   "id": "fd98023f-2c38-432b-ac77-7a0755abf199",
   "metadata": {},
   "outputs": [],
   "source": []
  }
 ],
 "metadata": {
  "kernelspec": {
   "display_name": "Python 3 (ipykernel)",
   "language": "python",
   "name": "python3"
  },
  "language_info": {
   "codemirror_mode": {
    "name": "ipython",
    "version": 3
   },
   "file_extension": ".py",
   "mimetype": "text/x-python",
   "name": "python",
   "nbconvert_exporter": "python",
   "pygments_lexer": "ipython3",
   "version": "3.12.7"
  }
 },
 "nbformat": 4,
 "nbformat_minor": 5
}
