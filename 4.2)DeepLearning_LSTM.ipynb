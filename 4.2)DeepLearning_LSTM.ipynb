{
 "cells": [
  {
   "cell_type": "markdown",
   "id": "f4a16394-e5f7-4b77-879e-51d951459a25",
   "metadata": {},
   "source": [
    "# Uzun-Kısa Süreli Bellek (Long-Short Term Memory)(LSTM)"
   ]
  },
  {
   "cell_type": "code",
   "execution_count": 1,
   "id": "141a50d5-ecba-4d8e-9fae-718d278f3796",
   "metadata": {},
   "outputs": [],
   "source": [
    "import numpy as np \n",
    "import tensorflow as tf\n",
    "from tensorflow.keras.models import Sequential\n",
    "from tensorflow.keras.layers import LSTM , Dense , Embedding\n",
    "from tensorflow.keras.preprocessing.text import Tokenizer\n",
    "from tensorflow.keras.preprocessing.sequence import pad_sequences"
   ]
  },
  {
   "cell_type": "markdown",
   "id": "e2366ca4-f391-4d93-9491-41d42dd1c3df",
   "metadata": {},
   "source": [
    "**Veri Seti**"
   ]
  },
  {
   "cell_type": "code",
   "execution_count": 2,
   "id": "46a49aaa-e840-4a63-a818-97cfcb15d5f8",
   "metadata": {},
   "outputs": [],
   "source": [
    "texts = [\n",
    "    \"Bugün hava çok güzel, dışarıda yürüyüş yapmayı düşünüyorum.\",\n",
    "    \"Kitap okumak beni gerçekten mutlu ediyor.\",\n",
    "    \"Kahve içmeden güne başlamak zor geliyor.\",\n",
    "    \"Akşam yemeğinde pizza yemeyi planlıyorum.\",\n",
    "    \"Sinemaya gitmek her zaman keyifli bir aktivite.\",\n",
    "    \"Sabah koşusu bana enerji veriyor.\",\n",
    "    \"Yeni bir dil öğrenmek beni heyecanlandırıyor.\",\n",
    "    \"Hafta sonu arkadaşlarımla buluşacağım.\",\n",
    "    \"Doğada vakit geçirmek beni rahatlatıyor.\",\n",
    "    \"Müzik dinlemek beni motive ediyor.\",\n",
    "    \"Yarın önemli bir toplantım var, çok heyecanlıyım.\",\n",
    "    \"Yeni bir kitap aldım, bu hafta sonu okumayı planlıyorum.\",\n",
    "    \"Akşam dışarıda yemek yemeyi düşünüyorum.\",\n",
    "    \"Bu sabah yoga yaparak güne başladım.\",\n",
    "    \"Sıcak bir çay içmek beni her zaman rahatlatır.\",\n",
    "    \"Şehirde yeni bir restoran açılmış, gitmek istiyorum.\",\n",
    "    \"Uzun zamandır bisiklete binmiyordum, bugün binmeyi planlıyorum.\",\n",
    "    \"Bahçede çiçekler açmış, harika görünüyor.\",\n",
    "    \"Bu hafta çok yoğundum, biraz dinlenmeye ihtiyacım var.\",\n",
    "    \"Yeni bir diziye başladım, oldukça sürükleyici.\",\n",
    "    \"Çalışmalarımda daha verimli olmak istiyorum.\",\n",
    "    \"Bugün alışveriş yapmam gerekiyor, eksiklerim var.\",\n",
    "    \"Sabahları yürüyüş yapmak benim için iyi bir alışkanlık oldu.\",\n",
    "    \"Yeni tarifler denemek mutfakta zaman geçirmemi keyifli kılıyor.\",\n",
    "    \"Uzun zamandır görmediğim bir arkadaşımla buluşacağım.\",\n",
    "    \"Ders çalışırken sessiz bir ortamda olmak bana daha çok odaklanmamı sağlıyor.\",\n",
    "    \"Bugün işlerimi erken bitirip biraz dinleneceğim.\",\n",
    "    \"Hafta sonu piknik yapmayı düşünüyorum.\",\n",
    "    \"Yaz tatili için plan yapmaya başladım.\",\n",
    "    \"Bugün kendime biraz zaman ayırıp film izlemeyi düşünüyorum.\",\n",
    "    \"Kış aylarını seviyorum, çünkü sıcak çikolata içmeyi çok seviyorum.\",\n",
    "    \"Telefonumun şarjı bitmek üzere, hemen şarja takmam lazım.\",\n",
    "    \"İşimle ilgili yeni projeler üzerinde çalışıyorum.\",\n",
    "    \"Bugün spora gitmek beni gerçekten zorlayacak.\",\n",
    "    \"Tiyatroya gitmeyi uzun zamandır planlıyordum, bu hafta gitmeyi düşünüyorum.\",\n",
    "    \"Yeni müzikler keşfetmek her zaman ilgimi çekiyor.\",\n",
    "    \"Yarın sabah erkenden uyanmam gerekiyor.\",\n",
    "    \"Dışarıda çok güzel bir hava var, belki biraz bisiklet sürerim.\",\n",
    "    \"Bahçeye birkaç yeni bitki ekmeyi düşünüyorum.\",\n",
    "    \"Kütüphaneye gidip yeni kitaplar bakacağım.\",\n",
    "    \"Evdeki işlerimi bitirip bir kahve molası vereceğim.\",\n",
    "    \"Gelecek hafta için bir tatil planı yapıyorum.\",\n",
    "    \"Bugün işyerinde toplantılar arka arkaya sıralanmış.\",\n",
    "    \"Yeni bir hobi edinmek istiyorum, belki resim yapmayı deneyebilirim.\",\n",
    "    \"Bu hafta spor salonuna düzenli olarak gitmeye karar verdim.\",\n",
    "    \"Sabahları meditasyon yapmak beni çok rahatlatıyor.\",\n",
    "    \"Ailecek bu akşam film gecesi yapacağız.\",\n",
    "    \"Yaz mevsimi yaklaşırken, deniz tatili planları yapıyorum.\",\n",
    "    \"Bugün işim erken biterse bir kitap okumayı planlıyorum.\",\n",
    "    \"Yeni tarifler denemek mutfakta daha fazla zaman geçirmemi sağlıyor.\",\n",
    "    \"Bugün alışveriş merkezine gidip ihtiyaçlarımı tamamlayacağım.\",\n",
    "    \"Gelecek hafta arkadaşlarımla bir doğa yürüyüşüne çıkmayı düşünüyoruz.\",\n",
    "    \"Yatmadan önce biraz müzik dinlemek rahatlamamı sağlıyor.\",\n",
    "    \"Bugün biraz daha geç kalktım ve kendime vakit ayırdım.\",\n",
    "    \"Yarın işim erken biterse yeni bir diziye başlayabilirim.\",\n",
    "    \"Mutfakta yeni bir tatlı denemek istiyorum.\",\n",
    "    \"Bu hafta sonu şehir dışında bir yere gitmeyi planlıyoruz.\",\n",
    "    \"Yeni bir fotoğraf makinesi aldım, hafta sonu denemek için sabırsızlanıyorum.\",\n",
    "    \"Sabahları güneşin doğuşunu izlemek bana enerji veriyor.\",\n",
    "    \"İş yoğunluğu arasında kısa bir mola vermek bana iyi geliyor.\",\n",
    "    \"Akşam yemeği için dışarıda bir yer arıyorum.\",\n",
    "    \"Bugün havalar biraz soğudu, kalın giyinmem gerek.\",\n",
    "    \"Yeni bir film izlemek için sinemaya gitmeyi düşünüyorum.\",\n",
    "    \"Bu hafta sonu evde dinlenip enerji toplamayı planlıyorum.\",\n",
    "    \"İşimle ilgili bir sunum hazırlamam gerekiyor.\",\n",
    "    \"Yaz tatili için sahil kasabasına gitmek istiyorum.\",\n",
    "    \"Dışarıda yağmur yağıyor, tam kitap okuma havası.\",\n",
    "    \"Sabah kahvaltısında yeni bir şeyler denemeyi seviyorum.\",\n",
    "    \"Bugün ofiste biraz yoğun bir gün geçirdim.\",\n",
    "    \"Kış ayları yaklaşıyor, dolabımı yenilemem gerek.\",\n",
    "    \"Yeni bir spor dalı denemek istiyorum, belki yoga.\",\n",
    "    \"Hafta sonu için arkadaşlarımla bir etkinlik planlıyoruz.\",\n",
    "    \"Bu akşam evde kendime biraz zaman ayırıp dinleneceğim.\",\n",
    "    \"Yeni bir bilgisayar oyunu keşfettim, oldukça eğlenceli.\",\n",
    "    \"Sabahları kahve içmeden kendime gelemiyorum.\",\n",
    "    \"Yarın sabah erkenden uyanıp yürüyüş yapmayı planlıyorum.\",\n",
    "    \"Hafta sonu sahilde vakit geçirmek harika olurdu.\",\n",
    "    \"Bugün birkaç yeni tarif denedim, oldukça lezzetli oldu.\",\n",
    "    \"Bu hafta işte oldukça yoğun geçiyor.\",\n",
    "    \"Yarın için önemli bir randevum var.\",\n",
    "    \"Bugün dışarıda yemek yemeyi planlıyorum.\",\n",
    "    \"Evde temizlik yapmak için güzel bir gün.\",\n",
    "    \"Bu sabah spora gitmek beni zorlayacak gibi görünüyor.\",\n",
    "    \"Hafta sonu şehir dışına kısa bir kaçamak yapmayı düşünüyoruz.\",\n",
    "    \"Sabahları kahvaltı yapmadan güne başlamam mümkün değil.\",\n",
    "    \"Yeni bir hobi edinmek bana iyi gelebilir.\",\n",
    "    \"Kitap okumak beni her zaman başka bir dünyaya götürüyor.\",\n",
    "    \"Bugün çok verimli bir gün geçirdim.\",\n",
    "    \"Yarın yeni bir projeye başlamayı planlıyorum.\",\n",
    "    \"Bu hafta sonu ailecek vakit geçirmeyi planlıyoruz.\",\n",
    "    \"Yeni bir film izledim, oldukça etkileyiciydi.\",\n",
    "    \"Sabahları yürüyüş yapmak bana enerji veriyor.\",\n",
    "    \"Dışarıda çok güzel bir hava var, belki biraz yürüyüş yaparım.\",\n",
    "    \"Akşam yemeği için bir şeyler hazırlamam gerekiyor.\",\n",
    "    \"Yarın arkadaşlarımla bir araya geleceğim, sabırsızlanıyorum.\",\n",
    "    \"Bu hafta biraz daha fazla dinlenmeye ihtiyacım var.\",\n",
    "    \"Bugün işlerimi erken bitirip biraz kitap okuyacağım.\",\n",
    "    \"Yeni bir müzik albümü keşfetmek beni mutlu ediyor.\",\n",
    "    \"Doğada vakit geçirmek beni her zaman sakinleştiriyor.\"\n",
    "]"
   ]
  },
  {
   "cell_type": "code",
   "execution_count": 4,
   "id": "417daf0d-4fc9-4cfd-82ef-a30dffe6d266",
   "metadata": {},
   "outputs": [
    {
     "data": {
      "text/plain": [
       "99"
      ]
     },
     "execution_count": 4,
     "metadata": {},
     "output_type": "execute_result"
    }
   ],
   "source": [
    "len(texts)"
   ]
  },
  {
   "cell_type": "markdown",
   "id": "b96ba59f-b437-4eae-a919-a334cd0e7475",
   "metadata": {},
   "source": [
    "**Metin Temizleme ve Preprocessing**"
   ]
  },
  {
   "cell_type": "markdown",
   "id": "90fae835-1d15-437c-896f-bd73c27d15a0",
   "metadata": {},
   "source": [
    "Tokenization"
   ]
  },
  {
   "cell_type": "code",
   "execution_count": 5,
   "id": "e7585374-5ec4-4934-afb5-43ed176d90a1",
   "metadata": {},
   "outputs": [
    {
     "data": {
      "text/plain": [
       "309"
      ]
     },
     "execution_count": 5,
     "metadata": {},
     "output_type": "execute_result"
    }
   ],
   "source": [
    "tokenizer = Tokenizer()\n",
    "tokenizer.fit_on_texts(texts) # Metinlerin üzerindeki kelime frekanslarını öğren.\n",
    "total_words = len(tokenizer.word_index) + 1\n",
    "total_words"
   ]
  },
  {
   "cell_type": "markdown",
   "id": "a4fb9a42-f7d0-4edb-81e4-d132eaab3388",
   "metadata": {},
   "source": [
    "n-gram dizileri oluşturma ve padding uygulama"
   ]
  },
  {
   "cell_type": "code",
   "execution_count": 7,
   "id": "76dbd903-9247-4d4a-8386-a94846d0fac7",
   "metadata": {},
   "outputs": [
    {
     "data": {
      "text/plain": [
       "[[4, 41],\n",
       " [4, 41, 10],\n",
       " [4, 41, 10, 31],\n",
       " [4, 41, 10, 31, 13],\n",
       " [4, 41, 10, 31, 13, 23]]"
      ]
     },
     "execution_count": 7,
     "metadata": {},
     "output_type": "execute_result"
    }
   ],
   "source": [
    "input_sequences = []\n",
    "for text in texts:\n",
    "    # Metinleri kelime indekslerine çevir\n",
    "    token_list = tokenizer.texts_to_sequences([text])[0]\n",
    "\n",
    "    # Her metin için n-gram dizisi oluşturma\n",
    "    for i in range(1,len(token_list)):\n",
    "        n_gram_sequences = token_list[:i+1]\n",
    "        input_sequences.append(n_gram_sequences)\n",
    "\n",
    "input_sequences[:5]"
   ]
  },
  {
   "cell_type": "markdown",
   "id": "8805d952-d151-4912-b1ba-52748427cb52",
   "metadata": {},
   "source": [
    "En uzun diziyi bulalım , tüm dizileri aynı uzunluğa getirelim ."
   ]
  },
  {
   "cell_type": "code",
   "execution_count": 8,
   "id": "c9892351-c779-43e2-ba61-2f44815a1d90",
   "metadata": {},
   "outputs": [
    {
     "data": {
      "text/plain": [
       "11"
      ]
     },
     "execution_count": 8,
     "metadata": {},
     "output_type": "execute_result"
    }
   ],
   "source": [
    "max_sequence_length = max( len(x) for x in input_sequences )\n",
    "max_sequence_length"
   ]
  },
  {
   "cell_type": "markdown",
   "id": "ef177ce7-25ac-42f0-ab4d-8787b90a3f86",
   "metadata": {},
   "source": [
    "Dizileri **padding** işlemi uygulayarak , hepsinin aynı uzunlukta olmasını sağlayalım"
   ]
  },
  {
   "cell_type": "code",
   "execution_count": 9,
   "id": "9ae32dad-9d04-4cf3-8bef-62d4351f6210",
   "metadata": {},
   "outputs": [
    {
     "data": {
      "text/plain": [
       "array([[ 0,  0,  0,  0,  0,  0,  0,  0,  0,  4, 41],\n",
       "       [ 0,  0,  0,  0,  0,  0,  0,  0,  4, 41, 10],\n",
       "       [ 0,  0,  0,  0,  0,  0,  0,  4, 41, 10, 31],\n",
       "       [ 0,  0,  0,  0,  0,  0,  4, 41, 10, 31, 13],\n",
       "       [ 0,  0,  0,  0,  0,  4, 41, 10, 31, 13, 23]])"
      ]
     },
     "execution_count": 9,
     "metadata": {},
     "output_type": "execute_result"
    }
   ],
   "source": [
    "input_sequences = pad_sequences(input_sequences,maxlen= max_sequence_length , padding = \"pre\")\n",
    "input_sequences[:5]"
   ]
  },
  {
   "cell_type": "markdown",
   "id": "49faf861-893a-4a3a-8381-728536032a14",
   "metadata": {},
   "source": [
    "x -> Girdi , y -> Hedef Değişken"
   ]
  },
  {
   "cell_type": "code",
   "execution_count": 10,
   "id": "3f5d267b-ad91-4ac5-9f57-709a163cd807",
   "metadata": {},
   "outputs": [
    {
     "name": "stdout",
     "output_type": "stream",
     "text": [
      "X : [0 0 0 0 0 0 0 0 0 4] -- Y : 41\n"
     ]
    }
   ],
   "source": [
    "x = input_sequences[:,:-1]\n",
    "y = input_sequences[:,-1]\n",
    "print(f\"X : {x[0]} -- Y : {y[0]}\")"
   ]
  },
  {
   "cell_type": "markdown",
   "id": "7ec9abe3-0bec-432f-8fbf-7a77536e96e3",
   "metadata": {},
   "source": [
    "Verileri katagorik olarak sınıflandırma .(One Hot Encoding)"
   ]
  },
  {
   "cell_type": "code",
   "execution_count": 11,
   "id": "2f42a0a9-0cc3-442a-b311-491a0fa3eaf8",
   "metadata": {},
   "outputs": [
    {
     "data": {
      "text/plain": [
       "array([[0., 0., 0., ..., 0., 0., 0.],\n",
       "       [0., 0., 0., ..., 0., 0., 0.],\n",
       "       [0., 0., 0., ..., 0., 0., 0.],\n",
       "       [0., 0., 0., ..., 0., 0., 0.],\n",
       "       [0., 0., 0., ..., 0., 0., 0.]])"
      ]
     },
     "execution_count": 11,
     "metadata": {},
     "output_type": "execute_result"
    }
   ],
   "source": [
    "y = tf.keras.utils.to_categorical(y , num_classes = total_words)\n",
    "y[:5]"
   ]
  },
  {
   "cell_type": "markdown",
   "id": "4ba4f01a-e202-47a8-aa24-cd9ef03cffe0",
   "metadata": {},
   "source": [
    "**LSTM Modeli Oluşturma Compile , Train , ve Evaluate**"
   ]
  },
  {
   "cell_type": "code",
   "execution_count": 15,
   "id": "c3bb5428-9447-48fa-badd-7d31e931d12b",
   "metadata": {},
   "outputs": [
    {
     "name": "stdout",
     "output_type": "stream",
     "text": [
      "Epoch 1/100\n"
     ]
    },
    {
     "name": "stderr",
     "output_type": "stream",
     "text": [
      "C:\\Users\\emirh\\anaconda3\\Lib\\site-packages\\keras\\src\\layers\\core\\embedding.py:97: UserWarning: Argument `input_length` is deprecated. Just remove it.\n",
      "  warnings.warn(\n"
     ]
    },
    {
     "name": "stdout",
     "output_type": "stream",
     "text": [
      "\u001b[1m19/19\u001b[0m \u001b[32m━━━━━━━━━━━━━━━━━━━━\u001b[0m\u001b[37m\u001b[0m \u001b[1m2s\u001b[0m 7ms/step - accuracy: 0.0243 - loss: 5.7278  \n",
      "Epoch 2/100\n",
      "\u001b[1m19/19\u001b[0m \u001b[32m━━━━━━━━━━━━━━━━━━━━\u001b[0m\u001b[37m\u001b[0m \u001b[1m0s\u001b[0m 6ms/step - accuracy: 0.0668 - loss: 5.5605\n",
      "Epoch 3/100\n",
      "\u001b[1m19/19\u001b[0m \u001b[32m━━━━━━━━━━━━━━━━━━━━\u001b[0m\u001b[37m\u001b[0m \u001b[1m0s\u001b[0m 6ms/step - accuracy: 0.0699 - loss: 5.2818\n",
      "Epoch 4/100\n",
      "\u001b[1m19/19\u001b[0m \u001b[32m━━━━━━━━━━━━━━━━━━━━\u001b[0m\u001b[37m\u001b[0m \u001b[1m0s\u001b[0m 7ms/step - accuracy: 0.0707 - loss: 5.2615\n",
      "Epoch 5/100\n",
      "\u001b[1m19/19\u001b[0m \u001b[32m━━━━━━━━━━━━━━━━━━━━\u001b[0m\u001b[37m\u001b[0m \u001b[1m0s\u001b[0m 7ms/step - accuracy: 0.0688 - loss: 5.1974\n",
      "Epoch 6/100\n",
      "\u001b[1m19/19\u001b[0m \u001b[32m━━━━━━━━━━━━━━━━━━━━\u001b[0m\u001b[37m\u001b[0m \u001b[1m0s\u001b[0m 5ms/step - accuracy: 0.0813 - loss: 5.1328\n",
      "Epoch 7/100\n",
      "\u001b[1m19/19\u001b[0m \u001b[32m━━━━━━━━━━━━━━━━━━━━\u001b[0m\u001b[37m\u001b[0m \u001b[1m0s\u001b[0m 5ms/step - accuracy: 0.0763 - loss: 5.1213\n",
      "Epoch 8/100\n",
      "\u001b[1m19/19\u001b[0m \u001b[32m━━━━━━━━━━━━━━━━━━━━\u001b[0m\u001b[37m\u001b[0m \u001b[1m0s\u001b[0m 5ms/step - accuracy: 0.0758 - loss: 4.9747\n",
      "Epoch 9/100\n",
      "\u001b[1m19/19\u001b[0m \u001b[32m━━━━━━━━━━━━━━━━━━━━\u001b[0m\u001b[37m\u001b[0m \u001b[1m0s\u001b[0m 5ms/step - accuracy: 0.0645 - loss: 5.0163\n",
      "Epoch 10/100\n",
      "\u001b[1m19/19\u001b[0m \u001b[32m━━━━━━━━━━━━━━━━━━━━\u001b[0m\u001b[37m\u001b[0m \u001b[1m0s\u001b[0m 5ms/step - accuracy: 0.0829 - loss: 4.8771\n",
      "Epoch 11/100\n",
      "\u001b[1m19/19\u001b[0m \u001b[32m━━━━━━━━━━━━━━━━━━━━\u001b[0m\u001b[37m\u001b[0m \u001b[1m0s\u001b[0m 5ms/step - accuracy: 0.0907 - loss: 4.7918\n",
      "Epoch 12/100\n",
      "\u001b[1m19/19\u001b[0m \u001b[32m━━━━━━━━━━━━━━━━━━━━\u001b[0m\u001b[37m\u001b[0m \u001b[1m0s\u001b[0m 6ms/step - accuracy: 0.0708 - loss: 4.7816\n",
      "Epoch 13/100\n",
      "\u001b[1m19/19\u001b[0m \u001b[32m━━━━━━━━━━━━━━━━━━━━\u001b[0m\u001b[37m\u001b[0m \u001b[1m0s\u001b[0m 5ms/step - accuracy: 0.0766 - loss: 4.6542\n",
      "Epoch 14/100\n",
      "\u001b[1m19/19\u001b[0m \u001b[32m━━━━━━━━━━━━━━━━━━━━\u001b[0m\u001b[37m\u001b[0m \u001b[1m0s\u001b[0m 7ms/step - accuracy: 0.0926 - loss: 4.5360\n",
      "Epoch 15/100\n",
      "\u001b[1m19/19\u001b[0m \u001b[32m━━━━━━━━━━━━━━━━━━━━\u001b[0m\u001b[37m\u001b[0m \u001b[1m0s\u001b[0m 6ms/step - accuracy: 0.0822 - loss: 4.5235   \n",
      "Epoch 16/100\n",
      "\u001b[1m19/19\u001b[0m \u001b[32m━━━━━━━━━━━━━━━━━━━━\u001b[0m\u001b[37m\u001b[0m \u001b[1m0s\u001b[0m 5ms/step - accuracy: 0.1165 - loss: 4.3465\n",
      "Epoch 17/100\n",
      "\u001b[1m19/19\u001b[0m \u001b[32m━━━━━━━━━━━━━━━━━━━━\u001b[0m\u001b[37m\u001b[0m \u001b[1m0s\u001b[0m 5ms/step - accuracy: 0.1207 - loss: 4.2906\n",
      "Epoch 18/100\n",
      "\u001b[1m19/19\u001b[0m \u001b[32m━━━━━━━━━━━━━━━━━━━━\u001b[0m\u001b[37m\u001b[0m \u001b[1m0s\u001b[0m 6ms/step - accuracy: 0.1176 - loss: 4.2966\n",
      "Epoch 19/100\n",
      "\u001b[1m19/19\u001b[0m \u001b[32m━━━━━━━━━━━━━━━━━━━━\u001b[0m\u001b[37m\u001b[0m \u001b[1m0s\u001b[0m 5ms/step - accuracy: 0.1438 - loss: 4.1045\n",
      "Epoch 20/100\n",
      "\u001b[1m19/19\u001b[0m \u001b[32m━━━━━━━━━━━━━━━━━━━━\u001b[0m\u001b[37m\u001b[0m \u001b[1m0s\u001b[0m 5ms/step - accuracy: 0.1788 - loss: 3.9841\n",
      "Epoch 21/100\n",
      "\u001b[1m19/19\u001b[0m \u001b[32m━━━━━━━━━━━━━━━━━━━━\u001b[0m\u001b[37m\u001b[0m \u001b[1m0s\u001b[0m 5ms/step - accuracy: 0.1698 - loss: 3.9372\n",
      "Epoch 22/100\n",
      "\u001b[1m19/19\u001b[0m \u001b[32m━━━━━━━━━━━━━━━━━━━━\u001b[0m\u001b[37m\u001b[0m \u001b[1m0s\u001b[0m 5ms/step - accuracy: 0.1880 - loss: 3.7677\n",
      "Epoch 23/100\n",
      "\u001b[1m19/19\u001b[0m \u001b[32m━━━━━━━━━━━━━━━━━━━━\u001b[0m\u001b[37m\u001b[0m \u001b[1m0s\u001b[0m 5ms/step - accuracy: 0.2176 - loss: 3.7075\n",
      "Epoch 24/100\n",
      "\u001b[1m19/19\u001b[0m \u001b[32m━━━━━━━━━━━━━━━━━━━━\u001b[0m\u001b[37m\u001b[0m \u001b[1m0s\u001b[0m 5ms/step - accuracy: 0.1970 - loss: 3.7807\n",
      "Epoch 25/100\n",
      "\u001b[1m19/19\u001b[0m \u001b[32m━━━━━━━━━━━━━━━━━━━━\u001b[0m\u001b[37m\u001b[0m \u001b[1m0s\u001b[0m 5ms/step - accuracy: 0.2335 - loss: 3.5544\n",
      "Epoch 26/100\n",
      "\u001b[1m19/19\u001b[0m \u001b[32m━━━━━━━━━━━━━━━━━━━━\u001b[0m\u001b[37m\u001b[0m \u001b[1m0s\u001b[0m 5ms/step - accuracy: 0.2395 - loss: 3.4014\n",
      "Epoch 27/100\n",
      "\u001b[1m19/19\u001b[0m \u001b[32m━━━━━━━━━━━━━━━━━━━━\u001b[0m\u001b[37m\u001b[0m \u001b[1m0s\u001b[0m 5ms/step - accuracy: 0.2666 - loss: 3.3908\n",
      "Epoch 28/100\n",
      "\u001b[1m19/19\u001b[0m \u001b[32m━━━━━━━━━━━━━━━━━━━━\u001b[0m\u001b[37m\u001b[0m \u001b[1m0s\u001b[0m 5ms/step - accuracy: 0.3145 - loss: 3.2323\n",
      "Epoch 29/100\n",
      "\u001b[1m19/19\u001b[0m \u001b[32m━━━━━━━━━━━━━━━━━━━━\u001b[0m\u001b[37m\u001b[0m \u001b[1m0s\u001b[0m 5ms/step - accuracy: 0.3441 - loss: 3.1493\n",
      "Epoch 30/100\n",
      "\u001b[1m19/19\u001b[0m \u001b[32m━━━━━━━━━━━━━━━━━━━━\u001b[0m\u001b[37m\u001b[0m \u001b[1m0s\u001b[0m 5ms/step - accuracy: 0.3528 - loss: 3.0381\n",
      "Epoch 31/100\n",
      "\u001b[1m19/19\u001b[0m \u001b[32m━━━━━━━━━━━━━━━━━━━━\u001b[0m\u001b[37m\u001b[0m \u001b[1m0s\u001b[0m 9ms/step - accuracy: 0.3774 - loss: 2.9472\n",
      "Epoch 32/100\n",
      "\u001b[1m19/19\u001b[0m \u001b[32m━━━━━━━━━━━━━━━━━━━━\u001b[0m\u001b[37m\u001b[0m \u001b[1m0s\u001b[0m 6ms/step - accuracy: 0.3774 - loss: 2.9264\n",
      "Epoch 33/100\n",
      "\u001b[1m19/19\u001b[0m \u001b[32m━━━━━━━━━━━━━━━━━━━━\u001b[0m\u001b[37m\u001b[0m \u001b[1m0s\u001b[0m 5ms/step - accuracy: 0.4493 - loss: 2.7312\n",
      "Epoch 34/100\n",
      "\u001b[1m19/19\u001b[0m \u001b[32m━━━━━━━━━━━━━━━━━━━━\u001b[0m\u001b[37m\u001b[0m \u001b[1m0s\u001b[0m 5ms/step - accuracy: 0.4532 - loss: 2.6912\n",
      "Epoch 35/100\n",
      "\u001b[1m19/19\u001b[0m \u001b[32m━━━━━━━━━━━━━━━━━━━━\u001b[0m\u001b[37m\u001b[0m \u001b[1m0s\u001b[0m 6ms/step - accuracy: 0.4596 - loss: 2.6484\n",
      "Epoch 36/100\n",
      "\u001b[1m19/19\u001b[0m \u001b[32m━━━━━━━━━━━━━━━━━━━━\u001b[0m\u001b[37m\u001b[0m \u001b[1m0s\u001b[0m 5ms/step - accuracy: 0.4608 - loss: 2.5930\n",
      "Epoch 37/100\n",
      "\u001b[1m19/19\u001b[0m \u001b[32m━━━━━━━━━━━━━━━━━━━━\u001b[0m\u001b[37m\u001b[0m \u001b[1m0s\u001b[0m 6ms/step - accuracy: 0.4839 - loss: 2.4849\n",
      "Epoch 38/100\n",
      "\u001b[1m19/19\u001b[0m \u001b[32m━━━━━━━━━━━━━━━━━━━━\u001b[0m\u001b[37m\u001b[0m \u001b[1m0s\u001b[0m 5ms/step - accuracy: 0.5189 - loss: 2.4033\n",
      "Epoch 39/100\n",
      "\u001b[1m19/19\u001b[0m \u001b[32m━━━━━━━━━━━━━━━━━━━━\u001b[0m\u001b[37m\u001b[0m \u001b[1m0s\u001b[0m 5ms/step - accuracy: 0.5681 - loss: 2.2480\n",
      "Epoch 40/100\n",
      "\u001b[1m19/19\u001b[0m \u001b[32m━━━━━━━━━━━━━━━━━━━━\u001b[0m\u001b[37m\u001b[0m \u001b[1m0s\u001b[0m 5ms/step - accuracy: 0.5776 - loss: 2.2831\n",
      "Epoch 41/100\n",
      "\u001b[1m19/19\u001b[0m \u001b[32m━━━━━━━━━━━━━━━━━━━━\u001b[0m\u001b[37m\u001b[0m \u001b[1m0s\u001b[0m 5ms/step - accuracy: 0.5918 - loss: 2.1899\n",
      "Epoch 42/100\n",
      "\u001b[1m19/19\u001b[0m \u001b[32m━━━━━━━━━━━━━━━━━━━━\u001b[0m\u001b[37m\u001b[0m \u001b[1m0s\u001b[0m 6ms/step - accuracy: 0.6173 - loss: 2.1241\n",
      "Epoch 43/100\n",
      "\u001b[1m19/19\u001b[0m \u001b[32m━━━━━━━━━━━━━━━━━━━━\u001b[0m\u001b[37m\u001b[0m \u001b[1m0s\u001b[0m 6ms/step - accuracy: 0.6570 - loss: 1.9702\n",
      "Epoch 44/100\n",
      "\u001b[1m19/19\u001b[0m \u001b[32m━━━━━━━━━━━━━━━━━━━━\u001b[0m\u001b[37m\u001b[0m \u001b[1m0s\u001b[0m 6ms/step - accuracy: 0.6603 - loss: 1.9504\n",
      "Epoch 45/100\n",
      "\u001b[1m19/19\u001b[0m \u001b[32m━━━━━━━━━━━━━━━━━━━━\u001b[0m\u001b[37m\u001b[0m \u001b[1m0s\u001b[0m 5ms/step - accuracy: 0.6756 - loss: 1.8903\n",
      "Epoch 46/100\n",
      "\u001b[1m19/19\u001b[0m \u001b[32m━━━━━━━━━━━━━━━━━━━━\u001b[0m\u001b[37m\u001b[0m \u001b[1m0s\u001b[0m 5ms/step - accuracy: 0.7057 - loss: 1.8522\n",
      "Epoch 47/100\n",
      "\u001b[1m19/19\u001b[0m \u001b[32m━━━━━━━━━━━━━━━━━━━━\u001b[0m\u001b[37m\u001b[0m \u001b[1m0s\u001b[0m 5ms/step - accuracy: 0.7318 - loss: 1.7516\n",
      "Epoch 48/100\n",
      "\u001b[1m19/19\u001b[0m \u001b[32m━━━━━━━━━━━━━━━━━━━━\u001b[0m\u001b[37m\u001b[0m \u001b[1m0s\u001b[0m 5ms/step - accuracy: 0.6947 - loss: 1.7721\n",
      "Epoch 49/100\n",
      "\u001b[1m19/19\u001b[0m \u001b[32m━━━━━━━━━━━━━━━━━━━━\u001b[0m\u001b[37m\u001b[0m \u001b[1m0s\u001b[0m 5ms/step - accuracy: 0.7496 - loss: 1.6448\n",
      "Epoch 50/100\n",
      "\u001b[1m19/19\u001b[0m \u001b[32m━━━━━━━━━━━━━━━━━━━━\u001b[0m\u001b[37m\u001b[0m \u001b[1m0s\u001b[0m 6ms/step - accuracy: 0.7623 - loss: 1.5485\n",
      "Epoch 51/100\n",
      "\u001b[1m19/19\u001b[0m \u001b[32m━━━━━━━━━━━━━━━━━━━━\u001b[0m\u001b[37m\u001b[0m \u001b[1m0s\u001b[0m 6ms/step - accuracy: 0.7641 - loss: 1.5135\n",
      "Epoch 52/100\n",
      "\u001b[1m19/19\u001b[0m \u001b[32m━━━━━━━━━━━━━━━━━━━━\u001b[0m\u001b[37m\u001b[0m \u001b[1m0s\u001b[0m 7ms/step - accuracy: 0.7619 - loss: 1.5086\n",
      "Epoch 53/100\n",
      "\u001b[1m19/19\u001b[0m \u001b[32m━━━━━━━━━━━━━━━━━━━━\u001b[0m\u001b[37m\u001b[0m \u001b[1m0s\u001b[0m 5ms/step - accuracy: 0.7779 - loss: 1.4574\n",
      "Epoch 54/100\n",
      "\u001b[1m19/19\u001b[0m \u001b[32m━━━━━━━━━━━━━━━━━━━━\u001b[0m\u001b[37m\u001b[0m \u001b[1m0s\u001b[0m 5ms/step - accuracy: 0.7476 - loss: 1.4694\n",
      "Epoch 55/100\n",
      "\u001b[1m19/19\u001b[0m \u001b[32m━━━━━━━━━━━━━━━━━━━━\u001b[0m\u001b[37m\u001b[0m \u001b[1m0s\u001b[0m 5ms/step - accuracy: 0.7709 - loss: 1.3901\n",
      "Epoch 56/100\n",
      "\u001b[1m19/19\u001b[0m \u001b[32m━━━━━━━━━━━━━━━━━━━━\u001b[0m\u001b[37m\u001b[0m \u001b[1m0s\u001b[0m 5ms/step - accuracy: 0.8055 - loss: 1.3014\n",
      "Epoch 57/100\n",
      "\u001b[1m19/19\u001b[0m \u001b[32m━━━━━━━━━━━━━━━━━━━━\u001b[0m\u001b[37m\u001b[0m \u001b[1m0s\u001b[0m 6ms/step - accuracy: 0.8035 - loss: 1.2973\n",
      "Epoch 58/100\n",
      "\u001b[1m19/19\u001b[0m \u001b[32m━━━━━━━━━━━━━━━━━━━━\u001b[0m\u001b[37m\u001b[0m \u001b[1m0s\u001b[0m 5ms/step - accuracy: 0.8105 - loss: 1.2534\n",
      "Epoch 59/100\n",
      "\u001b[1m19/19\u001b[0m \u001b[32m━━━━━━━━━━━━━━━━━━━━\u001b[0m\u001b[37m\u001b[0m \u001b[1m0s\u001b[0m 5ms/step - accuracy: 0.8182 - loss: 1.1997\n",
      "Epoch 60/100\n",
      "\u001b[1m19/19\u001b[0m \u001b[32m━━━━━━━━━━━━━━━━━━━━\u001b[0m\u001b[37m\u001b[0m \u001b[1m0s\u001b[0m 5ms/step - accuracy: 0.8280 - loss: 1.1494\n",
      "Epoch 61/100\n",
      "\u001b[1m19/19\u001b[0m \u001b[32m━━━━━━━━━━━━━━━━━━━━\u001b[0m\u001b[37m\u001b[0m \u001b[1m0s\u001b[0m 5ms/step - accuracy: 0.8065 - loss: 1.1851\n",
      "Epoch 62/100\n",
      "\u001b[1m19/19\u001b[0m \u001b[32m━━━━━━━━━━━━━━━━━━━━\u001b[0m\u001b[37m\u001b[0m \u001b[1m0s\u001b[0m 5ms/step - accuracy: 0.8462 - loss: 1.0816\n",
      "Epoch 63/100\n",
      "\u001b[1m19/19\u001b[0m \u001b[32m━━━━━━━━━━━━━━━━━━━━\u001b[0m\u001b[37m\u001b[0m \u001b[1m0s\u001b[0m 5ms/step - accuracy: 0.8472 - loss: 1.0364\n",
      "Epoch 64/100\n",
      "\u001b[1m19/19\u001b[0m \u001b[32m━━━━━━━━━━━━━━━━━━━━\u001b[0m\u001b[37m\u001b[0m \u001b[1m0s\u001b[0m 5ms/step - accuracy: 0.8670 - loss: 0.9881\n",
      "Epoch 65/100\n",
      "\u001b[1m19/19\u001b[0m \u001b[32m━━━━━━━━━━━━━━━━━━━━\u001b[0m\u001b[37m\u001b[0m \u001b[1m0s\u001b[0m 5ms/step - accuracy: 0.8330 - loss: 1.0385\n",
      "Epoch 66/100\n",
      "\u001b[1m19/19\u001b[0m \u001b[32m━━━━━━━━━━━━━━━━━━━━\u001b[0m\u001b[37m\u001b[0m \u001b[1m0s\u001b[0m 6ms/step - accuracy: 0.8604 - loss: 0.9630\n",
      "Epoch 67/100\n",
      "\u001b[1m19/19\u001b[0m \u001b[32m━━━━━━━━━━━━━━━━━━━━\u001b[0m\u001b[37m\u001b[0m \u001b[1m0s\u001b[0m 5ms/step - accuracy: 0.8432 - loss: 0.9516\n",
      "Epoch 68/100\n",
      "\u001b[1m19/19\u001b[0m \u001b[32m━━━━━━━━━━━━━━━━━━━━\u001b[0m\u001b[37m\u001b[0m \u001b[1m0s\u001b[0m 5ms/step - accuracy: 0.8396 - loss: 0.9330\n",
      "Epoch 69/100\n",
      "\u001b[1m19/19\u001b[0m \u001b[32m━━━━━━━━━━━━━━━━━━━━\u001b[0m\u001b[37m\u001b[0m \u001b[1m0s\u001b[0m 6ms/step - accuracy: 0.8591 - loss: 0.8986\n",
      "Epoch 70/100\n",
      "\u001b[1m19/19\u001b[0m \u001b[32m━━━━━━━━━━━━━━━━━━━━\u001b[0m\u001b[37m\u001b[0m \u001b[1m0s\u001b[0m 5ms/step - accuracy: 0.8375 - loss: 0.9102\n",
      "Epoch 71/100\n",
      "\u001b[1m19/19\u001b[0m \u001b[32m━━━━━━━━━━━━━━━━━━━━\u001b[0m\u001b[37m\u001b[0m \u001b[1m0s\u001b[0m 5ms/step - accuracy: 0.8412 - loss: 0.8699\n",
      "Epoch 72/100\n",
      "\u001b[1m19/19\u001b[0m \u001b[32m━━━━━━━━━━━━━━━━━━━━\u001b[0m\u001b[37m\u001b[0m \u001b[1m0s\u001b[0m 5ms/step - accuracy: 0.8411 - loss: 0.8557\n",
      "Epoch 73/100\n",
      "\u001b[1m19/19\u001b[0m \u001b[32m━━━━━━━━━━━━━━━━━━━━\u001b[0m\u001b[37m\u001b[0m \u001b[1m0s\u001b[0m 5ms/step - accuracy: 0.8394 - loss: 0.8412\n",
      "Epoch 74/100\n",
      "\u001b[1m19/19\u001b[0m \u001b[32m━━━━━━━━━━━━━━━━━━━━\u001b[0m\u001b[37m\u001b[0m \u001b[1m0s\u001b[0m 6ms/step - accuracy: 0.8523 - loss: 0.7794\n",
      "Epoch 75/100\n",
      "\u001b[1m19/19\u001b[0m \u001b[32m━━━━━━━━━━━━━━━━━━━━\u001b[0m\u001b[37m\u001b[0m \u001b[1m0s\u001b[0m 6ms/step - accuracy: 0.8430 - loss: 0.7932\n",
      "Epoch 76/100\n",
      "\u001b[1m19/19\u001b[0m \u001b[32m━━━━━━━━━━━━━━━━━━━━\u001b[0m\u001b[37m\u001b[0m \u001b[1m0s\u001b[0m 6ms/step - accuracy: 0.8596 - loss: 0.7639\n",
      "Epoch 77/100\n",
      "\u001b[1m19/19\u001b[0m \u001b[32m━━━━━━━━━━━━━━━━━━━━\u001b[0m\u001b[37m\u001b[0m \u001b[1m0s\u001b[0m 6ms/step - accuracy: 0.8478 - loss: 0.7530\n",
      "Epoch 78/100\n",
      "\u001b[1m19/19\u001b[0m \u001b[32m━━━━━━━━━━━━━━━━━━━━\u001b[0m\u001b[37m\u001b[0m \u001b[1m0s\u001b[0m 6ms/step - accuracy: 0.8532 - loss: 0.7447\n",
      "Epoch 79/100\n",
      "\u001b[1m19/19\u001b[0m \u001b[32m━━━━━━━━━━━━━━━━━━━━\u001b[0m\u001b[37m\u001b[0m \u001b[1m0s\u001b[0m 5ms/step - accuracy: 0.8763 - loss: 0.6796\n",
      "Epoch 80/100\n",
      "\u001b[1m19/19\u001b[0m \u001b[32m━━━━━━━━━━━━━━━━━━━━\u001b[0m\u001b[37m\u001b[0m \u001b[1m0s\u001b[0m 5ms/step - accuracy: 0.8642 - loss: 0.6682\n",
      "Epoch 81/100\n",
      "\u001b[1m19/19\u001b[0m \u001b[32m━━━━━━━━━━━━━━━━━━━━\u001b[0m\u001b[37m\u001b[0m \u001b[1m0s\u001b[0m 5ms/step - accuracy: 0.8594 - loss: 0.7339\n",
      "Epoch 82/100\n",
      "\u001b[1m19/19\u001b[0m \u001b[32m━━━━━━━━━━━━━━━━━━━━\u001b[0m\u001b[37m\u001b[0m \u001b[1m0s\u001b[0m 5ms/step - accuracy: 0.8478 - loss: 0.6894\n",
      "Epoch 83/100\n",
      "\u001b[1m19/19\u001b[0m \u001b[32m━━━━━━━━━━━━━━━━━━━━\u001b[0m\u001b[37m\u001b[0m \u001b[1m0s\u001b[0m 5ms/step - accuracy: 0.8554 - loss: 0.6768\n",
      "Epoch 84/100\n",
      "\u001b[1m19/19\u001b[0m \u001b[32m━━━━━━━━━━━━━━━━━━━━\u001b[0m\u001b[37m\u001b[0m \u001b[1m0s\u001b[0m 5ms/step - accuracy: 0.8688 - loss: 0.6217\n",
      "Epoch 85/100\n",
      "\u001b[1m19/19\u001b[0m \u001b[32m━━━━━━━━━━━━━━━━━━━━\u001b[0m\u001b[37m\u001b[0m \u001b[1m0s\u001b[0m 5ms/step - accuracy: 0.8662 - loss: 0.6324\n",
      "Epoch 86/100\n",
      "\u001b[1m19/19\u001b[0m \u001b[32m━━━━━━━━━━━━━━━━━━━━\u001b[0m\u001b[37m\u001b[0m \u001b[1m0s\u001b[0m 5ms/step - accuracy: 0.8879 - loss: 0.6054\n",
      "Epoch 87/100\n",
      "\u001b[1m19/19\u001b[0m \u001b[32m━━━━━━━━━━━━━━━━━━━━\u001b[0m\u001b[37m\u001b[0m \u001b[1m0s\u001b[0m 5ms/step - accuracy: 0.8669 - loss: 0.6262\n",
      "Epoch 88/100\n",
      "\u001b[1m19/19\u001b[0m \u001b[32m━━━━━━━━━━━━━━━━━━━━\u001b[0m\u001b[37m\u001b[0m \u001b[1m0s\u001b[0m 5ms/step - accuracy: 0.8824 - loss: 0.5659\n",
      "Epoch 89/100\n",
      "\u001b[1m19/19\u001b[0m \u001b[32m━━━━━━━━━━━━━━━━━━━━\u001b[0m\u001b[37m\u001b[0m \u001b[1m0s\u001b[0m 5ms/step - accuracy: 0.8482 - loss: 0.6337\n",
      "Epoch 90/100\n",
      "\u001b[1m19/19\u001b[0m \u001b[32m━━━━━━━━━━━━━━━━━━━━\u001b[0m\u001b[37m\u001b[0m \u001b[1m0s\u001b[0m 5ms/step - accuracy: 0.8568 - loss: 0.5842\n",
      "Epoch 91/100\n",
      "\u001b[1m19/19\u001b[0m \u001b[32m━━━━━━━━━━━━━━━━━━━━\u001b[0m\u001b[37m\u001b[0m \u001b[1m0s\u001b[0m 5ms/step - accuracy: 0.8780 - loss: 0.5531\n",
      "Epoch 92/100\n",
      "\u001b[1m19/19\u001b[0m \u001b[32m━━━━━━━━━━━━━━━━━━━━\u001b[0m\u001b[37m\u001b[0m \u001b[1m0s\u001b[0m 6ms/step - accuracy: 0.8897 - loss: 0.5246\n",
      "Epoch 93/100\n",
      "\u001b[1m19/19\u001b[0m \u001b[32m━━━━━━━━━━━━━━━━━━━━\u001b[0m\u001b[37m\u001b[0m \u001b[1m0s\u001b[0m 5ms/step - accuracy: 0.8771 - loss: 0.5274\n",
      "Epoch 94/100\n",
      "\u001b[1m19/19\u001b[0m \u001b[32m━━━━━━━━━━━━━━━━━━━━\u001b[0m\u001b[37m\u001b[0m \u001b[1m0s\u001b[0m 5ms/step - accuracy: 0.8785 - loss: 0.5472\n",
      "Epoch 95/100\n",
      "\u001b[1m19/19\u001b[0m \u001b[32m━━━━━━━━━━━━━━━━━━━━\u001b[0m\u001b[37m\u001b[0m \u001b[1m0s\u001b[0m 7ms/step - accuracy: 0.8697 - loss: 0.5393\n",
      "Epoch 96/100\n",
      "\u001b[1m19/19\u001b[0m \u001b[32m━━━━━━━━━━━━━━━━━━━━\u001b[0m\u001b[37m\u001b[0m \u001b[1m0s\u001b[0m 5ms/step - accuracy: 0.8678 - loss: 0.5538\n",
      "Epoch 97/100\n",
      "\u001b[1m19/19\u001b[0m \u001b[32m━━━━━━━━━━━━━━━━━━━━\u001b[0m\u001b[37m\u001b[0m \u001b[1m0s\u001b[0m 5ms/step - accuracy: 0.8956 - loss: 0.5016\n",
      "Epoch 98/100\n",
      "\u001b[1m19/19\u001b[0m \u001b[32m━━━━━━━━━━━━━━━━━━━━\u001b[0m\u001b[37m\u001b[0m \u001b[1m0s\u001b[0m 5ms/step - accuracy: 0.8973 - loss: 0.4755\n",
      "Epoch 99/100\n",
      "\u001b[1m19/19\u001b[0m \u001b[32m━━━━━━━━━━━━━━━━━━━━\u001b[0m\u001b[37m\u001b[0m \u001b[1m0s\u001b[0m 5ms/step - accuracy: 0.8878 - loss: 0.4555\n",
      "Epoch 100/100\n",
      "\u001b[1m19/19\u001b[0m \u001b[32m━━━━━━━━━━━━━━━━━━━━\u001b[0m\u001b[37m\u001b[0m \u001b[1m0s\u001b[0m 5ms/step - accuracy: 0.8820 - loss: 0.4570\n"
     ]
    },
    {
     "data": {
      "text/plain": [
       "<keras.src.callbacks.history.History at 0x23d4c263a10>"
      ]
     },
     "execution_count": 15,
     "metadata": {},
     "output_type": "execute_result"
    }
   ],
   "source": [
    "model = Sequential()\n",
    "\n",
    "# Embedding \n",
    "model.add(Embedding(total_words , 50 ,input_length= x.shape[1] ))\n",
    "\n",
    "# LSTM\n",
    "model.add(LSTM(100 , return_sequences = False )) # return_sequences : Sadece son çıktıyı gösterme işlemi.\n",
    "\n",
    "# Output\n",
    "model.add(Dense(total_words , activation = \"softmax\"))\n",
    "\n",
    "# Model Compile\n",
    "model.compile(optimizer = \"adam\" , loss = \"categorical_crossentropy\" , metrics = [\"accuracy\"])\n",
    "\n",
    "# Model Training\n",
    "model.fit(x , y , epochs = 100,verbose = 1)"
   ]
  },
  {
   "cell_type": "code",
   "execution_count": 16,
   "id": "96f58830-b4e9-408c-bbfe-b0b7297cd36a",
   "metadata": {},
   "outputs": [],
   "source": [
    "def generate_text (seed_text , next_words):\n",
    "    for _ in range(next_words):\n",
    "\n",
    "        # Girdi metnini sayısal verileri dönüştürme\n",
    "        token_list = tokenizer.texts_to_sequences([seed_text])[0]\n",
    "\n",
    "        # Padding\n",
    "        token_list = pad_sequences([token_list] , maxlen = max_sequence_length - 1 , padding = \"pre\")\n",
    "\n",
    "        # Prediction\n",
    "        predicted_probabilities = model.predict(token_list , verbose = 0)\n",
    "\n",
    "        # En yüksel olasılığa sahip kelimenin indexini bul \n",
    "        predicted_word_index = np.argmax(predicted_probabilities , axis = -1 )\n",
    "\n",
    "        # Tokenizer ile kelime index'inde asıl kelimeyi bul\n",
    "        predicted_word = tokenizer.index_word[predicted_word_index[0]]\n",
    "\n",
    "        seed_text = seed_text + \" \" + predicted_word\n",
    "\n",
    "    return seed_text"
   ]
  },
  {
   "cell_type": "code",
   "execution_count": 34,
   "id": "7e5cb822-095d-429b-9d88-42ec0a7ef296",
   "metadata": {},
   "outputs": [
    {
     "name": "stdout",
     "output_type": "stream",
     "text": [
      "Sabah  koşusu bana enerji veriyor\n"
     ]
    }
   ],
   "source": [
    "seed_text = \"Sabah\"\n",
    "print(f\"{generate_text(seed_text,4)}\")"
   ]
  },
  {
   "cell_type": "code",
   "execution_count": null,
   "id": "fb89c314-2665-4d1f-a8ad-2be8e73b8826",
   "metadata": {},
   "outputs": [],
   "source": []
  }
 ],
 "metadata": {
  "kernelspec": {
   "display_name": "Python 3 (ipykernel)",
   "language": "python",
   "name": "python3"
  },
  "language_info": {
   "codemirror_mode": {
    "name": "ipython",
    "version": 3
   },
   "file_extension": ".py",
   "mimetype": "text/x-python",
   "name": "python",
   "nbconvert_exporter": "python",
   "pygments_lexer": "ipython3",
   "version": "3.12.7"
  }
 },
 "nbformat": 4,
 "nbformat_minor": 5
}
