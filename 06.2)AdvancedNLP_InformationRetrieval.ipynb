{
 "cells": [
  {
   "cell_type": "markdown",
   "id": "a0902c7a-6624-4469-bbc6-64550b36b0fb",
   "metadata": {},
   "source": [
    "# Bilgi Getirimi (Information Retrieval)"
   ]
  },
  {
   "cell_type": "code",
   "execution_count": 1,
   "id": "5a92cc4a-6b15-4f62-9e7a-2ab3f81e1032",
   "metadata": {},
   "outputs": [],
   "source": [
    "from transformers import BertTokenizer , BertModel\n",
    "\n",
    "import numpy as np\n",
    "from sklearn.metrics.pairwise import cosine_similarity"
   ]
  },
  {
   "cell_type": "markdown",
   "id": "b6feff46-63bf-4f27-91ce-b74f94f82f96",
   "metadata": {},
   "source": [
    "**Tokenizer and Model Create**"
   ]
  },
  {
   "cell_type": "code",
   "execution_count": 2,
   "id": "0de8625a-4c89-4ac6-8f96-df86e45ce8cc",
   "metadata": {},
   "outputs": [],
   "source": [
    "model_name = \"bert-base-uncased\" # Küçük boyutlu BERT modeli\n",
    "tokenizer = BertTokenizer.from_pretrained(model_name) # Tokenizer yükle\n",
    "model = BertModel.from_pretrained(model_name) # Önceden eğitilmiş BERT modeli"
   ]
  },
  {
   "cell_type": "markdown",
   "id": "a846d30b-c513-4851-9d14-b5db3b341293",
   "metadata": {},
   "source": [
    "**Veri Oluştur:** Karşılaştırılacak belgeleri ve sorgu cümlesini oluşturma."
   ]
  },
  {
   "cell_type": "code",
   "execution_count": 3,
   "id": "ed5fec76-86a3-4ff8-a1b4-1903d9d3dafe",
   "metadata": {},
   "outputs": [],
   "source": [
    "documents = [\n",
    "    \"Machine learning is a field of artificial intelligence\",\n",
    "    \"Natural language processing involves understanding human language\",\n",
    "    \"Artificial intelligence encomppases machine learning and natural language processing (nlp)\",\n",
    "    \"Deep learning is a subset of machine learning\",\n",
    "    \"Data science combines statistics, adta analysis and machine learning\",\n",
    "    \"I go to shop\"\n",
    " ]\n",
    "\n",
    "query = \"What is deep learning?\""
   ]
  },
  {
   "cell_type": "markdown",
   "id": "29719c5e-c790-4bf7-a581-620e4cd94c1f",
   "metadata": {},
   "source": [
    "**BERT ile Bilgi Getirimi**"
   ]
  },
  {
   "cell_type": "code",
   "execution_count": 4,
   "id": "ae45ab43-ba8d-494c-b49f-d9f7fb970003",
   "metadata": {},
   "outputs": [],
   "source": [
    "def get_embedding(text):\n",
    "\n",
    "    # Tokenize\n",
    "    inputs = tokenizer(text , return_tensors= \"pt\", truncation = True , padding = True)\n",
    "\n",
    "    # Modeli çalıştır\n",
    "    outputs = model(**inputs)\n",
    "\n",
    "    # Son gizli katmanı alalım\n",
    "    last_hidden_state = outputs.last_hidden_state\n",
    "\n",
    "    # Metin temsili\n",
    "    embedding = last_hidden_state.mean(dim = 1)\n",
    "\n",
    "    # Vektörü numpy olarak return et\n",
    "    return embedding.detach().numpy()"
   ]
  },
  {
   "cell_type": "markdown",
   "id": "11f0fef3-0318-41b7-94a4-5fc601d83d30",
   "metadata": {},
   "source": [
    "**Belgeler ve sorgu için embedding vektörlerini al**"
   ]
  },
  {
   "cell_type": "code",
   "execution_count": 5,
   "id": "8207b2b2-8982-4254-bab2-212b9abf4073",
   "metadata": {},
   "outputs": [],
   "source": [
    "doc_embedding = np.vstack([get_embedding(doc) for doc in documents])\n",
    "query_embedding = get_embedding(query)"
   ]
  },
  {
   "cell_type": "markdown",
   "id": "a9dfc85b-8bd3-4147-b145-b2eb7ada50f7",
   "metadata": {},
   "source": [
    "**Kosinüs benzerliği ile belgeler arasındaki benzerliği hesaplama**"
   ]
  },
  {
   "cell_type": "code",
   "execution_count": 6,
   "id": "5627cf65-a636-46e6-b3c9-a0bb403bece7",
   "metadata": {},
   "outputs": [],
   "source": [
    "similarities = cosine_similarity(query_embedding , doc_embedding)"
   ]
  },
  {
   "cell_type": "markdown",
   "id": "1ae7257d-28e2-42c6-96ed-f56b30b55dad",
   "metadata": {},
   "source": [
    "**Her belgenin benzerlik skoru**"
   ]
  },
  {
   "cell_type": "code",
   "execution_count": 7,
   "id": "9233120a-04c9-4446-9d7b-73db34fa1214",
   "metadata": {},
   "outputs": [
    {
     "name": "stdout",
     "output_type": "stream",
     "text": [
      "Document : Machine learning is a field of artificial intelligence \n",
      " 0.634821891784668\n",
      "Document : Natural language processing involves understanding human language \n",
      " 0.626939058303833\n",
      "Document : Artificial intelligence encomppases machine learning and natural language processing (nlp) \n",
      " 0.5046247243881226\n",
      "Document : Deep learning is a subset of machine learning \n",
      " 0.6263622641563416\n",
      "Document : Data science combines statistics, adta analysis and machine learning \n",
      " 0.6136887669563293\n",
      "Document : I go to shop \n",
      " 0.5354945659637451\n"
     ]
    }
   ],
   "source": [
    "for i , score in enumerate(similarities[0]):\n",
    "    print(f\"Document : {documents[i]} \\n {score}\")"
   ]
  },
  {
   "cell_type": "markdown",
   "id": "30ac633b-87d8-4429-a572-2a3f0da1a2b9",
   "metadata": {},
   "source": [
    "**En yüksel skora sahip metin**"
   ]
  },
  {
   "cell_type": "code",
   "execution_count": 8,
   "id": "084d6020-2d76-4d12-b7cd-bdab5e5625a4",
   "metadata": {},
   "outputs": [
    {
     "data": {
      "text/plain": [
       "'Machine learning is a field of artificial intelligence'"
      ]
     },
     "execution_count": 8,
     "metadata": {},
     "output_type": "execute_result"
    }
   ],
   "source": [
    "most_similar_index = similarities.argmax()\n",
    "documents[most_similar_index]"
   ]
  },
  {
   "cell_type": "code",
   "execution_count": null,
   "id": "a18020da-4a77-436f-99cb-b6704cb977d7",
   "metadata": {},
   "outputs": [],
   "source": []
  }
 ],
 "metadata": {
  "kernelspec": {
   "display_name": "Python 3 (ipykernel)",
   "language": "python",
   "name": "python3"
  },
  "language_info": {
   "codemirror_mode": {
    "name": "ipython",
    "version": 3
   },
   "file_extension": ".py",
   "mimetype": "text/x-python",
   "name": "python",
   "nbconvert_exporter": "python",
   "pygments_lexer": "ipython3",
   "version": "3.12.7"
  }
 },
 "nbformat": 4,
 "nbformat_minor": 5
}
