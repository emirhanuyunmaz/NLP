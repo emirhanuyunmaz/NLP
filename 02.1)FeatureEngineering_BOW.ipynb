{
 "cells": [
  {
   "cell_type": "markdown",
   "id": "aad1a79d-116c-4e50-aff9-4f2470192d33",
   "metadata": {},
   "source": [
    "# Özellik Mühendisliği (Feature Engineering)"
   ]
  },
  {
   "cell_type": "markdown",
   "id": "6353d0dc-6225-47b1-87ac-43d68aa1d22e",
   "metadata": {},
   "source": [
    "### Bag of Words"
   ]
  },
  {
   "cell_type": "code",
   "execution_count": 1,
   "id": "cef846f4-7350-4993-8306-2a479b70db61",
   "metadata": {},
   "outputs": [
    {
     "name": "stdout",
     "output_type": "stream",
     "text": [
      "Kelime Kümesi :['bahçede' 'evde' 'kedi']\n",
      "Vector Temsili : [[1 0 1]\n",
      " [0 1 1]]\n"
     ]
    }
   ],
   "source": [
    "#CountVektorize içeriye ektarılması\n",
    "from sklearn.feature_extraction.text import CountVectorizer\n",
    "\n",
    "# Veri seti oluşturma\n",
    "documents = [\n",
    "    \"kedi bahçede\",\n",
    "    \"kedi evde\"\n",
    "]\n",
    "\n",
    "# Vectorizer tanımlama\n",
    "vectorizer = CountVectorizer()\n",
    "\n",
    "# Metni sayısal vektörlere çevir\n",
    "x = vectorizer.fit_transform(documents)\n",
    "\n",
    "# Kelime Kümesi Oluşturma\n",
    "feature_names = vectorizer.get_feature_names_out()\n",
    "print(f\"Kelime Kümesi :{feature_names}\")\n",
    "\n",
    "# Vektör Temsili\n",
    "vector_temsili = x.toarray()\n",
    "print(f\"Vector Temsili : {vector_temsili}\")"
   ]
  },
  {
   "cell_type": "markdown",
   "id": "bd374cec-2200-45b3-a4dc-878e96828fcf",
   "metadata": {},
   "source": [
    "<b>IMDB veri seti ile yapılması</b>"
   ]
  },
  {
   "cell_type": "code",
   "execution_count": 2,
   "id": "f1fea891-f58c-4e0e-81da-a7ffa2bff48b",
   "metadata": {},
   "outputs": [
    {
     "data": {
      "text/plain": [
       "50000"
      ]
     },
     "execution_count": 2,
     "metadata": {},
     "output_type": "execute_result"
    }
   ],
   "source": [
    "import pandas as pd\n",
    "from sklearn.feature_extraction.text import CountVectorizer\n",
    "import re\n",
    "from collections import Counter\n",
    "\n",
    "# Veri setinin içeriye aktarılması\n",
    "df = pd.read_csv(\"IMDB Dataset.csv\")\n",
    "\n",
    "#Metin verilerini alma işlemi\n",
    "documents = df[\"review\"]\n",
    "labels = df[\"sentiment\"]\n",
    "\n",
    "# Metin temizleme\n",
    "\n",
    "def clean_text(text):\n",
    "    \n",
    "    # Büyük küçük harf çevrimi\n",
    "    text = text.lower()\n",
    "\n",
    "    # Rakamları temizleme\n",
    "    text = re.sub(r\"\\d+\",\"\",text)\n",
    "\n",
    "    # Özel karakterlerin kaldırılması\n",
    "    text = re.sub(r\"[^\\w\\s]\",\"\",text)\n",
    "\n",
    "    #Kısa Kelimelerin temizlenmesi\n",
    "    text = \" \".join([word for word in text.split() if len(word) > 2])\n",
    "\n",
    "    #Temizlenmiş text'i return et\n",
    "    return text\n",
    "\n",
    "cleaned_doc = [clean_text(row) for row in documents]\n",
    "len(cleaned_doc)"
   ]
  },
  {
   "cell_type": "markdown",
   "id": "96500e60-02d4-4fbc-aeec-42377b770682",
   "metadata": {},
   "source": [
    "<b><i>Bag of Words (BOW)</i></b>"
   ]
  },
  {
   "cell_type": "code",
   "execution_count": 3,
   "id": "fa02cd47-2804-4bc5-a5b6-04d020b87242",
   "metadata": {},
   "outputs": [
    {
     "name": "stdout",
     "output_type": "stream",
     "text": [
      "Vektör temsili : (100, 4889)\n"
     ]
    }
   ],
   "source": [
    "# Vectorizer Tamımlama : Metinleri sayısal olarak gösterme\n",
    "count_vectorizer = CountVectorizer()\n",
    "\n",
    "# Metin -> Sayısal hale getirme\n",
    "x = vectorizer.fit_transform(cleaned_doc[:100])\n",
    "\n",
    "# Kelime kümesi göster\n",
    "feature_names = vectorizer.get_feature_names_out()\n",
    "\n",
    "# Vektör temsili göster \n",
    "vector_temsili2 = x.toarray()\n",
    "print(f\"Vektör temsili : {vector_temsili2.shape}\")\n",
    "\n",
    "df_bow = pd.DataFrame(vector_temsili2 , columns = feature_names)\n",
    "\n",
    "# Kelime frekansları\n",
    "word_counts = x.sum(axis = 0).A1\n",
    "\n",
    "word_freq = dict(zip(feature_names,word_counts))\n"
   ]
  },
  {
   "cell_type": "code",
   "execution_count": 4,
   "id": "22ecb2ac-2d06-411d-b5f0-a43462794c0a",
   "metadata": {},
   "outputs": [],
   "source": [
    "# word_freq"
   ]
  },
  {
   "cell_type": "code",
   "execution_count": null,
   "id": "9c443dd3-70b1-48d8-a3fd-43d1f546c694",
   "metadata": {},
   "outputs": [],
   "source": []
  }
 ],
 "metadata": {
  "kernelspec": {
   "display_name": "Python 3 (ipykernel)",
   "language": "python",
   "name": "python3"
  },
  "language_info": {
   "codemirror_mode": {
    "name": "ipython",
    "version": 3
   },
   "file_extension": ".py",
   "mimetype": "text/x-python",
   "name": "python",
   "nbconvert_exporter": "python",
   "pygments_lexer": "ipython3",
   "version": "3.12.7"
  }
 },
 "nbformat": 4,
 "nbformat_minor": 5
}
