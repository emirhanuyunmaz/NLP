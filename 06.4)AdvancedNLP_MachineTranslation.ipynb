{
 "cells": [
  {
   "cell_type": "markdown",
   "id": "485d4763-c3e2-4557-a9b9-f77d8b20eefa",
   "metadata": {},
   "source": [
    "# Makine Çevirisi (Machine Translation)"
   ]
  },
  {
   "cell_type": "code",
   "execution_count": 1,
   "id": "71722b69-fb21-410f-a812-ed9f49685fb9",
   "metadata": {},
   "outputs": [],
   "source": [
    "from transformers import MarianMTModel , MarianTokenizer"
   ]
  },
  {
   "cell_type": "code",
   "execution_count": 2,
   "id": "10313637-c706-42ec-b808-675c53bc3b95",
   "metadata": {},
   "outputs": [
    {
     "name": "stderr",
     "output_type": "stream",
     "text": [
      "C:\\Users\\emirh\\anaconda3\\Lib\\site-packages\\transformers\\models\\marian\\tokenization_marian.py:175: UserWarning: Recommended: pip install sacremoses.\n",
      "  warnings.warn(\"Recommended: pip install sacremoses.\")\n"
     ]
    }
   ],
   "source": [
    "model_name = \"Helsinki-NLP/opus-mt-en-fr\" # en to fr\n",
    "tokenizer = MarianTokenizer.from_pretrained(model_name)\n",
    "model = MarianMTModel.from_pretrained(model_name)"
   ]
  },
  {
   "cell_type": "markdown",
   "id": "428ea004-f235-4eda-a976-a1f06eac3033",
   "metadata": {},
   "source": [
    "**Encode edelim , sonrasında modele input olarak verelim**"
   ]
  },
  {
   "cell_type": "code",
   "execution_count": 3,
   "id": "2cd7fdff-e718-4cb1-b077-b47f063d24b0",
   "metadata": {},
   "outputs": [
    {
     "data": {
      "text/plain": [
       "'Bonjour, quel est votre nom ?'"
      ]
     },
     "execution_count": 3,
     "metadata": {},
     "output_type": "execute_result"
    }
   ],
   "source": [
    "text = \"Hello what is your name ?\"\n",
    "translated_text = model.generate(**tokenizer(text , return_tensors = \"pt\" , padding = True ))\n",
    "translated_text = tokenizer.decode(translated_text[0] , skip_special_tokens = True )\n",
    "translated_text"
   ]
  }
 ],
 "metadata": {
  "kernelspec": {
   "display_name": "Python 3 (ipykernel)",
   "language": "python",
   "name": "python3"
  },
  "language_info": {
   "codemirror_mode": {
    "name": "ipython",
    "version": 3
   },
   "file_extension": ".py",
   "mimetype": "text/x-python",
   "name": "python",
   "nbconvert_exporter": "python",
   "pygments_lexer": "ipython3",
   "version": "3.12.7"
  }
 },
 "nbformat": 4,
 "nbformat_minor": 5
}
