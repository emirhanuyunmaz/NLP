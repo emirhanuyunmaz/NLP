{
 "cells": [
  {
   "cell_type": "markdown",
   "id": "7da97343-ea36-46b0-9e2f-7bcfe35e410e",
   "metadata": {},
   "source": [
    "# Metin Özetleme (Text Summarization)"
   ]
  },
  {
   "cell_type": "code",
   "execution_count": 1,
   "id": "929c070b-2d3c-4037-a940-9d2d15de9ed6",
   "metadata": {},
   "outputs": [],
   "source": [
    "from transformers import pipeline"
   ]
  },
  {
   "cell_type": "markdown",
   "id": "a5489dba-6469-4482-935f-b758b5660a76",
   "metadata": {},
   "source": [
    "**Özetleme Pipline Yükleme**"
   ]
  },
  {
   "cell_type": "code",
   "execution_count": 2,
   "id": "f80c0416-bf3b-4ec8-8736-02f403e3996e",
   "metadata": {},
   "outputs": [
    {
     "name": "stderr",
     "output_type": "stream",
     "text": [
      "No model was supplied, defaulted to sshleifer/distilbart-cnn-12-6 and revision a4f8f3e (https://huggingface.co/sshleifer/distilbart-cnn-12-6).\n",
      "Using a pipeline without specifying a model name and revision in production is not recommended.\n"
     ]
    },
    {
     "name": "stdout",
     "output_type": "stream",
     "text": [
      "WARNING:tensorflow:From C:\\Users\\emirh\\anaconda3\\Lib\\site-packages\\tf_keras\\src\\losses.py:2976: The name tf.losses.sparse_softmax_cross_entropy is deprecated. Please use tf.compat.v1.losses.sparse_softmax_cross_entropy instead.\n",
      "\n"
     ]
    },
    {
     "data": {
      "application/vnd.jupyter.widget-view+json": {
       "model_id": "109235e1f19d45eca66410d1e7ca4c76",
       "version_major": 2,
       "version_minor": 0
      },
      "text/plain": [
       "model.safetensors:   7%|7         | 94.4M/1.32G [00:00<?, ?B/s]"
      ]
     },
     "metadata": {},
     "output_type": "display_data"
    },
    {
     "name": "stderr",
     "output_type": "stream",
     "text": [
      "Device set to use cpu\n"
     ]
    }
   ],
   "source": [
    "summarizer = pipeline(\"summarization\")"
   ]
  },
  {
   "cell_type": "code",
   "execution_count": 3,
   "id": "41d701bf-722f-47f4-a059-246930621c2e",
   "metadata": {},
   "outputs": [],
   "source": [
    "text = \"\"\"\n",
    "Machine learning (ML) is the scientific study of algorithms and statistical models that computer systems use \n",
    "to progressively improve their performance on a specific task. Machine learning algorithms build a mathematical \n",
    "model of sample data, known as \"training data\", in order to make predictions or decisions without being explicitly \n",
    "programmed to perform the task. Machine learning algorithms are used in the applications of email filtering, \n",
    "detection of network intruders, and computer vision, where it is infeasible to develop an algorithm of specific \n",
    "instructions for performing the task. Machine learning is closely related to computational statistics, which focuses \n",
    "on making predictions using computers. The study of mathematical optimization delivers methods, theory and application \n",
    "domains to the field of machine learning. Data mining is a field of study within machine learning, and focuses on exploratory \n",
    "data analysis through unsupervised learning. In its application across business problems, machine learning is also referred \n",
    "to as predictive analytics.\n",
    "\"\"\""
   ]
  },
  {
   "cell_type": "markdown",
   "id": "407570c7-6ee1-4fa4-82e4-3ffaf11d6294",
   "metadata": {},
   "source": [
    "**Metin Özetleme**"
   ]
  },
  {
   "cell_type": "code",
   "execution_count": 4,
   "id": "748ac50c-948c-449e-aa6e-7ba3ed843b63",
   "metadata": {},
   "outputs": [],
   "source": [
    "summary = summarizer(\n",
    "    text ,\n",
    "    max_length = 20 ,\n",
    "    min_length = 5 ,\n",
    "    do_sample = True\n",
    ")"
   ]
  },
  {
   "cell_type": "code",
   "execution_count": 5,
   "id": "f58fe511-2522-4984-9edf-141efcaf2dd1",
   "metadata": {},
   "outputs": [
    {
     "data": {
      "text/plain": [
       "[{'summary_text': ' Machine learning (ML) is the scientific study of algorithms and statistical models that computer systems'}]"
      ]
     },
     "execution_count": 5,
     "metadata": {},
     "output_type": "execute_result"
    }
   ],
   "source": [
    "summary"
   ]
  }
 ],
 "metadata": {
  "kernelspec": {
   "display_name": "Python 3 (ipykernel)",
   "language": "python",
   "name": "python3"
  },
  "language_info": {
   "codemirror_mode": {
    "name": "ipython",
    "version": 3
   },
   "file_extension": ".py",
   "mimetype": "text/x-python",
   "name": "python",
   "nbconvert_exporter": "python",
   "pygments_lexer": "ipython3",
   "version": "3.12.7"
  }
 },
 "nbformat": 4,
 "nbformat_minor": 5
}
