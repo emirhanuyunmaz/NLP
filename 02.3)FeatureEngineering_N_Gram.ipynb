{
 "cells": [
  {
   "cell_type": "markdown",
   "id": "8ed4e3e7-f96a-4577-ba81-23496a72b2c5",
   "metadata": {},
   "source": [
    "# N-Gram"
   ]
  },
  {
   "cell_type": "code",
   "execution_count": 1,
   "id": "abbd368b-b724-4538-bd4b-21a1a5414bcb",
   "metadata": {},
   "outputs": [],
   "source": [
    "from sklearn.feature_extraction.text import CountVectorizer"
   ]
  },
  {
   "cell_type": "markdown",
   "id": "c72bc56d-e3c2-49cf-a815-8f1238d57f8e",
   "metadata": {},
   "source": [
    "<b><i>Örnek Metin</i></b>"
   ]
  },
  {
   "cell_type": "code",
   "execution_count": 2,
   "id": "c3854c8e-3965-44c7-921c-d4ae74eba616",
   "metadata": {},
   "outputs": [],
   "source": [
    "documents = [\n",
    "    \"Bu çalışma N-Gram çalışmasıdır.\",\n",
    "    \"Bu çalışma doğal dil işleme çalışmasıdır\"\n",
    "]"
   ]
  },
  {
   "cell_type": "markdown",
   "id": "d1af8086-f7df-4b6d-909f-b0c39c77237b",
   "metadata": {},
   "source": [
    "<i><b>Unigram</b>,<b>Bigram</b>,<b>Trigram</b> şeklinde 3 farklı n değerine sahip gram modeli.</i>"
   ]
  },
  {
   "cell_type": "code",
   "execution_count": 3,
   "id": "8ab4b17a-0be9-4fa1-9aa3-4c7294218cd0",
   "metadata": {},
   "outputs": [],
   "source": [
    "vectorizer_unigram = CountVectorizer(ngram_range = (1,1))\n",
    "vectorizer_bigram = CountVectorizer(ngram_range = (2,2))\n",
    "vectorizer_trigram = CountVectorizer(ngram_range = (3,3))"
   ]
  },
  {
   "cell_type": "markdown",
   "id": "ba2d4bb6-da58-4470-bbc4-74286e46362c",
   "metadata": {},
   "source": [
    "<b>Unigram</b>"
   ]
  },
  {
   "cell_type": "code",
   "execution_count": 5,
   "id": "de3b1467-25ed-4c0d-ad87-90fe7d7e63ab",
   "metadata": {},
   "outputs": [
    {
     "data": {
      "text/plain": [
       "array(['bu', 'dil', 'doğal', 'gram', 'işleme', 'çalışma', 'çalışmasıdır'],\n",
       "      dtype=object)"
      ]
     },
     "execution_count": 5,
     "metadata": {},
     "output_type": "execute_result"
    }
   ],
   "source": [
    "x_unigram = vectorizer_unigram.fit_transform(documents)\n",
    "unigram_features = vectorizer_unigram.get_feature_names_out()\n",
    "unigram_features"
   ]
  },
  {
   "cell_type": "markdown",
   "id": "8053e123-c99e-4c7a-9d39-7fd8c925514c",
   "metadata": {},
   "source": [
    "<b>Bigram</b>"
   ]
  },
  {
   "cell_type": "code",
   "execution_count": 7,
   "id": "4d3235f6-186d-4ac0-84f8-8d7ec3bf9d1d",
   "metadata": {},
   "outputs": [
    {
     "data": {
      "text/plain": [
       "array(['bu çalışma', 'dil işleme', 'doğal dil', 'gram çalışmasıdır',\n",
       "       'işleme çalışmasıdır', 'çalışma doğal', 'çalışma gram'],\n",
       "      dtype=object)"
      ]
     },
     "execution_count": 7,
     "metadata": {},
     "output_type": "execute_result"
    }
   ],
   "source": [
    "x_bigram = vectorizer_bigram.fit_transform(documents)\n",
    "bigram_features = vectorizer_bigram.get_feature_names_out()\n",
    "bigram_features"
   ]
  },
  {
   "cell_type": "markdown",
   "id": "151fa981-d363-40a0-8edd-1a706e62cb31",
   "metadata": {},
   "source": [
    "<b>Trigram</b>"
   ]
  },
  {
   "cell_type": "code",
   "execution_count": 8,
   "id": "4e6a66f3-37d2-49ea-ad68-c445328b78b9",
   "metadata": {},
   "outputs": [
    {
     "data": {
      "text/plain": [
       "array(['bu çalışma doğal', 'bu çalışma gram', 'dil işleme çalışmasıdır',\n",
       "       'doğal dil işleme', 'çalışma doğal dil',\n",
       "       'çalışma gram çalışmasıdır'], dtype=object)"
      ]
     },
     "execution_count": 8,
     "metadata": {},
     "output_type": "execute_result"
    }
   ],
   "source": [
    "x_trigram = vectorizer_trigram.fit_transform(documents)\n",
    "trigram_features = vectorizer_trigram.get_feature_names_out()\n",
    "trigram_features"
   ]
  },
  {
   "cell_type": "code",
   "execution_count": null,
   "id": "69535e59-c605-427f-99bd-602cdd6873b3",
   "metadata": {},
   "outputs": [],
   "source": []
  }
 ],
 "metadata": {
  "kernelspec": {
   "display_name": "Python 3 (ipykernel)",
   "language": "python",
   "name": "python3"
  },
  "language_info": {
   "codemirror_mode": {
    "name": "ipython",
    "version": 3
   },
   "file_extension": ".py",
   "mimetype": "text/x-python",
   "name": "python",
   "nbconvert_exporter": "python",
   "pygments_lexer": "ipython3",
   "version": "3.12.7"
  }
 },
 "nbformat": 4,
 "nbformat_minor": 5
}
