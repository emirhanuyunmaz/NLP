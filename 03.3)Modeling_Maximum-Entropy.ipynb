{
 "cells": [
  {
   "cell_type": "markdown",
   "id": "30cee72e-61c5-42ed-9921-8a9a59adfa66",
   "metadata": {},
   "source": [
    "# Maximum Entropy Model"
   ]
  },
  {
   "cell_type": "code",
   "execution_count": 1,
   "id": "1e0005c7-d0f9-4d9c-afe5-7976ecdf26ea",
   "metadata": {},
   "outputs": [],
   "source": [
    "from nltk.classify import MaxentClassifier"
   ]
  },
  {
   "cell_type": "markdown",
   "id": "5c8130af-f0ad-4ae4-9ae1-91aa45b63f45",
   "metadata": {},
   "source": [
    "Classification Problem : Duygu Analizi -> Olumlu/Olumsuz olarak sınıflandırma"
   ]
  },
  {
   "cell_type": "code",
   "execution_count": 3,
   "id": "a072adac-bc49-494f-9e12-4ecd73d00255",
   "metadata": {},
   "outputs": [],
   "source": [
    "# Veri seti\n",
    "train_data = [\n",
    "     ({\"love\":True , \"amazing\":True , \"happy\":True , \"terrible\":False},\"positive\"),\n",
    "     ({\"hate\":True , \"terrible\":True },\"negative\"),\n",
    "     ({\"joy\":True , \"happy\":True , \"hate\":False },\"positive\"),\n",
    "     ({\"sad\":True , \"depressed\":True , \"love\":False },\"negative\")\n",
    "]"
   ]
  },
  {
   "cell_type": "markdown",
   "id": "d030cb76-ed11-46e4-bb28-2826c3a2addc",
   "metadata": {},
   "source": [
    "**Train Maximum Entropy Classifier**"
   ]
  },
  {
   "cell_type": "code",
   "execution_count": 4,
   "id": "d086a165-6a38-4833-a91f-f098022df962",
   "metadata": {},
   "outputs": [
    {
     "name": "stdout",
     "output_type": "stream",
     "text": [
      "  ==> Training (10 iterations)\n",
      "\n",
      "      Iteration    Log Likelihood    Accuracy\n",
      "      ---------------------------------------\n",
      "             1          -0.69315        0.500\n",
      "             2          -0.40641        1.000\n",
      "             3          -0.28861        1.000\n",
      "             4          -0.22397        1.000\n",
      "             5          -0.18304        1.000\n",
      "             6          -0.15479        1.000\n",
      "             7          -0.13410        1.000\n",
      "             8          -0.11829        1.000\n",
      "             9          -0.10582        1.000\n",
      "         Final          -0.09573        1.000\n"
     ]
    },
    {
     "data": {
      "text/plain": [
       "<ConditionalExponentialClassifier: 2 labels, 11 features>"
      ]
     },
     "execution_count": 4,
     "metadata": {},
     "output_type": "execute_result"
    }
   ],
   "source": [
    "classifier = MaxentClassifier.train(train_data,max_iter = 10)\n",
    "classifier"
   ]
  },
  {
   "cell_type": "code",
   "execution_count": 5,
   "id": "671f0c74-82cc-4aaf-a01c-194ca8030bc9",
   "metadata": {},
   "outputs": [
    {
     "data": {
      "text/plain": [
       "{'love': False,\n",
       " 'amazing': False,\n",
       " 'terrible': False,\n",
       " 'happy': False,\n",
       " 'joy': False,\n",
       " 'depressed': False,\n",
       " 'sad': False}"
      ]
     },
     "execution_count": 5,
     "metadata": {},
     "output_type": "execute_result"
    }
   ],
   "source": [
    "test_sentences = \"I do not like this movie\"\n",
    "feature = {word:(word in test_sentences.lower().split()) for word in [\"love\" , \"amazing\" , \"terrible\", \"happy\" , \"joy\" , \"depressed\" , \"sad\" ]}\n",
    "feature"
   ]
  },
  {
   "cell_type": "code",
   "execution_count": 7,
   "id": "59fb03d0-029e-455f-a00a-38789dea22bd",
   "metadata": {},
   "outputs": [
    {
     "data": {
      "text/plain": [
       "'negative'"
      ]
     },
     "execution_count": 7,
     "metadata": {},
     "output_type": "execute_result"
    }
   ],
   "source": [
    "label = classifier.classify(feature)\n",
    "label"
   ]
  },
  {
   "cell_type": "code",
   "execution_count": null,
   "id": "b2b27083-c19d-438a-9b8b-4de04861fb00",
   "metadata": {},
   "outputs": [],
   "source": []
  }
 ],
 "metadata": {
  "kernelspec": {
   "display_name": "Python 3 (ipykernel)",
   "language": "python",
   "name": "python3"
  },
  "language_info": {
   "codemirror_mode": {
    "name": "ipython",
    "version": 3
   },
   "file_extension": ".py",
   "mimetype": "text/x-python",
   "name": "python",
   "nbconvert_exporter": "python",
   "pygments_lexer": "ipython3",
   "version": "3.12.7"
  }
 },
 "nbformat": 4,
 "nbformat_minor": 5
}
