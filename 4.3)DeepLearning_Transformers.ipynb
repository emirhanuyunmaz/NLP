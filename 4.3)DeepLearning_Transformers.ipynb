{
 "cells": [
  {
   "cell_type": "markdown",
   "id": "3cba6fa5-c20b-4dde-8f6b-ee43f4e2e399",
   "metadata": {},
   "source": [
    "# Transformers"
   ]
  },
  {
   "cell_type": "markdown",
   "id": "e25cd647-59e2-4d1e-a015-a2ebfe66ab04",
   "metadata": {},
   "source": [
    "# GPT"
   ]
  },
  {
   "cell_type": "code",
   "execution_count": 1,
   "id": "0304f8da-92bb-499e-8f3b-7ee8ee03c5a2",
   "metadata": {},
   "outputs": [],
   "source": [
    "from transformers import GPT2LMHeadModel , GPT2Tokenizer"
   ]
  },
  {
   "cell_type": "markdown",
   "id": "5bef81cc-584e-47e6-aaeb-ce73a2b0b261",
   "metadata": {},
   "source": [
    "**Modelin Tanımlanması**"
   ]
  },
  {
   "cell_type": "code",
   "execution_count": 2,
   "id": "43cd935c-da7c-49b9-a205-0181aa7e340a",
   "metadata": {},
   "outputs": [],
   "source": [
    "model_name = \"gpt2\""
   ]
  },
  {
   "cell_type": "markdown",
   "id": "623d2321-0fc1-4e64-8a9d-06ffea2a1b45",
   "metadata": {},
   "source": [
    "**Tokenization ve Model Oluşturma**"
   ]
  },
  {
   "cell_type": "code",
   "execution_count": 3,
   "id": "1e987ac3-8344-464b-b7c2-dadb48d4adba",
   "metadata": {},
   "outputs": [],
   "source": [
    "tokenizer = GPT2Tokenizer.from_pretrained(model_name)\n",
    "model = GPT2LMHeadModel.from_pretrained(model_name)\n",
    "text = \"I go to school for\""
   ]
  },
  {
   "cell_type": "markdown",
   "id": "0bf11db2-1770-4ac0-bed0-2a2bbf80b4b7",
   "metadata": {},
   "source": [
    "**Tokenization**"
   ]
  },
  {
   "cell_type": "code",
   "execution_count": 4,
   "id": "ea215680-c008-4614-a808-9154246b4419",
   "metadata": {},
   "outputs": [],
   "source": [
    "inputs = tokenizer.encode(text , return_tensors = \"pt\")"
   ]
  },
  {
   "cell_type": "markdown",
   "id": "16f3fb51-18e0-4db1-9d79-5753145ca460",
   "metadata": {},
   "source": [
    "**Metin Üretimi**"
   ]
  },
  {
   "cell_type": "code",
   "execution_count": 5,
   "id": "699e1c23-d7ef-4f46-9f89-1a1a791c8e19",
   "metadata": {},
   "outputs": [
    {
     "name": "stderr",
     "output_type": "stream",
     "text": [
      "The attention mask and the pad token id were not set. As a consequence, you may observe unexpected behavior. Please pass your input's `attention_mask` to obtain reliable results.\n",
      "Setting `pad_token_id` to `eos_token_id`:50256 for open-end generation.\n",
      "The attention mask is not set and cannot be inferred from input because pad token is same as eos token. As a consequence, you may observe unexpected behavior. Please pass your input's `attention_mask` to obtain reliable results.\n"
     ]
    }
   ],
   "source": [
    "outputs = model.generate(inputs,max_length = 15) # inputs : Modelin başlangıç noktası | max_length : Maksimum kelime sayısı"
   ]
  },
  {
   "cell_type": "markdown",
   "id": "d3e4ecd1-3f28-46df-8f69-89fb30d091fb",
   "metadata": {},
   "source": [
    "**Modelin ürettiği tokenleri okunabilir hale getirme işlemi**"
   ]
  },
  {
   "cell_type": "code",
   "execution_count": 6,
   "id": "f118b684-4f99-469a-8b5e-b178d2a1bc38",
   "metadata": {},
   "outputs": [],
   "source": [
    "generated_text = tokenizer.decode(outputs[0] , skip_special_tokens = True ) # skip_special_tokens : Başlangıç ve bitiş token değerlerini gösterme "
   ]
  },
  {
   "cell_type": "code",
   "execution_count": 7,
   "id": "3054e5a6-e37d-4822-a0bd-acc9b27003ad",
   "metadata": {},
   "outputs": [
    {
     "data": {
      "text/plain": [
       "\"I go to school for a year and a half and I'm not really\""
      ]
     },
     "execution_count": 7,
     "metadata": {},
     "output_type": "execute_result"
    }
   ],
   "source": [
    "generated_text"
   ]
  },
  {
   "cell_type": "markdown",
   "id": "7c66aa4c-80de-4b17-b144-6cf84e501cd2",
   "metadata": {},
   "source": [
    "## LLAMA"
   ]
  },
  {
   "cell_type": "code",
   "execution_count": 8,
   "id": "7bfff6f3-ad29-43f2-8350-c124d333ee4a",
   "metadata": {},
   "outputs": [],
   "source": [
    "from transformers import AutoTokenizer , AutoModelForCausalLM "
   ]
  },
  {
   "cell_type": "markdown",
   "id": "7a18cc79-eeaf-4d82-a91b-8bd2162ce9ed",
   "metadata": {},
   "source": [
    "**Modelin Tanımlanması**"
   ]
  },
  {
   "cell_type": "code",
   "execution_count": 9,
   "id": "6f21d4a1-3934-4792-9509-d6c60ebfb8f1",
   "metadata": {},
   "outputs": [],
   "source": [
    "model_name_llama = \"huggyllama/llama-7b\" "
   ]
  },
  {
   "cell_type": "markdown",
   "id": "2153171b-fc28-4354-9543-156201997af9",
   "metadata": {},
   "source": [
    "**Tokenization ve Modelin Oluşturulması**"
   ]
  },
  {
   "cell_type": "code",
   "execution_count": 10,
   "id": "40002ff8-c320-469f-98b9-601e51cfff09",
   "metadata": {},
   "outputs": [
    {
     "name": "stderr",
     "output_type": "stream",
     "text": [
      "You are using the default legacy behaviour of the <class 'transformers.models.llama.tokenization_llama_fast.LlamaTokenizerFast'>. This is expected, and simply means that the `legacy` (previous) behavior will be used so nothing changes for you. If you want to use the new behaviour, set `legacy=False`. This should only be set if you understand what it means, and thoroughly read the reason why this was added as explained in https://github.com/huggingface/transformers/pull/24565 - if you loaded a llama tokenizer from a GGUF file you can ignore this message.\n"
     ]
    },
    {
     "data": {
      "application/vnd.jupyter.widget-view+json": {
       "model_id": "7d6dc275e4e344aeab681b2496066b7c",
       "version_major": 2,
       "version_minor": 0
      },
      "text/plain": [
       "Loading checkpoint shards:   0%|          | 0/2 [00:00<?, ?it/s]"
      ]
     },
     "metadata": {},
     "output_type": "display_data"
    },
    {
     "data": {
      "application/vnd.jupyter.widget-view+json": {
       "model_id": "a1ebfb8fc82347bcafc7c72f29edf57f",
       "version_major": 2,
       "version_minor": 0
      },
      "text/plain": [
       "generation_config.json:   0%|          | 0.00/137 [00:00<?, ?B/s]"
      ]
     },
     "metadata": {},
     "output_type": "display_data"
    },
    {
     "name": "stderr",
     "output_type": "stream",
     "text": [
      "C:\\Users\\emirh\\anaconda3\\Lib\\site-packages\\huggingface_hub\\file_download.py:143: UserWarning: `huggingface_hub` cache-system uses symlinks by default to efficiently store duplicated files but your machine does not support them in C:\\Users\\emirh\\.cache\\huggingface\\hub\\models--huggyllama--llama-7b. Caching files will still work but in a degraded version that might require more space on your disk. This warning can be disabled by setting the `HF_HUB_DISABLE_SYMLINKS_WARNING` environment variable. For more details, see https://huggingface.co/docs/huggingface_hub/how-to-cache#limitations.\n",
      "To support symlinks on Windows, you either need to activate Developer Mode or to run Python as an administrator. In order to activate developer mode, see this article: https://docs.microsoft.com/en-us/windows/apps/get-started/enable-your-device-for-development\n",
      "  warnings.warn(message)\n"
     ]
    }
   ],
   "source": [
    "tokenizer_llama = AutoTokenizer.from_pretrained(model_name_llama)\n",
    "model_llama = AutoModelForCausalLM.from_pretrained(model_name_llama)\n",
    "text = \"I go to school for\""
   ]
  },
  {
   "cell_type": "markdown",
   "id": "e669eb24-96ff-4941-b350-2fa5f277b242",
   "metadata": {},
   "source": [
    "**Tokenization**"
   ]
  },
  {
   "cell_type": "code",
   "execution_count": 12,
   "id": "ad68ed43-63e7-4da1-8da7-bcd33471c8c2",
   "metadata": {},
   "outputs": [],
   "source": [
    "inputs_llama = tokenizer_llama(text,return_tensors = \"pt\")"
   ]
  },
  {
   "cell_type": "markdown",
   "id": "322ce4b1-cb0a-472b-9579-692cecb79fba",
   "metadata": {},
   "source": [
    "**Metin Üretimi**"
   ]
  },
  {
   "cell_type": "code",
   "execution_count": 13,
   "id": "ab936e5d-dcb7-4c18-9b64-17137e394c3b",
   "metadata": {},
   "outputs": [],
   "source": [
    "outputs_llama = model_llama.generate(inputs_llama.input_ids,max_length = 15)"
   ]
  },
  {
   "cell_type": "markdown",
   "id": "b99472cc-cb1b-452f-a607-32c797dd9c5e",
   "metadata": {},
   "source": [
    "**Modelin ürettiği tokenleri okunabilir hale getirme işlemi**"
   ]
  },
  {
   "cell_type": "code",
   "execution_count": 14,
   "id": "0bc1aae1-0870-4096-b727-d6c03de9c01d",
   "metadata": {},
   "outputs": [],
   "source": [
    "generated_text_llama = tokenizer_llama.decode(outputs_llama[0],skip_special_tokens = True)"
   ]
  },
  {
   "cell_type": "code",
   "execution_count": 15,
   "id": "5593be81-f9f1-4b79-8d5e-3093cc3857d2",
   "metadata": {},
   "outputs": [
    {
     "data": {
      "text/plain": [
       "\"I go to school for aerospace engineering and I'm a\""
      ]
     },
     "execution_count": 15,
     "metadata": {},
     "output_type": "execute_result"
    }
   ],
   "source": [
    "generated_text_llama"
   ]
  },
  {
   "cell_type": "code",
   "execution_count": null,
   "id": "dc613285-99e9-449a-94c4-5a7b8e66dc85",
   "metadata": {},
   "outputs": [],
   "source": []
  }
 ],
 "metadata": {
  "kernelspec": {
   "display_name": "Python 3 (ipykernel)",
   "language": "python",
   "name": "python3"
  },
  "language_info": {
   "codemirror_mode": {
    "name": "ipython",
    "version": 3
   },
   "file_extension": ".py",
   "mimetype": "text/x-python",
   "name": "python",
   "nbconvert_exporter": "python",
   "pygments_lexer": "ipython3",
   "version": "3.12.7"
  }
 },
 "nbformat": 4,
 "nbformat_minor": 5
}
