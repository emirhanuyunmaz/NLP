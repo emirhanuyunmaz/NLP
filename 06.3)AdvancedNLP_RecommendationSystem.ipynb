{
 "cells": [
  {
   "cell_type": "markdown",
   "id": "65bf7c4b-d622-4870-9576-d9969561194a",
   "metadata": {},
   "source": [
    "# Öneri Sistemi ( Recommendation System )"
   ]
  },
  {
   "cell_type": "markdown",
   "id": "d73a14b8-51a2-49f3-9f1b-ca49db0d3e1d",
   "metadata": {},
   "source": [
    "## 1)Deep Learning"
   ]
  },
  {
   "cell_type": "code",
   "execution_count": 1,
   "id": "3e4fecdd-96d4-4a1d-a25a-d6f0ec86bde0",
   "metadata": {},
   "outputs": [],
   "source": [
    "import numpy as np \n",
    "\n",
    "from tensorflow.keras.models import Model\n",
    "from tensorflow.keras.layers import Input , Embedding , Flatten , Dot , Dense\n",
    "from tensorflow.keras.optimizers import Adam\n",
    "\n",
    "from sklearn.model_selection import train_test_split\n",
    "\n",
    "import warnings\n",
    "warnings.filterwarnings(\"ignore\")"
   ]
  },
  {
   "cell_type": "markdown",
   "id": "98f62cc3-460f-4d2d-9db3-0f9e20049c03",
   "metadata": {},
   "source": [
    "**Veri Setinin Oluşturulması**"
   ]
  },
  {
   "cell_type": "code",
   "execution_count": 2,
   "id": "1215484a-2587-4508-a414-84244ebf47d6",
   "metadata": {},
   "outputs": [],
   "source": [
    "user_ids = np.array([0,1,2,3,4,0,1,2,3,4])\n",
    "item_ids = np.array([0,1,2,3,4,1,2,3,4,5])\n",
    "ratings = np.array([5,4,3,2,1,4,5,3,2,1])"
   ]
  },
  {
   "cell_type": "code",
   "execution_count": 3,
   "id": "7155e4d9-20d1-4a0f-b5d1-60ccbe39f0e8",
   "metadata": {},
   "outputs": [],
   "source": [
    "user_ids_train , user_ids_test , item_ids_train , item_ids_test , rating_train , rating_test = train_test_split(user_ids ,item_ids , ratings , test_size = 0.2 , random_state = 41)"
   ]
  },
  {
   "cell_type": "markdown",
   "id": "277cff82-4b76-42b2-b6a1-bba85d4d449e",
   "metadata": {},
   "source": [
    "**Create Neural Network**"
   ]
  },
  {
   "cell_type": "code",
   "execution_count": 4,
   "id": "bb805b98-8124-411d-8722-b2cac5b4f09f",
   "metadata": {},
   "outputs": [],
   "source": [
    "def create_model (num_users , num_items , embedding_dim ):\n",
    "    # İnput Katmanı\n",
    "    user_input = Input(shape = (1,) , name = \"user\" )\n",
    "    item_input = Input(shape = (1,) , name = \"item\" )\n",
    "\n",
    "    # Embedding katmanı\n",
    "    user_embedding = Embedding(input_dim = num_users , output_dim = embedding_dim , name = \"user_embedding\" )(user_input)\n",
    "    item_embedding = Embedding(input_dim = num_items , output_dim = embedding_dim , name = \"item_embedding\" )(item_input)\n",
    "\n",
    "    # Vektör Düzleştirme\n",
    "    user_vec = Flatten()(user_embedding)\n",
    "    item_vec = Flatten()(item_embedding)\n",
    "\n",
    "    dot_product = Dot(axes = 1 ,)([user_vec , item_vec])\n",
    "    output = Dense(1)(dot_product)\n",
    "\n",
    "    model = Model(inputs = [user_input , item_input ], outputs = output)\n",
    "    model.compile(optimizer = Adam(learning_rate = 0.001 ) , loss = \"mean_squared_error\")\n",
    "\n",
    "    return model"
   ]
  },
  {
   "cell_type": "code",
   "execution_count": 5,
   "id": "1589c2c2-79c3-4a2e-bcab-4977195790df",
   "metadata": {},
   "outputs": [
    {
     "name": "stdout",
     "output_type": "stream",
     "text": [
      "Epoch 1/10\n",
      "\u001b[1m1/1\u001b[0m \u001b[32m━━━━━━━━━━━━━━━━━━━━\u001b[0m\u001b[37m\u001b[0m \u001b[1m1s\u001b[0m 953ms/step - loss: 6.2832 - val_loss: 24.9683\n",
      "Epoch 2/10\n",
      "\u001b[1m1/1\u001b[0m \u001b[32m━━━━━━━━━━━━━━━━━━━━\u001b[0m\u001b[37m\u001b[0m \u001b[1m0s\u001b[0m 88ms/step - loss: 6.2779 - val_loss: 24.9582\n",
      "Epoch 3/10\n",
      "\u001b[1m1/1\u001b[0m \u001b[32m━━━━━━━━━━━━━━━━━━━━\u001b[0m\u001b[37m\u001b[0m \u001b[1m0s\u001b[0m 94ms/step - loss: 6.2726 - val_loss: 24.9482\n",
      "Epoch 4/10\n",
      "\u001b[1m1/1\u001b[0m \u001b[32m━━━━━━━━━━━━━━━━━━━━\u001b[0m\u001b[37m\u001b[0m \u001b[1m0s\u001b[0m 92ms/step - loss: 6.2673 - val_loss: 24.9382\n",
      "Epoch 5/10\n",
      "\u001b[1m1/1\u001b[0m \u001b[32m━━━━━━━━━━━━━━━━━━━━\u001b[0m\u001b[37m\u001b[0m \u001b[1m0s\u001b[0m 98ms/step - loss: 6.2620 - val_loss: 24.9281\n",
      "Epoch 6/10\n",
      "\u001b[1m1/1\u001b[0m \u001b[32m━━━━━━━━━━━━━━━━━━━━\u001b[0m\u001b[37m\u001b[0m \u001b[1m0s\u001b[0m 98ms/step - loss: 6.2567 - val_loss: 24.9181\n",
      "Epoch 7/10\n",
      "\u001b[1m1/1\u001b[0m \u001b[32m━━━━━━━━━━━━━━━━━━━━\u001b[0m\u001b[37m\u001b[0m \u001b[1m0s\u001b[0m 90ms/step - loss: 6.2513 - val_loss: 24.9081\n",
      "Epoch 8/10\n",
      "\u001b[1m1/1\u001b[0m \u001b[32m━━━━━━━━━━━━━━━━━━━━\u001b[0m\u001b[37m\u001b[0m \u001b[1m0s\u001b[0m 90ms/step - loss: 6.2460 - val_loss: 24.8980\n",
      "Epoch 9/10\n",
      "\u001b[1m1/1\u001b[0m \u001b[32m━━━━━━━━━━━━━━━━━━━━\u001b[0m\u001b[37m\u001b[0m \u001b[1m0s\u001b[0m 89ms/step - loss: 6.2406 - val_loss: 24.8880\n",
      "Epoch 10/10\n",
      "\u001b[1m1/1\u001b[0m \u001b[32m━━━━━━━━━━━━━━━━━━━━\u001b[0m\u001b[37m\u001b[0m \u001b[1m0s\u001b[0m 97ms/step - loss: 6.2352 - val_loss: 24.8780\n"
     ]
    },
    {
     "data": {
      "text/plain": [
       "<keras.src.callbacks.history.History at 0x26067f0a750>"
      ]
     },
     "execution_count": 5,
     "metadata": {},
     "output_type": "execute_result"
    }
   ],
   "source": [
    "num_user = 5\n",
    "num_items = 6\n",
    "embedding_dim = 8\n",
    "model = create_model(num_user , num_items , embedding_dim)\n",
    "model.fit([user_ids_train , item_ids_train ] , rating_train , epochs = 10 , verbose = 1 , validation_split = 0.1 )\n"
   ]
  },
  {
   "cell_type": "markdown",
   "id": "624ffa5a-a5fa-448e-9e4b-8f6b26355e18",
   "metadata": {},
   "source": [
    "**TEST**"
   ]
  },
  {
   "cell_type": "code",
   "execution_count": 6,
   "id": "0bdeb824-ff9a-4771-a84c-f17f6e0f40a9",
   "metadata": {},
   "outputs": [
    {
     "name": "stdout",
     "output_type": "stream",
     "text": [
      "\u001b[1m1/1\u001b[0m \u001b[32m━━━━━━━━━━━━━━━━━━━━\u001b[0m\u001b[37m\u001b[0m \u001b[1m0s\u001b[0m 42ms/step - loss: 20.3955\n"
     ]
    },
    {
     "data": {
      "text/plain": [
       "20.39545440673828"
      ]
     },
     "execution_count": 6,
     "metadata": {},
     "output_type": "execute_result"
    }
   ],
   "source": [
    "loss = model.evaluate([user_ids_test , item_ids_test],rating_test )\n",
    "loss"
   ]
  },
  {
   "cell_type": "markdown",
   "id": "fddf1b65-75de-4b3c-8688-7e1624fb49ff",
   "metadata": {},
   "source": [
    "**Recommendation Test**"
   ]
  },
  {
   "cell_type": "code",
   "execution_count": 7,
   "id": "bbdfa1a1-5ca0-4d1e-93a7-be01846e6a8d",
   "metadata": {},
   "outputs": [
    {
     "name": "stdout",
     "output_type": "stream",
     "text": [
      "\u001b[1m1/1\u001b[0m \u001b[32m━━━━━━━━━━━━━━━━━━━━\u001b[0m\u001b[37m\u001b[0m \u001b[1m0s\u001b[0m 87ms/step\n",
      "Predicted rating for user : 0 , item: 5 , prediction : 0.01\n"
     ]
    }
   ],
   "source": [
    "user_id = np.array([0])\n",
    "item_id = np.array([5])\n",
    "\n",
    "prediction = model.predict([user_id,item_id])\n",
    "\n",
    "print(f\"Predicted rating for user : {user_id[0]} , item: {item_id[0]} , prediction : {prediction[0][0]:.2f}\")"
   ]
  }
 ],
 "metadata": {
  "kernelspec": {
   "display_name": "Python 3 (ipykernel)",
   "language": "python",
   "name": "python3"
  },
  "language_info": {
   "codemirror_mode": {
    "name": "ipython",
    "version": 3
   },
   "file_extension": ".py",
   "mimetype": "text/x-python",
   "name": "python",
   "nbconvert_exporter": "python",
   "pygments_lexer": "ipython3",
   "version": "3.12.7"
  }
 },
 "nbformat": 4,
 "nbformat_minor": 5
}
