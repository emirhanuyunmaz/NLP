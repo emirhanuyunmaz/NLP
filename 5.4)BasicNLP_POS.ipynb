{
 "cells": [
  {
   "cell_type": "markdown",
   "id": "25824264-60d8-402d-8b86-d890ff876a36",
   "metadata": {},
   "source": [
    "# Metin Parçası Etiketleme (Part of Speech Tagging) (POS)"
   ]
  },
  {
   "cell_type": "code",
   "execution_count": 1,
   "id": "bf2c1bbe-9a58-4794-b7f4-34e868c79aa3",
   "metadata": {},
   "outputs": [],
   "source": [
    "import spacy"
   ]
  },
  {
   "cell_type": "code",
   "execution_count": 2,
   "id": "238abded-2ccd-4896-a281-08d12b70bb4f",
   "metadata": {},
   "outputs": [],
   "source": [
    "nlp = spacy.load(\"en_core_web_sm\")"
   ]
  },
  {
   "cell_type": "code",
   "execution_count": 3,
   "id": "fe58aa72-fe7a-442d-80cc-1165da3257ce",
   "metadata": {},
   "outputs": [],
   "source": [
    "sentence1 = \"What is the weather like today or tomorrow\""
   ]
  },
  {
   "cell_type": "code",
   "execution_count": 4,
   "id": "4ee850bd-4cdd-4257-bae8-7b4171e5557d",
   "metadata": {},
   "outputs": [],
   "source": [
    "doc1 = nlp(sentence1)"
   ]
  },
  {
   "cell_type": "code",
   "execution_count": 5,
   "id": "8c500cb2-706a-4054-b66c-bd77fcae9ced",
   "metadata": {},
   "outputs": [
    {
     "name": "stdout",
     "output_type": "stream",
     "text": [
      "What -> PRON\n",
      "is -> AUX\n",
      "the -> DET\n",
      "weather -> NOUN\n",
      "like -> ADP\n",
      "today -> NOUN\n",
      "or -> CCONJ\n",
      "tomorrow -> NOUN\n"
     ]
    }
   ],
   "source": [
    "for token in doc1:\n",
    "    print(token.text ,\"->\", token.pos_)"
   ]
  },
  {
   "cell_type": "code",
   "execution_count": null,
   "id": "da755cca-77e5-4552-a1e9-68f187ba476c",
   "metadata": {},
   "outputs": [],
   "source": []
  }
 ],
 "metadata": {
  "kernelspec": {
   "display_name": "Python 3 (ipykernel)",
   "language": "python",
   "name": "python3"
  },
  "language_info": {
   "codemirror_mode": {
    "name": "ipython",
    "version": 3
   },
   "file_extension": ".py",
   "mimetype": "text/x-python",
   "name": "python",
   "nbconvert_exporter": "python",
   "pygments_lexer": "ipython3",
   "version": "3.12.7"
  }
 },
 "nbformat": 4,
 "nbformat_minor": 5
}
