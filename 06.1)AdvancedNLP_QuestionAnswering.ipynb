{
 "cells": [
  {
   "cell_type": "markdown",
   "id": "6b7c1a31-342e-4ee7-8fd3-3b709c91fe95",
   "metadata": {},
   "source": [
    "# Soru Cevaplama (Question Answering)"
   ]
  },
  {
   "cell_type": "markdown",
   "id": "80e0e9b7-d340-4528-8aba-9b7ee6916f38",
   "metadata": {},
   "source": [
    "## 1)BERT"
   ]
  },
  {
   "cell_type": "code",
   "execution_count": 1,
   "id": "1282004b-29bc-44ac-af30-1fb65b6a4f88",
   "metadata": {},
   "outputs": [],
   "source": [
    "from transformers import BertTokenizer , BertForQuestionAnswering\n",
    "import torch\n",
    "import warnings"
   ]
  },
  {
   "cell_type": "code",
   "execution_count": 2,
   "id": "b321152a-0fcd-4a84-82be-d94630e2f028",
   "metadata": {},
   "outputs": [],
   "source": [
    "warnings.filterwarnings(\"ignore\")"
   ]
  },
  {
   "cell_type": "markdown",
   "id": "a13d6194-7c6c-46e9-907a-219e0158133b",
   "metadata": {},
   "source": [
    "**Squad veri setinde ince ayar yapılmış bert dil modeli**"
   ]
  },
  {
   "cell_type": "code",
   "execution_count": 3,
   "id": "c62d3785-e5af-428a-addf-ca1fe3fcb693",
   "metadata": {},
   "outputs": [],
   "source": [
    "model_name = \"bert-large-uncased-whole-word-masking-finetuned-squad\"\n",
    "# Bert tokenizer\n",
    "tokenizer = BertTokenizer.from_pretrained(model_name)"
   ]
  },
  {
   "cell_type": "markdown",
   "id": "11f30924-998d-4a55-a1c3-32b01e883ed5",
   "metadata": {},
   "source": [
    "**Soru cevaplama görevi için ince ayar yapılmış bert modeli**"
   ]
  },
  {
   "cell_type": "code",
   "execution_count": 4,
   "id": "5fcc022f-e98a-419c-a85a-f6e286a27a1a",
   "metadata": {},
   "outputs": [
    {
     "name": "stderr",
     "output_type": "stream",
     "text": [
      "Some weights of the model checkpoint at bert-large-uncased-whole-word-masking-finetuned-squad were not used when initializing BertForQuestionAnswering: ['bert.pooler.dense.bias', 'bert.pooler.dense.weight']\n",
      "- This IS expected if you are initializing BertForQuestionAnswering from the checkpoint of a model trained on another task or with another architecture (e.g. initializing a BertForSequenceClassification model from a BertForPreTraining model).\n",
      "- This IS NOT expected if you are initializing BertForQuestionAnswering from the checkpoint of a model that you expect to be exactly identical (initializing a BertForSequenceClassification model from a BertForSequenceClassification model).\n"
     ]
    }
   ],
   "source": [
    "model = BertForQuestionAnswering.from_pretrained(model_name)"
   ]
  },
  {
   "cell_type": "markdown",
   "id": "a8633d52-148f-4ed9-947d-5306bc60a63d",
   "metadata": {},
   "source": [
    "**Cevapları tahmin eden fonk.**"
   ]
  },
  {
   "cell_type": "code",
   "execution_count": 5,
   "id": "d326ce81-ab72-47f7-b0d4-fca921e3ecc4",
   "metadata": {},
   "outputs": [],
   "source": [
    "\"\"\"\n",
    "    context : metin \n",
    "    question : soru\n",
    "    Amaç : Metin içerisindeki soruyu bulmak \n",
    "\n",
    "    1)Tokenize\n",
    "    2)Metinin içerisindeki soruyu ara\n",
    "    3)Metnin içerisinde sorunun cevabının nerelerde olabileceğini skorlarını return et \n",
    "    4)Skorlardan indeks hesaplama\n",
    "    5)Tokenleri yani cevapları bulduk\n",
    "    6)Okunabilir olması için tokenleri metin olarak dönder \n",
    "    \n",
    "\"\"\"\n",
    "\n",
    "def predict_answer(context , question):\n",
    "\n",
    "    # Metni ve soruyu tokenlere ayıralım ve modele uygun hale getirelim\n",
    "    encoding = tokenizer.encode_plus(question , context , return_tensors = \"pt\" , max_length = 512 , truncation = True )\n",
    "\n",
    "    # Giriş tensorlerini hazırla\n",
    "    input_ids = encoding[\"input_ids\"] # Tokenlerin id\n",
    "    attention_mask = encoding[\"attention_mask\"] # Hangi tokenlerin dikkate alınacağının belirlenmesi\n",
    "\n",
    "    # Modeli Çalıştır ve skorları hesapla\n",
    "    with torch.no_grad():\n",
    "        start_scores , end_scores = model(input_ids , attention_mask = attention_mask , return_dict = False )\n",
    "\n",
    "    # En yüksek olasılığa sahip start ve end indexlerini hesaplama\n",
    "    start_index = torch.argmax(start_scores , dim = 1).item() # Başlangıç indeksleri\n",
    "    end_index = torch.argmax(end_scores , dim = 1 ).item() # Bitiş indexi\n",
    "    \n",
    "    # Token id kullanarak cevap metni elde edelim\n",
    "    answer_tokens = tokenizer.convert_ids_to_tokens(input_ids[0][start_index:end_index + 1])\n",
    "\n",
    "    # Tokenleri birleştir ve okunabilir hale getir\n",
    "    answer = tokenizer.convert_tokens_to_string(answer_tokens)\n",
    "\n",
    "    return answer"
   ]
  },
  {
   "cell_type": "code",
   "execution_count": 6,
   "id": "6c274846-c42f-45e8-8d3e-3ecfb07bfce4",
   "metadata": {},
   "outputs": [],
   "source": [
    "question = \"What is the capital od French\"\n",
    "context = \"Franch , officiallty the French Republic , is a country whose capital is Paris\"\n",
    "answer = predict_answer(context , question)"
   ]
  },
  {
   "cell_type": "code",
   "execution_count": 7,
   "id": "6a563e48-b6fa-4dec-a297-2d881d142329",
   "metadata": {},
   "outputs": [
    {
     "data": {
      "text/plain": [
       "'paris'"
      ]
     },
     "execution_count": 7,
     "metadata": {},
     "output_type": "execute_result"
    }
   ],
   "source": [
    "answer"
   ]
  },
  {
   "cell_type": "markdown",
   "id": "87fb277b-8384-4aec-8b1c-d42fdae19eef",
   "metadata": {},
   "source": [
    "## 2)GPT"
   ]
  },
  {
   "cell_type": "code",
   "execution_count": 8,
   "id": "a802e064-fb10-4a1b-8a5a-113d5f070e56",
   "metadata": {},
   "outputs": [],
   "source": [
    "from transformers import GPT2Tokenizer , GPT2LMHeadModel\n",
    "import torch"
   ]
  },
  {
   "cell_type": "code",
   "execution_count": 9,
   "id": "bdf38d0c-bd4b-4c4f-8d45-b73981bd3e5e",
   "metadata": {},
   "outputs": [],
   "source": [
    "model_name_gpt = \"gpt2\""
   ]
  },
  {
   "cell_type": "code",
   "execution_count": 10,
   "id": "f53b17a4-d5c9-4fb2-8daa-4f1a207d79a5",
   "metadata": {},
   "outputs": [],
   "source": [
    "tokenizer_gpt = GPT2Tokenizer.from_pretrained(model_name_gpt)\n",
    "model_gpt = GPT2LMHeadModel.from_pretrained(model_name_gpt)"
   ]
  },
  {
   "cell_type": "code",
   "execution_count": 11,
   "id": "80eb1e68-e835-4dc5-b0af-89b013b8a0c2",
   "metadata": {},
   "outputs": [],
   "source": [
    "def generate_answer(context,question):\n",
    "    input_text = f\"Question : {question} , Context : {context} . Please answer the question axxording to  context\"\n",
    "\n",
    "    # Tokenize\n",
    "    inputs = tokenizer_gpt.encode(input_text , return_tensors = \"pt\")\n",
    "\n",
    "    # Modeli Çalıştır\n",
    "    with torch.no_grad():\n",
    "        outputs = model_gpt.generate(inputs , max_length = 512)\n",
    "\n",
    "    # Üretilen yanıtı decode edelim\n",
    "    answer = tokenizer_gpt.decode(outputs[0] , skip_special_tokens = True ) # Merhaba <EOS> <PAD>\n",
    "\n",
    "    # Yanıtları ayıklayalım\n",
    "    answer = answer.split(\"Answer:\")[-1].strip()\n",
    "\n",
    "    return answer"
   ]
  },
  {
   "cell_type": "code",
   "execution_count": 12,
   "id": "7fd9b47a-0dc9-48e7-b2d8-53e64b459dbe",
   "metadata": {},
   "outputs": [
    {
     "name": "stderr",
     "output_type": "stream",
     "text": [
      "The attention mask and the pad token id were not set. As a consequence, you may observe unexpected behavior. Please pass your input's `attention_mask` to obtain reliable results.\n",
      "Setting `pad_token_id` to `eos_token_id`:50256 for open-end generation.\n",
      "The attention mask is not set and cannot be inferred from input because pad token is same as eos token. As a consequence, you may observe unexpected behavior. Please pass your input's `attention_mask` to obtain reliable results.\n"
     ]
    }
   ],
   "source": [
    "question = \"What is the capital od French\"\n",
    "context = \"Franch , officiallty the French Republic , is a country whose capital is Paris\"\n",
    "answer_gpt = generate_answer(context , question)"
   ]
  },
  {
   "cell_type": "code",
   "execution_count": 13,
   "id": "ee490da6-2857-497d-960b-144d135fd8a7",
   "metadata": {},
   "outputs": [
    {
     "data": {
      "text/plain": [
       "'Question : What is the capital od French , Context : Franch , officiallty the French Republic , is a country whose capital is Paris . Please answer the question axxording to  context.\\n\\n: What is the capital od French , Context : Franch , officiallty the French Republic , is a country whose capital is Paris . Please answer the question axxording to  context. Question : What is the capital od French , Context : Franch , officiallty the French Republic , is a country whose capital is Paris . Please answer the question axxording to  context.\\n\\n: What is the capital od French , Context : Franch , officiallty the French Republic , is a country whose capital is Paris . Please answer the question axxording to  context. Question : What is the capital od French , Context : Franch , officiallty the French Republic , is a country whose capital is Paris . Please answer the question axxording to  context.\\n\\n: What is the capital od French , Context : Franch , officiallty the French Republic , is a country whose capital is Paris . Please answer the question axxording to  context. Question : What is the capital od French , Context : Franch , officiallty the French Republic , is a country whose capital is Paris . Please answer the question axxording to  context.\\n\\n: What is the capital od French , Context : Franch , officiallty the French Republic , is a country whose capital is Paris . Please answer the question axxording to  context. Question : What is the capital od French , Context : Franch , officiallty the French Republic , is a country whose capital is Paris . Please answer the question axxording to  context.\\n\\n: What is the capital od French , Context : Franch , officiallty the French Republic , is a country whose capital is Paris . Please answer the question axxording to  context. Question : What is the capital od French , Context : Franch , officiallty the French Republic , is a country whose capital is Paris . Please answer the question axxording to  context.\\n\\n: What is the capital od French , Context : Franch , officiallty the French Republic , is a country whose capital is Paris . Please answer the question axxording to  context. Question : What is the capital od French , Context : Franch , officiallty the French Republic , is a country whose capital'"
      ]
     },
     "execution_count": 13,
     "metadata": {},
     "output_type": "execute_result"
    }
   ],
   "source": [
    "answer_gpt"
   ]
  },
  {
   "cell_type": "code",
   "execution_count": null,
   "id": "f8b876d1-18ee-43a3-b70e-167e8ac39295",
   "metadata": {},
   "outputs": [],
   "source": []
  }
 ],
 "metadata": {
  "kernelspec": {
   "display_name": "Python 3 (ipykernel)",
   "language": "python",
   "name": "python3"
  },
  "language_info": {
   "codemirror_mode": {
    "name": "ipython",
    "version": 3
   },
   "file_extension": ".py",
   "mimetype": "text/x-python",
   "name": "python",
   "nbconvert_exporter": "python",
   "pygments_lexer": "ipython3",
   "version": "3.12.7"
  }
 },
 "nbformat": 4,
 "nbformat_minor": 5
}
