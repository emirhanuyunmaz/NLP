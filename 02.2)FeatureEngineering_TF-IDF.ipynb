{
 "cells": [
  {
   "cell_type": "markdown",
   "id": "dded40d4-e14e-4a58-836c-e81cb95f1ec5",
   "metadata": {},
   "source": [
    "# Terim Sıklığı-Ters Belge Sıklığı (TF-IDF)(Term Frequence-Inverse Document Frequency)"
   ]
  },
  {
   "cell_type": "code",
   "execution_count": 1,
   "id": "5c26e518-9dc7-4674-858e-ae9b197251ab",
   "metadata": {},
   "outputs": [],
   "source": [
    "import pandas as pd\n",
    "import numpy as np\n",
    "\n",
    "from sklearn.feature_extraction.text import TfidfVectorizer "
   ]
  },
  {
   "cell_type": "code",
   "execution_count": 3,
   "id": "f7ae5150-e46a-4bbf-b45d-d7b6f81070f3",
   "metadata": {},
   "outputs": [
    {
     "name": "stdout",
     "output_type": "stream",
     "text": [
      "tf-idf : [[0.4472136  0.4472136  0.         0.4472136  0.         0.\n",
      "  0.4472136  0.         0.4472136  0.        ]\n",
      " [0.34385143 0.34385143 0.         0.34385143 0.45212331 0.\n",
      "  0.34385143 0.45212331 0.34385143 0.        ]\n",
      " [0.         0.         0.57735027 0.         0.         0.57735027\n",
      "  0.         0.         0.         0.57735027]]\n"
     ]
    },
    {
     "data": {
      "text/plain": [
       "bir          0.263688\n",
       "hayvandır    0.263688\n",
       "inekler      0.192450\n",
       "kedi         0.263688\n",
       "kuş          0.150708\n",
       "sü           0.192450\n",
       "tatlı        0.263688\n",
       "ve           0.150708\n",
       "çok          0.263688\n",
       "üretirler    0.192450\n",
       "dtype: float64"
      ]
     },
     "execution_count": 3,
     "metadata": {},
     "output_type": "execute_result"
    }
   ],
   "source": [
    "# Örnek belge oluşturma\n",
    "document = [\n",
    "    \"Kedi çok tatlı bir hayvandır.\",\n",
    "    \"Kedi ve kuş çok tatlı bir hayvandır\",\n",
    "    \"Inekler sü üretirler\"\n",
    "]\n",
    "\n",
    "# Vectorizer tanımlama \n",
    "tfidf_vectorizer = TfidfVectorizer()\n",
    "\n",
    "# Metinleri sayısal hale çevirme\n",
    "x = tfidf_vectorizer.fit_transform(document)\n",
    "\n",
    "# Kelime kümesi incele\n",
    "feature_names = tfidf_vectorizer.get_feature_names_out()\n",
    "\n",
    "# Vektör temsilini incele\n",
    "vector_temsili = x.toarray()\n",
    "print(f\"tf-idf : {vector_temsili}\")\n",
    "\n",
    "df_tfidf = pd.DataFrame(vector_temsili , columns = feature_names)\n",
    "\n",
    "# Ortalama tf-idf değerleri\n",
    "tf_idf = df_tfidf.mean(axis = 0)\n",
    "tf_idf"
   ]
  },
  {
   "cell_type": "markdown",
   "id": "a8381377-36f7-42fe-84a4-9e7bd850d291",
   "metadata": {},
   "source": [
    "<b><i>Spam veri seti ile işlemlerin yapılması</i></b>"
   ]
  },
  {
   "cell_type": "code",
   "execution_count": 5,
   "id": "9dbbdef4-8cc6-44ed-bb4e-4c9fdfd66ea3",
   "metadata": {},
   "outputs": [
    {
     "data": {
      "text/html": [
       "<div>\n",
       "<style scoped>\n",
       "    .dataframe tbody tr th:only-of-type {\n",
       "        vertical-align: middle;\n",
       "    }\n",
       "\n",
       "    .dataframe tbody tr th {\n",
       "        vertical-align: top;\n",
       "    }\n",
       "\n",
       "    .dataframe thead th {\n",
       "        text-align: right;\n",
       "    }\n",
       "</style>\n",
       "<table border=\"1\" class=\"dataframe\">\n",
       "  <thead>\n",
       "    <tr style=\"text-align: right;\">\n",
       "      <th></th>\n",
       "      <th>word</th>\n",
       "      <th>tfidf_score</th>\n",
       "    </tr>\n",
       "  </thead>\n",
       "  <tbody>\n",
       "    <tr>\n",
       "      <th>8668</th>\n",
       "      <td>you</td>\n",
       "      <td>0.044201</td>\n",
       "    </tr>\n",
       "    <tr>\n",
       "      <th>7806</th>\n",
       "      <td>to</td>\n",
       "      <td>0.037120</td>\n",
       "    </tr>\n",
       "    <tr>\n",
       "      <th>7674</th>\n",
       "      <td>the</td>\n",
       "      <td>0.026506</td>\n",
       "    </tr>\n",
       "    <tr>\n",
       "      <th>4114</th>\n",
       "      <td>in</td>\n",
       "      <td>0.022001</td>\n",
       "    </tr>\n",
       "    <tr>\n",
       "      <th>4968</th>\n",
       "      <td>me</td>\n",
       "      <td>0.021279</td>\n",
       "    </tr>\n",
       "    <tr>\n",
       "      <th>1097</th>\n",
       "      <td>and</td>\n",
       "      <td>0.020251</td>\n",
       "    </tr>\n",
       "    <tr>\n",
       "      <th>4233</th>\n",
       "      <td>is</td>\n",
       "      <td>0.019792</td>\n",
       "    </tr>\n",
       "    <tr>\n",
       "      <th>4245</th>\n",
       "      <td>it</td>\n",
       "      <td>0.018842</td>\n",
       "    </tr>\n",
       "    <tr>\n",
       "      <th>5254</th>\n",
       "      <td>my</td>\n",
       "      <td>0.018680</td>\n",
       "    </tr>\n",
       "    <tr>\n",
       "      <th>1828</th>\n",
       "      <td>call</td>\n",
       "      <td>0.017246</td>\n",
       "    </tr>\n",
       "  </tbody>\n",
       "</table>\n",
       "</div>"
      ],
      "text/plain": [
       "      word  tfidf_score\n",
       "8668   you     0.044201\n",
       "7806    to     0.037120\n",
       "7674   the     0.026506\n",
       "4114    in     0.022001\n",
       "4968    me     0.021279\n",
       "1097   and     0.020251\n",
       "4233    is     0.019792\n",
       "4245    it     0.018842\n",
       "5254    my     0.018680\n",
       "1828  call     0.017246"
      ]
     },
     "execution_count": 5,
     "metadata": {},
     "output_type": "execute_result"
    }
   ],
   "source": [
    "import pandas as pd\n",
    "import numpy as np\n",
    "\n",
    "from sklearn.feature_extraction.text import TfidfVectorizer\n",
    "\n",
    "# Veri seti yükleme\n",
    "df = pd.read_csv(\"sms_spam.csv\")\n",
    "\n",
    "# Tf-Idf\n",
    "vectorizer = TfidfVectorizer()\n",
    "x = vectorizer.fit_transform(df.text)\n",
    "\n",
    "# Kelime kümesinini incelenmesi\n",
    "feature_names = vectorizer.get_feature_names_out()\n",
    "tfidf_score = x.mean(axis = 0).A1 # Her kelimenin ortalama tf-idf değerleri\n",
    "\n",
    "# Tf-Idf skorları içeren bir df oluşturma \n",
    "df_tfidf = pd.DataFrame({\"word\":feature_names,\"tfidf_score\":tfidf_score})\n",
    "\n",
    "# Skor sıralama\n",
    "df_tfidf_sorted = df_tfidf.sort_values(by = \"tfidf_score\",ascending = False)\n",
    "df_tfidf_sorted.head(10)"
   ]
  },
  {
   "cell_type": "code",
   "execution_count": null,
   "id": "cd37ed05-9022-45c2-9f12-bb4f411851ba",
   "metadata": {},
   "outputs": [],
   "source": []
  }
 ],
 "metadata": {
  "kernelspec": {
   "display_name": "Python 3 (ipykernel)",
   "language": "python",
   "name": "python3"
  },
  "language_info": {
   "codemirror_mode": {
    "name": "ipython",
    "version": 3
   },
   "file_extension": ".py",
   "mimetype": "text/x-python",
   "name": "python",
   "nbconvert_exporter": "python",
   "pygments_lexer": "ipython3",
   "version": "3.12.7"
  }
 },
 "nbformat": 4,
 "nbformat_minor": 5
}
