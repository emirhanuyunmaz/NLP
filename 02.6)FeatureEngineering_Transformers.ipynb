{
 "cells": [
  {
   "cell_type": "markdown",
   "id": "c9e35986-4190-41f9-a692-0a2d236a5fa7",
   "metadata": {},
   "source": [
    "# Transformers"
   ]
  },
  {
   "cell_type": "code",
   "execution_count": 1,
   "id": "54cac283-2d47-4fbf-a119-0be5db53616d",
   "metadata": {},
   "outputs": [],
   "source": [
    "from transformers import AutoTokenizer , AutoModel\n",
    "import torch"
   ]
  },
  {
   "cell_type": "markdown",
   "id": "f8b91b5e-6ab8-4322-b7d9-cf7a68d27271",
   "metadata": {},
   "source": [
    "### 1)Model ve Tokenize Yükle "
   ]
  },
  {
   "cell_type": "code",
   "execution_count": 2,
   "id": "5d9d3b5a-755f-45ec-b925-51a77ce09207",
   "metadata": {},
   "outputs": [
    {
     "name": "stderr",
     "output_type": "stream",
     "text": [
      "Xet Storage is enabled for this repo, but the 'hf_xet' package is not installed. Falling back to regular HTTP download. For better performance, install the package with: `pip install huggingface_hub[hf_xet]` or `pip install hf_xet`\n"
     ]
    },
    {
     "data": {
      "application/vnd.jupyter.widget-view+json": {
       "model_id": "fcb9a8af8b714d649b8231c8ec688b8d",
       "version_major": 2,
       "version_minor": 0
      },
      "text/plain": [
       "model.safetensors:   2%|2         | 10.5M/451M [00:00<?, ?B/s]"
      ]
     },
     "metadata": {},
     "output_type": "display_data"
    },
    {
     "name": "stderr",
     "output_type": "stream",
     "text": [
      "C:\\Users\\emirh\\anaconda3\\Lib\\site-packages\\huggingface_hub\\file_download.py:143: UserWarning: `huggingface_hub` cache-system uses symlinks by default to efficiently store duplicated files but your machine does not support them in C:\\Users\\emirh\\.cache\\huggingface\\hub\\models--bert-base-uncased. Caching files will still work but in a degraded version that might require more space on your disk. This warning can be disabled by setting the `HF_HUB_DISABLE_SYMLINKS_WARNING` environment variable. For more details, see https://huggingface.co/docs/huggingface_hub/how-to-cache#limitations.\n",
      "To support symlinks on Windows, you either need to activate Developer Mode or to run Python as an administrator. In order to activate developer mode, see this article: https://docs.microsoft.com/en-us/windows/apps/get-started/enable-your-device-for-development\n",
      "  warnings.warn(message)\n"
     ]
    }
   ],
   "source": [
    "model_name = \"bert-base-uncased\"\n",
    "tokenizer = AutoTokenizer.from_pretrained(model_name)\n",
    "model = AutoModel.from_pretrained(model_name)"
   ]
  },
  {
   "cell_type": "markdown",
   "id": "71d3f922-c91a-4424-94c6-9154bb10fb51",
   "metadata": {},
   "source": [
    "<b>Metni tanımlama</b>"
   ]
  },
  {
   "cell_type": "code",
   "execution_count": 3,
   "id": "206b2884-52e9-4893-ae2c-f8665170c441",
   "metadata": {},
   "outputs": [],
   "source": [
    "text = \"Transformers can be used for natural language processing\""
   ]
  },
  {
   "cell_type": "markdown",
   "id": "c7e49ce7-5a8c-4ea4-babc-bf42d4fefeed",
   "metadata": {},
   "source": [
    "<b>Metni Tokenlere Çevirme</b>"
   ]
  },
  {
   "cell_type": "code",
   "execution_count": 4,
   "id": "02882fe0-4ec4-4c95-88c1-698003c12a05",
   "metadata": {},
   "outputs": [],
   "source": [
    "inputs = tokenizer(text,return_tensors = \"pt\") # Çıktı pytorch tensoru olarak return edilir ."
   ]
  },
  {
   "cell_type": "markdown",
   "id": "5feeed04-638c-4b99-aae3-bdafcffcadd8",
   "metadata": {},
   "source": [
    "<b>Modeli kullanarak metin temsili oluşturma</b>"
   ]
  },
  {
   "cell_type": "code",
   "execution_count": 5,
   "id": "933d8800-4679-4469-9423-d45180ea3eaf",
   "metadata": {},
   "outputs": [],
   "source": [
    "with torch.no_grad(): # Gradyanların hesaplanması durdurulur , böylece belleği daha verimli kullanırız. \n",
    "    outputs = model(**inputs)"
   ]
  },
  {
   "cell_type": "markdown",
   "id": "14b90f16-7e4c-4834-ba46-f5bed9fdebcf",
   "metadata": {},
   "source": [
    "### 2) Modelin Çıkışından Son Gizli Durum"
   ]
  },
  {
   "cell_type": "code",
   "execution_count": 7,
   "id": "a29a9f0b-e8e8-4fe2-8919-2b6a14c291c3",
   "metadata": {},
   "outputs": [],
   "source": [
    "last_hidden_state = outputs.last_hidden_state # Tüm token çıktılarını almak için"
   ]
  },
  {
   "cell_type": "markdown",
   "id": "322038ae-d7ff-43e5-b6c0-7bb1e182f690",
   "metadata": {},
   "source": [
    "**İlk token embedding'ini alalım ve print ettirelim**"
   ]
  },
  {
   "cell_type": "code",
   "execution_count": 8,
   "id": "b043ed33-a552-4588-ad1a-1a97b9ff9834",
   "metadata": {},
   "outputs": [],
   "source": [
    "first_token_embedding = last_hidden_state[0,0:].numpy()"
   ]
  },
  {
   "cell_type": "code",
   "execution_count": 9,
   "id": "ee140bff-fd96-4ccf-9c07-0092e332f5a0",
   "metadata": {},
   "outputs": [
    {
     "name": "stdout",
     "output_type": "stream",
     "text": [
      "Metin Temsili :[[-0.1762358  -0.12182537  0.09947555 ... -0.5736725  -0.53123677\n",
      "   0.36890265]\n",
      " [ 1.6120443  -0.7592471  -0.36584476 ... -0.2295559  -0.39810547\n",
      "   0.35150036]\n",
      " [ 0.35427675  0.30161047  0.16374591 ... -0.82156974 -0.36627516\n",
      "  -0.14535652]\n",
      " ...\n",
      " [-0.64558285 -0.4448927   0.47055104 ... -0.11630233 -0.4664159\n",
      "   0.31702936]\n",
      " [-0.12387825 -0.18511027 -0.2833719  ... -0.6662366  -0.75114405\n",
      "  -0.237136  ]\n",
      " [ 0.93461627 -0.07505597 -0.7211991  ...  0.00514431 -0.59230924\n",
      "  -0.05404903]]\n"
     ]
    }
   ],
   "source": [
    "print(f\"Metin Temsili :{first_token_embedding}\")"
   ]
  },
  {
   "cell_type": "code",
   "execution_count": null,
   "id": "98aa9a2a-c05e-47ba-978c-92b68ba35036",
   "metadata": {},
   "outputs": [],
   "source": []
  }
 ],
 "metadata": {
  "kernelspec": {
   "display_name": "Python 3 (ipykernel)",
   "language": "python",
   "name": "python3"
  },
  "language_info": {
   "codemirror_mode": {
    "name": "ipython",
    "version": 3
   },
   "file_extension": ".py",
   "mimetype": "text/x-python",
   "name": "python",
   "nbconvert_exporter": "python",
   "pygments_lexer": "ipython3",
   "version": "3.12.7"
  }
 },
 "nbformat": 4,
 "nbformat_minor": 5
}
