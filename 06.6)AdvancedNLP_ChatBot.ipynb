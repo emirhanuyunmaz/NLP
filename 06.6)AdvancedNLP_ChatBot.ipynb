{
 "cells": [
  {
   "cell_type": "markdown",
   "id": "72069f29-b0d9-4b59-9852-4556f5a5deb5",
   "metadata": {},
   "source": [
    "# ChatBot"
   ]
  },
  {
   "cell_type": "code",
   "execution_count": 1,
   "id": "eee3d6f4-139f-48ce-acf9-e1768493e64b",
   "metadata": {},
   "outputs": [],
   "source": [
    "import openai"
   ]
  },
  {
   "cell_type": "code",
   "execution_count": 2,
   "id": "ac71ea3b-3c64-4a30-b79e-81b2d4cee8ee",
   "metadata": {},
   "outputs": [],
   "source": [
    "openai.api_key = \"api_key\""
   ]
  },
  {
   "cell_type": "code",
   "execution_count": 3,
   "id": "55dc4987-0743-498b-b403-30536ec0bca2",
   "metadata": {},
   "outputs": [
    {
     "name": "stdin",
     "output_type": "stream",
     "text": [
      "Kullancı tarafından girilen mesaj: q\n"
     ]
    },
    {
     "name": "stdout",
     "output_type": "stream",
     "text": [
      "Konuşma tamamlandı.\n"
     ]
    }
   ],
   "source": [
    "def chat_with_gpt(prompt , history_list):\n",
    "    responce = openai.ChatCompletion.create(\n",
    "        model = \"gpt-3.5-turbo\",\n",
    "        messages = [{\"role\":\"user\" , \"content\" : f\"Bizim mesajımız:{prompt} . Konuşma geçmişi : {history_list}\"}]\n",
    "    )\n",
    "    return responce.choices[0].message.content.strip()\n",
    "\n",
    "if __name__ == \"__main__\":\n",
    "    history_list = []\n",
    "\n",
    "    while True:\n",
    "        user_input = input(\"Kullancı tarafından girilen mesaj:\")\n",
    "\n",
    "        if user_input.lower() in [\"exit\",\"q\"]:\n",
    "            print(\"Konuşma tamamlandı.\")\n",
    "            break\n",
    "        history_list.append(user_input)\n",
    "        responce = chat_with_gpt(user_input , history_list)\n",
    "        print(f\"Chatbot : {responce}\")"
   ]
  },
  {
   "cell_type": "code",
   "execution_count": null,
   "id": "26978ff3-884d-4624-95c7-1fcbb7bab8b5",
   "metadata": {},
   "outputs": [],
   "source": []
  }
 ],
 "metadata": {
  "kernelspec": {
   "display_name": "Python 3 (ipykernel)",
   "language": "python",
   "name": "python3"
  },
  "language_info": {
   "codemirror_mode": {
    "name": "ipython",
    "version": 3
   },
   "file_extension": ".py",
   "mimetype": "text/x-python",
   "name": "python",
   "nbconvert_exporter": "python",
   "pygments_lexer": "ipython3",
   "version": "3.12.7"
  }
 },
 "nbformat": 4,
 "nbformat_minor": 5
}
