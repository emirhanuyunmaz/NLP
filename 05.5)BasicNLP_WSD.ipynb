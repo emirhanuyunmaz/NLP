{
 "cells": [
  {
   "cell_type": "markdown",
   "id": "d4ee79c7-a68c-4c7d-b79c-d4bea08a290b",
   "metadata": {},
   "source": [
    "# Kelime Anlam Belirsizliği Giderme (Word Sense Disambiguation) (WSD)"
   ]
  },
  {
   "cell_type": "markdown",
   "id": "66dfb2b4-b068-48b5-95d5-7fd26d4233db",
   "metadata": {},
   "source": [
    "## 1.Algoritma"
   ]
  },
  {
   "cell_type": "code",
   "execution_count": 1,
   "id": "821d5421-d187-43d6-a02e-c46b5835a446",
   "metadata": {},
   "outputs": [],
   "source": [
    "import nltk\n",
    "from nltk.wsd import lesk"
   ]
  },
  {
   "cell_type": "code",
   "execution_count": 2,
   "id": "a0122bbd-4123-417d-b86e-bb638be3c15d",
   "metadata": {},
   "outputs": [
    {
     "name": "stderr",
     "output_type": "stream",
     "text": [
      "[nltk_data] Error loading wordnet1: Package 'wordnet1' not found in\n",
      "[nltk_data]     index\n",
      "[nltk_data] Error loading own-1.4: Package 'own-1.4' not found in\n",
      "[nltk_data]     index\n",
      "[nltk_data] Downloading package punkt to\n",
      "[nltk_data]     C:\\Users\\emirh\\AppData\\Roaming\\nltk_data...\n",
      "[nltk_data]   Package punkt is already up-to-date!\n",
      "[nltk_data] Downloading package averaged_perceptron_tagger_eng to\n",
      "[nltk_data]     C:\\Users\\emirh\\AppData\\Roaming\\nltk_data...\n",
      "[nltk_data]   Package averaged_perceptron_tagger_eng is already up-to-\n",
      "[nltk_data]       date!\n"
     ]
    },
    {
     "data": {
      "text/plain": [
       "True"
      ]
     },
     "execution_count": 2,
     "metadata": {},
     "output_type": "execute_result"
    }
   ],
   "source": [
    "nltk.download(\"wordnet1\")\n",
    "nltk.download(\"own-1.4\")\n",
    "nltk.download(\"punkt\")\n",
    "nltk.download('averaged_perceptron_tagger_eng')"
   ]
  },
  {
   "cell_type": "code",
   "execution_count": 3,
   "id": "9d51a480-d879-48a7-adeb-64b10a7ea330",
   "metadata": {},
   "outputs": [],
   "source": [
    "s1 = \"I go to the bank to deposit money\"\n",
    "w1 = \"bank\""
   ]
  },
  {
   "cell_type": "code",
   "execution_count": 4,
   "id": "c76755a3-b4a0-455b-9202-bee5e493bb2f",
   "metadata": {},
   "outputs": [],
   "source": [
    "sense1 = lesk(nltk.word_tokenize(s1) , w1) "
   ]
  },
  {
   "cell_type": "code",
   "execution_count": 5,
   "id": "30ccfe54-7e66-4fa0-a73b-49ed182046a6",
   "metadata": {},
   "outputs": [
    {
     "name": "stdout",
     "output_type": "stream",
     "text": [
      "Cümle : I go to the bank to deposit money\n",
      "Word : bank\n",
      "Sense : a container (usually with a slot in the top) for keeping money at home\n"
     ]
    }
   ],
   "source": [
    "print(f\"Cümle : {s1}\")\n",
    "print(f\"Word : {w1}\")\n",
    "print(f\"Sense : {sense1.definition()}\")"
   ]
  },
  {
   "cell_type": "code",
   "execution_count": 6,
   "id": "afb830f1-1ede-45ee-86ae-44dfe29b177c",
   "metadata": {},
   "outputs": [],
   "source": [
    "s2 = \"The river bank is flooded the heavy rain\"\n",
    "w2 = \"bank\""
   ]
  },
  {
   "cell_type": "code",
   "execution_count": 7,
   "id": "ca48bf5a-9f3f-4a8d-8642-0f8dd86ea988",
   "metadata": {},
   "outputs": [],
   "source": [
    "sense2 = lesk(nltk.word_tokenize(s2) , w2) "
   ]
  },
  {
   "cell_type": "code",
   "execution_count": 8,
   "id": "6035bbc6-e8d9-4c97-8684-eb9df56ddd84",
   "metadata": {},
   "outputs": [
    {
     "name": "stdout",
     "output_type": "stream",
     "text": [
      "Cümle : The river bank is flooded the heavy rain\n",
      "Word : bank\n",
      "Sense : a slope in the turn of a road or track; the outside is higher than the inside in order to reduce the effects of centrifugal force\n"
     ]
    }
   ],
   "source": [
    "print(f\"Cümle : {s2}\")\n",
    "print(f\"Word : {w2}\")\n",
    "print(f\"Sense : {sense2.definition()}\")"
   ]
  },
  {
   "cell_type": "markdown",
   "id": "7b4dc880-2bd1-4d80-ac5e-f0c962df71e2",
   "metadata": {},
   "source": [
    "## 2.Algoritma"
   ]
  },
  {
   "cell_type": "code",
   "execution_count": 9,
   "id": "a8c73e31-3297-4f5d-96d6-d9c9add8d240",
   "metadata": {},
   "outputs": [
    {
     "name": "stderr",
     "output_type": "stream",
     "text": [
      "Warming up PyWSD (takes ~10 secs)... took 1.8818767070770264 secs.\n"
     ]
    }
   ],
   "source": [
    "from pywsd.lesk import simple_lesk , adapted_lesk , cosine_lesk"
   ]
  },
  {
   "cell_type": "code",
   "execution_count": 10,
   "id": "5162ded5-d029-4f04-b23e-177307002b14",
   "metadata": {},
   "outputs": [],
   "source": [
    "sentences = [\"I go to the bank to deposit money\" , \"The river bank was flooded after the heavy rain\"]\n",
    "word = \"bank\""
   ]
  },
  {
   "cell_type": "code",
   "execution_count": 11,
   "id": "4ce097a0-3f8a-4aa4-9c92-4abe597eac41",
   "metadata": {},
   "outputs": [
    {
     "name": "stdout",
     "output_type": "stream",
     "text": [
      "Sentences : I go to the bank to deposit money\n",
      "Sense Simple : a financial institution that accepts deposits and channels the money into lending activities\n",
      "Sense Adapted : a financial institution that accepts deposits and channels the money into lending activities\n",
      "Sense Cosine : a container (usually with a slot in the top) for keeping money at home\n",
      "\n",
      "Sentences : The river bank was flooded after the heavy rain\n",
      "Sense Simple : sloping land (especially the slope beside a body of water)\n",
      "Sense Adapted : sloping land (especially the slope beside a body of water)\n",
      "Sense Cosine : a supply or stock held in reserve for future use (especially in emergencies)\n",
      "\n"
     ]
    }
   ],
   "source": [
    "for s in sentences:\n",
    "    print(f\"Sentences : {s}\")\n",
    "\n",
    "    sense_simple_lesk = simple_lesk(s,word)\n",
    "    print(f\"Sense Simple : {sense_simple_lesk.definition()}\")\n",
    "\n",
    "    sense_adapted_lesk = adapted_lesk(s,word)\n",
    "    print(f\"Sense Adapted : {sense_adapted_lesk.definition()}\")\n",
    "\n",
    "    sense_cosine_lesk = cosine_lesk(s,word)\n",
    "    print(f\"Sense Cosine : {sense_cosine_lesk.definition()}\")\n",
    "    print()"
   ]
  },
  {
   "cell_type": "code",
   "execution_count": null,
   "id": "da689127-8363-4c93-bc8d-dbb86048a404",
   "metadata": {},
   "outputs": [],
   "source": []
  }
 ],
 "metadata": {
  "kernelspec": {
   "display_name": "Python 3 (ipykernel)",
   "language": "python",
   "name": "python3"
  },
  "language_info": {
   "codemirror_mode": {
    "name": "ipython",
    "version": 3
   },
   "file_extension": ".py",
   "mimetype": "text/x-python",
   "name": "python",
   "nbconvert_exporter": "python",
   "pygments_lexer": "ipython3",
   "version": "3.12.7"
  }
 },
 "nbformat": 4,
 "nbformat_minor": 5
}
