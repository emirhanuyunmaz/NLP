{
 "cells": [
  {
   "cell_type": "markdown",
   "id": "ec848db6-e362-4e83-b564-8ae14a4448aa",
   "metadata": {},
   "source": [
    "# Tekrarlayan Sinir Ağı (Recurrent Neural Networks)(RNN)"
   ]
  },
  {
   "cell_type": "code",
   "execution_count": 1,
   "id": "99c85579-3b66-4fb2-bbba-241f7bfd397c",
   "metadata": {},
   "outputs": [],
   "source": [
    "import numpy as np \n",
    "import pandas as pd\n",
    "\n",
    "from gensim.models import Word2Vec # Metin Temsili\n",
    "\n",
    "from keras_preprocessing.sequence import pad_sequences\n",
    "from keras.models import Sequential\n",
    "from keras.layers import SimpleRNN , Dense , Embedding\n",
    "from keras_preprocessing.text import Tokenizer\n",
    "\n",
    "from sklearn.model_selection import train_test_split\n",
    "from sklearn.preprocessing import LabelEncoder"
   ]
  },
  {
   "cell_type": "markdown",
   "id": "3dc95cff-adcf-439a-afa5-5669e217611c",
   "metadata": {},
   "source": [
    "Solve Classification Problem (Sentimet Analysis in NLP) with RNN (Deep Learning based Language Model) \\\n",
    "Duygu Analizi -> Bir cümlenin etiketlenmesi (Positive/Negative)"
   ]
  },
  {
   "cell_type": "markdown",
   "id": "e0975bc1-d9ac-42ea-802b-f065193ccf9f",
   "metadata": {},
   "source": [
    "**Veri Seti Oluşturma**"
   ]
  },
  {
   "cell_type": "code",
   "execution_count": 2,
   "id": "3c85fb69-a200-48b3-8ecb-fb5e46eb9507",
   "metadata": {},
   "outputs": [],
   "source": [
    "data = {\n",
    "    \"text\": [\n",
    "        \"Yemekler harikaydı, her şey taze ve lezzetliydi.\",\n",
    "        \"Garson çok ilgisizdi, siparişimi unuttular.\",\n",
    "        \"Tatlılar gerçekten çok güzeldi, bayıldım!\",\n",
    "        \"Yemekler soğuktu ve tadı hiç hoş değildi.\",\n",
    "        \"Atmosfer oldukça keyifliydi, tekrar geleceğim.\",\n",
    "        \"Fiyatlar biraz yüksekti ama yemekler güzeldi.\",\n",
    "        \"Servis kalitesi çok iyiydi, teşekkürler.\",\n",
    "        \"Yemek çok geç geldi, sabrım kalmadı.\",\n",
    "        \"Lezzetli bir akşam yemeği deneyimledik.\",\n",
    "        \"Bu restoranı asla tavsiye etmem, kötüydü.\",\n",
    "        \"Mekan çok hoştu, özellikle dekorasyonu.\",\n",
    "        \"Yemekler beklediğimden çok daha kötüydü.\",\n",
    "        \"Güzel bir akşam geçirdik, teşekkürler.\",\n",
    "        \"Yemekler fazlasıyla tuzlu geldi, hiç beğenmedim.\",\n",
    "        \"Kahvaltı muhteşemdi, her şeyi denemek istedim.\",\n",
    "        \"Fiyatlar oldukça makuldü, çok memnun kaldım.\",\n",
    "        \"Garsonlar çok yardımseverdi, teşekkürler.\",\n",
    "        \"Yemekler güzel ama servis biraz yavaştı.\",\n",
    "        \"Çocuklar için harika bir yer, çok eğlendiler.\",\n",
    "        \"Bir daha asla gitmeyeceğim, kötü bir deneyim yaşadım.\",\n",
    "        \"Mekanın atmosferi çok keyifliydi.\",\n",
    "        \"Yemeklerin tadı harikaydı, özellikle deniz ürünleri.\",\n",
    "        \"Şarap menüsü oldukça zengindi, beğendim.\",\n",
    "        \"Yemekler sıcak servis edilmedi, hayal kırıklığıydı.\",\n",
    "        \"Burgerleri gerçekten çok lezzetliydi.\",\n",
    "        \"Tatlıların fiyatı biraz yüksekti ama lezzetliydi.\",\n",
    "        \"Hizmet çok yavaştı ama yemekler fena değildi.\",\n",
    "        \"Gerçekten güzel bir akşam yemeği deneyimi yaşadık.\",\n",
    "        \"Sushi taze ve lezzetliydi, kesinlikle tavsiye ederim.\",\n",
    "        \"Garsonlar çok nazik ve yardımseverdi.\",\n",
    "        \"Hizmetin daha iyi olmasını beklerdim.\",\n",
    "        \"Kahvaltı menüsü oldukça zengindi, çok beğendim.\",\n",
    "        \"Yemekler çok lezzetliydi ama servis biraz yavaştı.\",\n",
    "        \"Fiyatlar oldukça makuldü, bu kadar iyi hizmete.\",\n",
    "        \"Mekan çok temizdi, bu benim için önemli.\",\n",
    "        \"Tatlıların çok şekerli olduğunu düşündüm.\",\n",
    "        \"Hizmet yavaş ama mekan güzeldi.\",\n",
    "        \"Yemeklerin lezzeti harikaydı ama porsiyonlar küçük.\",\n",
    "        \"Kendimi çok özel hissettim, teşekkürler.\",\n",
    "        \"Güzel bir akşam yemeği, tekrar geleceğim.\",\n",
    "        \"Çalışanlar çok güler yüzlüydü.\",\n",
    "        \"Pasta çok güzeldi, özellikle çikolatalı.\",\n",
    "        \"Biraz beklemek zorunda kaldık ama değdi.\",\n",
    "        \"Sadece fiyatlar biraz yüksekti ama lezzet buna değer.\",\n",
    "        \"Mekan oldukça kalabalıktı ama hizmet güzel.\",\n",
    "        \"Garsonlar çok nazik ama biraz daha hızlı olabilirdi.\",\n",
    "        \"Yemeklerin sunumu gerçekten etkileyiciydi.\",\n",
    "        \"Yemekler çok lezzetliydi ama garsonlar nazik değildi.\",\n",
    "        \"Çok güzel bir akşam yemeği deneyimi yaşadım.\",\n",
    "        \"Pasta siparişi verdim ama çok uzun sürdü.\"\n",
    "    ],\n",
    "    \"label\": [\n",
    "        \"positive\", \"negative\", \"positive\", \"negative\", \"positive\",\n",
    "        \"positive\", \"positive\", \"negative\", \"positive\", \"negative\",\n",
    "        \"positive\", \"negative\", \"positive\", \"negative\", \"positive\",\n",
    "        \"positive\", \"positive\", \"positive\", \"negative\", \"negative\",\n",
    "        \"positive\", \"positive\", \"positive\", \"negative\", \"positive\",\n",
    "        \"negative\", \"positive\", \"positive\", \"positive\", \"positive\",\n",
    "        \"negative\", \"positive\", \"positive\", \"negative\", \"negative\",\n",
    "        \"negative\", \"positive\", \"positive\", \"positive\", \"positive\",\n",
    "        \"positive\", \"positive\", \"positive\", \"positive\", \"negative\",\n",
    "        \"negative\", \"positive\", \"positive\", \"positive\", \"negative\"\n",
    "\n",
    "    ]\n",
    "}"
   ]
  },
  {
   "cell_type": "code",
   "execution_count": 4,
   "id": "3a317b8e-af0c-4d9b-86a8-d1f9e9c0f582",
   "metadata": {},
   "outputs": [
    {
     "data": {
      "text/plain": [
       "50"
      ]
     },
     "execution_count": 4,
     "metadata": {},
     "output_type": "execute_result"
    }
   ],
   "source": [
    "len(data[\"text\"])"
   ]
  },
  {
   "cell_type": "code",
   "execution_count": 5,
   "id": "20d8338d-8d35-4302-a38e-5273b401a059",
   "metadata": {},
   "outputs": [
    {
     "data": {
      "text/plain": [
       "50"
      ]
     },
     "execution_count": 5,
     "metadata": {},
     "output_type": "execute_result"
    }
   ],
   "source": [
    "len(data[\"label\"])"
   ]
  },
  {
   "cell_type": "code",
   "execution_count": 6,
   "id": "6fa8a486-f93c-4a09-b1f2-fd995b8915ea",
   "metadata": {},
   "outputs": [],
   "source": [
    "df = pd.DataFrame(data)"
   ]
  },
  {
   "cell_type": "markdown",
   "id": "32da51d6-e2e3-4d2f-85b7-95d7157c3a61",
   "metadata": {},
   "source": [
    "### 1)Metin Temizleme ve Preprocessing"
   ]
  },
  {
   "cell_type": "markdown",
   "id": "07d7b9ae-c0b6-4790-98bd-00852b7e5601",
   "metadata": {},
   "source": [
    "**Tokenization**"
   ]
  },
  {
   "cell_type": "code",
   "execution_count": 8,
   "id": "f390e0d4-f4d8-4765-8189-56d86ad8fb04",
   "metadata": {},
   "outputs": [],
   "source": [
    "tokenizer = Tokenizer()\n",
    "tokenizer.fit_on_texts(df[\"text\"])\n",
    "sequence = tokenizer.texts_to_sequences(df[\"text\"])\n",
    "word_index = tokenizer.word_index"
   ]
  },
  {
   "cell_type": "code",
   "execution_count": 9,
   "id": "7aaccbde-beef-4b36-a6a0-1038d40859be",
   "metadata": {},
   "outputs": [
    {
     "data": {
      "text/plain": [
       "[[3, 20, 29, 52, 30, 10, 6],\n",
       " [53, 1, 54, 55, 56],\n",
       " [57, 11, 1, 12, 58],\n",
       " [3, 59, 10, 31, 32, 60, 21],\n",
       " [61, 7, 33, 34, 35]]"
      ]
     },
     "execution_count": 9,
     "metadata": {},
     "output_type": "execute_result"
    }
   ],
   "source": [
    "sequence[:5]"
   ]
  },
  {
   "cell_type": "code",
   "execution_count": 13,
   "id": "ee19b919-6373-465c-8104-fce2f3d5e2c0",
   "metadata": {},
   "outputs": [],
   "source": [
    "# word_index"
   ]
  },
  {
   "cell_type": "markdown",
   "id": "b8268ff2-2e39-4ce6-8f98-a16557f9e0ca",
   "metadata": {},
   "source": [
    "**Padding Process**"
   ]
  },
  {
   "cell_type": "code",
   "execution_count": 16,
   "id": "c95579f7-f137-4817-9293-87179d960ab8",
   "metadata": {},
   "outputs": [
    {
     "data": {
      "text/plain": [
       "(50, 8)"
      ]
     },
     "execution_count": 16,
     "metadata": {},
     "output_type": "execute_result"
    }
   ],
   "source": [
    "maxlen = max(len(seq)for seq in sequence)\n",
    "x = pad_sequences(sequence,maxlen = maxlen)\n",
    "x.shape"
   ]
  },
  {
   "cell_type": "markdown",
   "id": "ae5c6ca7-004d-4e92-a490-39829abbf6a2",
   "metadata": {},
   "source": [
    "**Label Encoding**"
   ]
  },
  {
   "cell_type": "code",
   "execution_count": 17,
   "id": "97d87c64-a7d8-465d-a5ef-92f1a564c3f8",
   "metadata": {},
   "outputs": [],
   "source": [
    "label_encoder = LabelEncoder()\n",
    "y = label_encoder.fit_transform(df[\"label\"])"
   ]
  },
  {
   "cell_type": "markdown",
   "id": "76263a39-5e32-4b1a-bbcf-3974e07fbbba",
   "metadata": {},
   "source": [
    "**Train-Test**"
   ]
  },
  {
   "cell_type": "code",
   "execution_count": 18,
   "id": "3285898b-3d70-464f-b202-63a5839162aa",
   "metadata": {},
   "outputs": [],
   "source": [
    "x_train,x_test , y_train, y_test = train_test_split(x,y,test_size = 0.2 , random_state = 42)"
   ]
  },
  {
   "cell_type": "markdown",
   "id": "074b1c39-f835-473a-8ee5-95d281d56b04",
   "metadata": {},
   "source": [
    "**Word2Vec:Metin Temisli(Word Embedding)**"
   ]
  },
  {
   "cell_type": "code",
   "execution_count": 21,
   "id": "28d4ae50-8cd6-4b96-a5e8-6c18e41975fe",
   "metadata": {},
   "outputs": [],
   "source": [
    "sentences = [text.split() for text in df[\"text\"]]\n",
    "word2vec_model = Word2Vec(sentences,vector_size = 50 , window = 5 , min_count = 1)\n",
    "\n",
    "embedding_dim = 50\n",
    "embedding_matrix = np.zeros(( len(word_index) + 1 , embedding_dim ))\n",
    "\n",
    "for word , i in word_index.items():\n",
    "    if word in word2vec_model.wv:\n",
    "        embedding_matrix[i] = word2vec_model.wv[word]"
   ]
  },
  {
   "cell_type": "markdown",
   "id": "eb1375a5-526c-4f5e-8404-e8183100b938",
   "metadata": {},
   "source": [
    "**Modelin İnşaa Edilmesi ve Test Edilmesi**"
   ]
  },
  {
   "cell_type": "code",
   "execution_count": 22,
   "id": "dfe6ddb4-0ad1-47f7-b3ff-5059f69bc4bd",
   "metadata": {},
   "outputs": [
    {
     "name": "stderr",
     "output_type": "stream",
     "text": [
      "C:\\Users\\emirh\\anaconda3\\Lib\\site-packages\\keras\\src\\layers\\core\\embedding.py:97: UserWarning: Argument `input_length` is deprecated. Just remove it.\n",
      "  warnings.warn(\n"
     ]
    }
   ],
   "source": [
    "model = Sequential()\n",
    "\n",
    "# Embedding\n",
    "model.add(Embedding(input_dim = len(word_index) + 1 ,output_dim = embedding_dim , weights = [embedding_matrix] , input_length = maxlen ,trainable = False))\n",
    "\n",
    "# RNN Layer\n",
    "model.add(SimpleRNN(50 , return_sequences = False ))\n",
    "\n",
    "# Output Layer\n",
    "model.add(Dense(1,activation = \"sigmoid\"))"
   ]
  },
  {
   "cell_type": "markdown",
   "id": "41d304ce-4551-4d60-9672-021bdb0cddb8",
   "metadata": {},
   "source": [
    "**Compile Model**"
   ]
  },
  {
   "cell_type": "code",
   "execution_count": 23,
   "id": "5e93abf1-f84e-4255-985a-d92b9e86756f",
   "metadata": {},
   "outputs": [],
   "source": [
    "model.compile(optimizer = \"adam\" , loss = \"binary_crossentropy\",metrics = [\"accuracy\"])"
   ]
  },
  {
   "cell_type": "markdown",
   "id": "e295e290-fe3d-4afd-b5df-ac7f128d8c95",
   "metadata": {},
   "source": [
    "**Train Model**"
   ]
  },
  {
   "cell_type": "code",
   "execution_count": 24,
   "id": "11ea6ed4-0c53-4798-a69c-bb9d41fc3e80",
   "metadata": {},
   "outputs": [
    {
     "name": "stdout",
     "output_type": "stream",
     "text": [
      "Epoch 1/10\n",
      "\u001b[1m20/20\u001b[0m \u001b[32m━━━━━━━━━━━━━━━━━━━━\u001b[0m\u001b[37m\u001b[0m \u001b[1m2s\u001b[0m 17ms/step - accuracy: 0.4411 - loss: 0.6866 - val_accuracy: 0.5000 - val_loss: 0.7147\n",
      "Epoch 2/10\n",
      "\u001b[1m20/20\u001b[0m \u001b[32m━━━━━━━━━━━━━━━━━━━━\u001b[0m\u001b[37m\u001b[0m \u001b[1m0s\u001b[0m 5ms/step - accuracy: 0.7409 - loss: 0.6078 - val_accuracy: 0.5000 - val_loss: 0.7722\n",
      "Epoch 3/10\n",
      "\u001b[1m20/20\u001b[0m \u001b[32m━━━━━━━━━━━━━━━━━━━━\u001b[0m\u001b[37m\u001b[0m \u001b[1m0s\u001b[0m 5ms/step - accuracy: 0.7244 - loss: 0.5836 - val_accuracy: 0.5000 - val_loss: 0.7557\n",
      "Epoch 4/10\n",
      "\u001b[1m20/20\u001b[0m \u001b[32m━━━━━━━━━━━━━━━━━━━━\u001b[0m\u001b[37m\u001b[0m \u001b[1m0s\u001b[0m 5ms/step - accuracy: 0.6227 - loss: 0.6460 - val_accuracy: 0.5000 - val_loss: 0.7847\n",
      "Epoch 5/10\n",
      "\u001b[1m20/20\u001b[0m \u001b[32m━━━━━━━━━━━━━━━━━━━━\u001b[0m\u001b[37m\u001b[0m \u001b[1m0s\u001b[0m 5ms/step - accuracy: 0.6673 - loss: 0.6100 - val_accuracy: 0.5000 - val_loss: 0.7890\n",
      "Epoch 6/10\n",
      "\u001b[1m20/20\u001b[0m \u001b[32m━━━━━━━━━━━━━━━━━━━━\u001b[0m\u001b[37m\u001b[0m \u001b[1m0s\u001b[0m 5ms/step - accuracy: 0.7525 - loss: 0.5334 - val_accuracy: 0.5000 - val_loss: 0.7456\n",
      "Epoch 7/10\n",
      "\u001b[1m20/20\u001b[0m \u001b[32m━━━━━━━━━━━━━━━━━━━━\u001b[0m\u001b[37m\u001b[0m \u001b[1m0s\u001b[0m 5ms/step - accuracy: 0.6751 - loss: 0.5665 - val_accuracy: 0.5000 - val_loss: 0.7668\n",
      "Epoch 8/10\n",
      "\u001b[1m20/20\u001b[0m \u001b[32m━━━━━━━━━━━━━━━━━━━━\u001b[0m\u001b[37m\u001b[0m \u001b[1m0s\u001b[0m 5ms/step - accuracy: 0.6564 - loss: 0.5590 - val_accuracy: 0.5000 - val_loss: 0.8798\n",
      "Epoch 9/10\n",
      "\u001b[1m20/20\u001b[0m \u001b[32m━━━━━━━━━━━━━━━━━━━━\u001b[0m\u001b[37m\u001b[0m \u001b[1m0s\u001b[0m 5ms/step - accuracy: 0.7413 - loss: 0.5353 - val_accuracy: 0.5000 - val_loss: 0.7786\n",
      "Epoch 10/10\n",
      "\u001b[1m20/20\u001b[0m \u001b[32m━━━━━━━━━━━━━━━━━━━━\u001b[0m\u001b[37m\u001b[0m \u001b[1m0s\u001b[0m 5ms/step - accuracy: 0.7125 - loss: 0.4998 - val_accuracy: 0.4000 - val_loss: 0.7709\n"
     ]
    },
    {
     "data": {
      "text/plain": [
       "<keras.src.callbacks.history.History at 0x1f1d05d9940>"
      ]
     },
     "execution_count": 24,
     "metadata": {},
     "output_type": "execute_result"
    }
   ],
   "source": [
    "model.fit(x_train , y_train , epochs = 10 , batch_size = 2 , validation_data = (x_test,y_test))"
   ]
  },
  {
   "cell_type": "markdown",
   "id": "0142eaeb-367f-482a-a1b8-3191bb6b00db",
   "metadata": {},
   "source": [
    "**Evaluate RNN Model**"
   ]
  },
  {
   "cell_type": "code",
   "execution_count": 25,
   "id": "32fd6510-4211-48cd-9592-07a7e37bbcb6",
   "metadata": {},
   "outputs": [
    {
     "name": "stdout",
     "output_type": "stream",
     "text": [
      "\u001b[1m1/1\u001b[0m \u001b[32m━━━━━━━━━━━━━━━━━━━━\u001b[0m\u001b[37m\u001b[0m \u001b[1m0s\u001b[0m 253ms/step - accuracy: 0.4000 - loss: 0.7709\n",
      "Test Loss:0.7708985209465027 Test Accuracy : 0.4000000059604645\n"
     ]
    }
   ],
   "source": [
    "test_loss , test_accuracy = model.evaluate(x_test,y_test)\n",
    "print(f\"Test Loss:{test_loss} Test Accuracy : {test_accuracy}\")"
   ]
  },
  {
   "cell_type": "markdown",
   "id": "97c63126-896f-4cd4-b11e-2c1077445ebe",
   "metadata": {},
   "source": [
    "**Cümle Sınıflandırma Çalışması**"
   ]
  },
  {
   "cell_type": "code",
   "execution_count": 29,
   "id": "e596d7bc-e0be-4bfa-b49e-eb8333263957",
   "metadata": {},
   "outputs": [],
   "source": [
    "def classify_sentence(sentence):\n",
    "    seq = tokenizer.texts_to_sequences([sentence])\n",
    "    padded_seq = pad_sequences(seq , maxlen = maxlen)\n",
    "    prediction = model.predict(padded_seq)\n",
    "\n",
    "    prediction_class = (prediction > 0.5).astype(int)\n",
    "    label = \"positive\" if prediction_class[0][0] == 1 else \"negative\"\n",
    "\n",
    "    return label"
   ]
  },
  {
   "cell_type": "code",
   "execution_count": 30,
   "id": "0f04c059-96ec-4857-be60-648112785ebd",
   "metadata": {},
   "outputs": [
    {
     "name": "stdout",
     "output_type": "stream",
     "text": [
      "\u001b[1m1/1\u001b[0m \u001b[32m━━━━━━━━━━━━━━━━━━━━\u001b[0m\u001b[37m\u001b[0m \u001b[1m0s\u001b[0m 34ms/step\n",
      "Result:positive\n"
     ]
    }
   ],
   "source": [
    "sentence = \"Restaurant çok temiz ve yemekler çok güzeldi.\"\n",
    "result = classify_sentence(sentence)\n",
    "print(f\"Result:{result}\")"
   ]
  },
  {
   "cell_type": "code",
   "execution_count": null,
   "id": "b62a6c56-9681-4650-9aeb-518c00bae77d",
   "metadata": {},
   "outputs": [],
   "source": []
  }
 ],
 "metadata": {
  "kernelspec": {
   "display_name": "Python 3 (ipykernel)",
   "language": "python",
   "name": "python3"
  },
  "language_info": {
   "codemirror_mode": {
    "name": "ipython",
    "version": 3
   },
   "file_extension": ".py",
   "mimetype": "text/x-python",
   "name": "python",
   "nbconvert_exporter": "python",
   "pygments_lexer": "ipython3",
   "version": "3.12.7"
  }
 },
 "nbformat": 4,
 "nbformat_minor": 5
}
